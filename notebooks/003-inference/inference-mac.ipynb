{
 "cells": [
  {
   "cell_type": "code",
   "execution_count": 1,
   "metadata": {},
   "outputs": [],
   "source": [
    "%reload_ext autoreload\n",
    "%autoreload 2"
   ]
  },
  {
   "cell_type": "code",
   "execution_count": 2,
   "metadata": {},
   "outputs": [],
   "source": [
    "from recipe_gantt.data import get_alpaca_prompt, get_recipe, INSTRUCTION\n",
    "\n",
    "from llama_cpp import Llama"
   ]
  },
  {
   "cell_type": "code",
   "execution_count": 3,
   "metadata": {},
   "outputs": [],
   "source": [
    "def get_prompt(url):\n",
    "    recipe = get_recipe(url)\n",
    "    record = {}\n",
    "    record[\"instruction\"] = INSTRUCTION\n",
    "    record[\"input\"] = recipe\n",
    "    prompt = get_alpaca_prompt(record)\n",
    "    return prompt"
   ]
  },
  {
   "cell_type": "code",
   "execution_count": 32,
   "metadata": {},
   "outputs": [],
   "source": [
    "url = \"https://www.bbcgoodfood.com/recipes/chilli-con-carne-recipe\""
   ]
  },
  {
   "cell_type": "code",
   "execution_count": 38,
   "metadata": {},
   "outputs": [
    {
     "name": "stderr",
     "output_type": "stream",
     "text": [
      "llama_model_loader: loaded meta data with 21 key-value pairs and 291 tensors from merged_ggml-model-q4_0.gguf (version GGUF V3 (latest))\n",
      "llama_model_loader: Dumping metadata keys/values. Note: KV overrides do not apply in this output.\n",
      "llama_model_loader: - kv   0:                       general.architecture str              = llama\n",
      "llama_model_loader: - kv   1:                               general.name str              = qlora-out\n",
      "llama_model_loader: - kv   2:                       llama.context_length u32              = 32768\n",
      "llama_model_loader: - kv   3:                     llama.embedding_length u32              = 4096\n",
      "llama_model_loader: - kv   4:                          llama.block_count u32              = 32\n",
      "llama_model_loader: - kv   5:                  llama.feed_forward_length u32              = 14336\n",
      "llama_model_loader: - kv   6:                 llama.rope.dimension_count u32              = 128\n",
      "llama_model_loader: - kv   7:                 llama.attention.head_count u32              = 32\n",
      "llama_model_loader: - kv   8:              llama.attention.head_count_kv u32              = 8\n",
      "llama_model_loader: - kv   9:     llama.attention.layer_norm_rms_epsilon f32              = 0.000010\n",
      "llama_model_loader: - kv  10:                       llama.rope.freq_base f32              = 10000.000000\n",
      "llama_model_loader: - kv  11:                          general.file_type u32              = 2\n",
      "llama_model_loader: - kv  12:                       tokenizer.ggml.model str              = llama\n",
      "llama_model_loader: - kv  13:                      tokenizer.ggml.tokens arr[str,32000]   = [\"<unk>\", \"<s>\", \"</s>\", \"<0x00>\", \"<...\n",
      "llama_model_loader: - kv  14:                      tokenizer.ggml.scores arr[f32,32000]   = [0.000000, 0.000000, 0.000000, 0.0000...\n",
      "llama_model_loader: - kv  15:                  tokenizer.ggml.token_type arr[i32,32000]   = [2, 3, 3, 6, 6, 6, 6, 6, 6, 6, 6, 6, ...\n",
      "llama_model_loader: - kv  16:                tokenizer.ggml.bos_token_id u32              = 1\n",
      "llama_model_loader: - kv  17:                tokenizer.ggml.eos_token_id u32              = 2\n",
      "llama_model_loader: - kv  18:               tokenizer.ggml.add_bos_token bool             = true\n",
      "llama_model_loader: - kv  19:               tokenizer.ggml.add_eos_token bool             = false\n",
      "llama_model_loader: - kv  20:               general.quantization_version u32              = 2\n",
      "llama_model_loader: - type  f32:   65 tensors\n",
      "llama_model_loader: - type q4_0:  225 tensors\n",
      "llama_model_loader: - type q6_K:    1 tensors\n",
      "llm_load_vocab: special tokens definition check successful ( 259/32000 ).\n",
      "llm_load_print_meta: format           = GGUF V3 (latest)\n",
      "llm_load_print_meta: arch             = llama\n",
      "llm_load_print_meta: vocab type       = SPM\n",
      "llm_load_print_meta: n_vocab          = 32000\n",
      "llm_load_print_meta: n_merges         = 0\n",
      "llm_load_print_meta: n_ctx_train      = 32768\n",
      "llm_load_print_meta: n_embd           = 4096\n",
      "llm_load_print_meta: n_head           = 32\n",
      "llm_load_print_meta: n_head_kv        = 8\n",
      "llm_load_print_meta: n_layer          = 32\n",
      "llm_load_print_meta: n_rot            = 128\n",
      "llm_load_print_meta: n_embd_head_k    = 128\n",
      "llm_load_print_meta: n_embd_head_v    = 128\n",
      "llm_load_print_meta: n_gqa            = 4\n",
      "llm_load_print_meta: n_embd_k_gqa     = 1024\n",
      "llm_load_print_meta: n_embd_v_gqa     = 1024\n",
      "llm_load_print_meta: f_norm_eps       = 0.0e+00\n",
      "llm_load_print_meta: f_norm_rms_eps   = 1.0e-05\n",
      "llm_load_print_meta: f_clamp_kqv      = 0.0e+00\n",
      "llm_load_print_meta: f_max_alibi_bias = 0.0e+00\n",
      "llm_load_print_meta: n_ff             = 14336\n",
      "llm_load_print_meta: n_expert         = 0\n",
      "llm_load_print_meta: n_expert_used    = 0\n",
      "llm_load_print_meta: rope scaling     = linear\n",
      "llm_load_print_meta: freq_base_train  = 10000.0\n",
      "llm_load_print_meta: freq_scale_train = 1\n",
      "llm_load_print_meta: n_yarn_orig_ctx  = 32768\n",
      "llm_load_print_meta: rope_finetuned   = unknown\n",
      "llm_load_print_meta: model type       = 7B\n",
      "llm_load_print_meta: model ftype      = Q4_0\n",
      "llm_load_print_meta: model params     = 7.24 B\n",
      "llm_load_print_meta: model size       = 3.83 GiB (4.54 BPW) \n",
      "llm_load_print_meta: general.name     = qlora-out\n",
      "llm_load_print_meta: BOS token        = 1 '<s>'\n",
      "llm_load_print_meta: EOS token        = 2 '</s>'\n",
      "llm_load_print_meta: UNK token        = 0 '<unk>'\n",
      "llm_load_print_meta: LF token         = 13 '<0x0A>'\n",
      "llm_load_tensors: ggml ctx size       =    0.11 MiB\n",
      "ggml_backend_metal_buffer_from_ptr: allocated buffer, size =  3918.58 MiB, (14071.48 / 21845.34)\n",
      "llm_load_tensors: system memory used  = 3917.98 MiB\n",
      "..................................................................................................\n",
      "llama_new_context_with_model: n_ctx      = 32768\n",
      "llama_new_context_with_model: freq_base  = 10000.0\n",
      "llama_new_context_with_model: freq_scale = 1\n",
      "ggml_metal_init: allocating\n",
      "ggml_metal_init: found device: Apple M1 Pro\n",
      "ggml_metal_init: picking default device: Apple M1 Pro\n",
      "ggml_metal_init: default.metallib not found, loading from source\n",
      "ggml_metal_init: GGML_METAL_PATH_RESOURCES = nil\n",
      "ggml_metal_init: loading '/Users/JBremner/miniconda3/envs/recipe-gantt/lib/python3.9/site-packages/llama_cpp/ggml-metal.metal'\n",
      "ggml_metal_init: GPU name:   Apple M1 Pro\n",
      "ggml_metal_init: GPU family: MTLGPUFamilyApple7 (1007)\n",
      "ggml_metal_init: hasUnifiedMemory              = true\n",
      "ggml_metal_init: recommendedMaxWorkingSetSize  = 22906.50 MB\n",
      "ggml_metal_init: maxTransferRate               = built-in GPU\n",
      "ggml_backend_metal_buffer_type_alloc_buffer: allocated buffer, size =  4096.00 MiB, (18167.48 / 21845.34)\n",
      "llama_new_context_with_model: KV self size  = 4096.00 MiB, K (f16): 2048.00 MiB, V (f16): 2048.00 MiB\n",
      "ggml_backend_metal_buffer_type_alloc_buffer: allocated buffer, size =     0.02 MiB, (18167.50 / 21845.34)\n",
      "llama_build_graph: non-view tensors processed: 676/676\n",
      "llama_new_context_with_model: compute buffer total size = 2139.19 MiB\n",
      "ggml_backend_metal_buffer_type_alloc_buffer: allocated buffer, size =  2136.02 MiB, (20303.50 / 21845.34)\n",
      "ggml_metal_free: deallocating\n"
     ]
    }
   ],
   "source": [
    "llm = Llama(\n",
    "    model_path=\"merged_ggml-model-q4_0.gguf\", n_ctx=0, n_gpu_layers=1, verbose=False\n",
    ")\n",
    "prompt = get_prompt(url)\n",
    "output = llm(prompt, max_tokens=4096, echo=False)\n",
    "output = output[\"choices\"][0][\"text\"]"
   ]
  },
  {
   "cell_type": "code",
   "execution_count": 39,
   "metadata": {},
   "outputs": [
    {
     "name": "stdout",
     "output_type": "stream",
     "text": [
      " \tPrepare your vegetables. Chop 1 large onion into small dice, about 5mm square. The easiest way to do this is to cut the onion in half from root to tip, peel it and slice each half into thick matchsticks lengthways, not quite cutting all the way to the root end so they are still held together. Slice across the matchsticks into neat dice.\tCut 1 red pepper in half lengthways, remove stalk and wash the seeds away, then chop. Peel and finely chop 2 garlic cloves.\tStart cooking. Put your pan on the hob over a medium heat. Add 1 tbsp oil and leave it for 1-2 minutes until hot (a little longer for an electric hob).\tAdd the onion and cook, stirring fairly frequently, for about 5 minutes, or until the onion is soft, squidgy and slightly translucent.\tTip in the garlic, red pepper, 1 heaped tsp hot chilli powder or 1 level tbsp mild chilli powder, 1 tsp paprika and 1 tsp ground cumin.\tGive it a good stir, then leave it to cook for another 5 minutes, stirring occasionally.\tBrown 500g lean minced beef. Turn the heat up a bit, add the meat to the pan and break it up with your spoon or spatula. The mix should sizzle a bit when you add the mince.\tKeep stirring and prodding for at least 5 minutes, until all the mince is in uniform, mince-sized lumps and there are no more pink bits. Make sure you keep the heat hot enough for the meat to fry and become brown, rather than just stew.\tMake the sauce. Crumble 1 beef stock cube into 300ml hot water. Pour this into the pan with the mince mixture.\tAdd a 400g can of chopped tomatoes. Tip in ½ tsp dried marjoram, 1 tsp sugar and add a good shake of salt and pepper. Squirt in about 2 tbsp tomato purée and stir the sauce well.\tSimmer it gently. Bring the whole thing to the boil, give it a good stir and put a lid on the pan. Turn down the heat until it is gently bubbling and leave it for 20 minutes.\tCheck on the pan occasionally to stir it and make sure the sauce doesn’t catch on the bottom of the pan or isn’t drying out. If it is, add a couple of tablespoons of water and make sure that the heat really is low enough. After simmering gently, the saucy mince mixture should look thick, moist and juicy.\tDrain and rinse a 410g can of red kidney beans in a sieve and stir them into the chilli pot. Bring to the boil again, and gently bubble without the lid for another 10 minutes, adding a little more water if it looks too dry.\tTaste a bit of the chilli and season. It will probably take a lot more seasoning than you think.\tNow replace the lid, turn off the heat and leave your chilli to stand for 10 minutes before serving. This is really important as it allows the flavours to mingle.\tServe with soured cream and plain boiled long grain rice.\n",
      "1 large onion\tX\t\tX\tX\t\t\t\t\t\t\t\t\t\t\t\n",
      "1 red pepper\t\tX\t\t\tX\t\t\t\t\t\t\t\t\t\t\n",
      "2 garlic cloves\t\tX\t\t\tX\t\t\t\t\t\t\t\t\t\t\n",
      "1 tbsp oil\t\t\tX\tX\t\t\t\t\t\t\t\t\t\t\t\n",
      "1 heaped tsp hot chilli powder or 1 level tbsp mild chilli powder (or 1 tsp paprika)\t\t\t\t\tX\t\t\t\t\t\t\t\t\t\t\n",
      "1 tsp ground cumin\t\t\t\t\tX\t\t\t\t\t\t\t\t\t\t\n",
      "500g lean minced beef\t\t\t\t\t\t\tX\tX\tX\tX\tX\tX\tX\tX\tX\n",
      "1 beef stock cube\t\t\t\t\t\t\t\t\tX\tX\t\t\t\t\t\n",
      "400g can chopped tomatoes\t\t\t\t\t\t\t\t\t\tX\tX\t\t\t\t\n",
      "½ tsp dried marjoram\t\t\t\t\t\t\t\t\t\tX\tX\t\t\t\t\n",
      "1 tsp sugar\t\t\t\t\t\t\t\t\t\tX\tX\t\t\t\t\n",
      "2 tbsp tomato purée\t\t\t\t\t\t\t\t\t\tX\tX\t\t\t\t\n",
      "410g can red kidney beans\t\t\t\t\t\t\t\t\t\t\t\t\tX\tX\tX\n",
      "plain boiled long grain rice, to serve\t\t\t\t\t\t\t\t\t\t\t\t\t\t\tX\n",
      "soured cream, to serve\t\t\t\t\t\t\t\t\t\t\t\t\t\t\tX\n",
      "\n"
     ]
    }
   ],
   "source": [
    "print(output)"
   ]
  },
  {
   "cell_type": "code",
   "execution_count": 41,
   "metadata": {},
   "outputs": [],
   "source": [
    "with open(\"recipe-gantt.tsv\", \"w\") as f:\n",
    "    f.write(output)"
   ]
  },
  {
   "cell_type": "code",
   "execution_count": 42,
   "metadata": {},
   "outputs": [
    {
     "data": {
      "text/html": [
       "<div>\n",
       "<style scoped>\n",
       "    .dataframe tbody tr th:only-of-type {\n",
       "        vertical-align: middle;\n",
       "    }\n",
       "\n",
       "    .dataframe tbody tr th {\n",
       "        vertical-align: top;\n",
       "    }\n",
       "\n",
       "    .dataframe thead th {\n",
       "        text-align: right;\n",
       "    }\n",
       "</style>\n",
       "<table border=\"1\" class=\"dataframe\">\n",
       "  <thead>\n",
       "    <tr style=\"text-align: right;\">\n",
       "      <th></th>\n",
       "      <th></th>\n",
       "      <th>Prepare your vegetables. Chop 1 large onion into small dice, about 5mm square. The easiest way to do this is to cut the onion in half from root to tip, peel it and slice each half into thick matchsticks lengthways, not quite cutting all the way to the root end so they are still held together. Slice across the matchsticks into neat dice.</th>\n",
       "      <th>Cut 1 red pepper in half lengthways, remove stalk and wash the seeds away, then chop. Peel and finely chop 2 garlic cloves.</th>\n",
       "      <th>Start cooking. Put your pan on the hob over a medium heat. Add 1 tbsp oil and leave it for 1-2 minutes until hot (a little longer for an electric hob).</th>\n",
       "      <th>Add the onion and cook, stirring fairly frequently, for about 5 minutes, or until the onion is soft, squidgy and slightly translucent.</th>\n",
       "      <th>Tip in the garlic, red pepper, 1 heaped tsp hot chilli powder or 1 level tbsp mild chilli powder, 1 tsp paprika and 1 tsp ground cumin.</th>\n",
       "      <th>Give it a good stir, then leave it to cook for another 5 minutes, stirring occasionally.</th>\n",
       "      <th>Brown 500g lean minced beef. Turn the heat up a bit, add the meat to the pan and break it up with your spoon or spatula. The mix should sizzle a bit when you add the mince.</th>\n",
       "      <th>Keep stirring and prodding for at least 5 minutes, until all the mince is in uniform, mince-sized lumps and there are no more pink bits. Make sure you keep the heat hot enough for the meat to fry and become brown, rather than just stew.</th>\n",
       "      <th>Make the sauce. Crumble 1 beef stock cube into 300ml hot water. Pour this into the pan with the mince mixture.</th>\n",
       "      <th>Add a 400g can of chopped tomatoes. Tip in ½ tsp dried marjoram, 1 tsp sugar and add a good shake of salt and pepper. Squirt in about 2 tbsp tomato purée and stir the sauce well.</th>\n",
       "      <th>Simmer it gently. Bring the whole thing to the boil, give it a good stir and put a lid on the pan. Turn down the heat until it is gently bubbling and leave it for 20 minutes.</th>\n",
       "      <th>Check on the pan occasionally to stir it and make sure the sauce doesn’t catch on the bottom of the pan or isn’t drying out. If it is, add a couple of tablespoons of water and make sure that the heat really is low enough. After simmering gently, the saucy mince mixture should look thick, moist and juicy.</th>\n",
       "      <th>Drain and rinse a 410g can of red kidney beans in a sieve and stir them into the chilli pot. Bring to the boil again, and gently bubble without the lid for another 10 minutes, adding a little more water if it looks too dry.</th>\n",
       "      <th>Taste a bit of the chilli and season. It will probably take a lot more seasoning than you think.</th>\n",
       "      <th>Now replace the lid, turn off the heat and leave your chilli to stand for 10 minutes before serving. This is really important as it allows the flavours to mingle.</th>\n",
       "      <th>Serve with soured cream and plain boiled long grain rice.</th>\n",
       "    </tr>\n",
       "  </thead>\n",
       "  <tbody>\n",
       "    <tr>\n",
       "      <th>0</th>\n",
       "      <td>1 large onion</td>\n",
       "      <td>X</td>\n",
       "      <td>NaN</td>\n",
       "      <td>X</td>\n",
       "      <td>X</td>\n",
       "      <td>NaN</td>\n",
       "      <td>NaN</td>\n",
       "      <td>NaN</td>\n",
       "      <td>NaN</td>\n",
       "      <td>NaN</td>\n",
       "      <td>NaN</td>\n",
       "      <td>NaN</td>\n",
       "      <td>NaN</td>\n",
       "      <td>NaN</td>\n",
       "      <td>NaN</td>\n",
       "      <td>NaN</td>\n",
       "      <td>NaN</td>\n",
       "    </tr>\n",
       "    <tr>\n",
       "      <th>1</th>\n",
       "      <td>1 red pepper</td>\n",
       "      <td>NaN</td>\n",
       "      <td>X</td>\n",
       "      <td>NaN</td>\n",
       "      <td>NaN</td>\n",
       "      <td>X</td>\n",
       "      <td>NaN</td>\n",
       "      <td>NaN</td>\n",
       "      <td>NaN</td>\n",
       "      <td>NaN</td>\n",
       "      <td>NaN</td>\n",
       "      <td>NaN</td>\n",
       "      <td>NaN</td>\n",
       "      <td>NaN</td>\n",
       "      <td>NaN</td>\n",
       "      <td>NaN</td>\n",
       "      <td>NaN</td>\n",
       "    </tr>\n",
       "    <tr>\n",
       "      <th>2</th>\n",
       "      <td>2 garlic cloves</td>\n",
       "      <td>NaN</td>\n",
       "      <td>X</td>\n",
       "      <td>NaN</td>\n",
       "      <td>NaN</td>\n",
       "      <td>X</td>\n",
       "      <td>NaN</td>\n",
       "      <td>NaN</td>\n",
       "      <td>NaN</td>\n",
       "      <td>NaN</td>\n",
       "      <td>NaN</td>\n",
       "      <td>NaN</td>\n",
       "      <td>NaN</td>\n",
       "      <td>NaN</td>\n",
       "      <td>NaN</td>\n",
       "      <td>NaN</td>\n",
       "      <td>NaN</td>\n",
       "    </tr>\n",
       "    <tr>\n",
       "      <th>3</th>\n",
       "      <td>1 tbsp oil</td>\n",
       "      <td>NaN</td>\n",
       "      <td>NaN</td>\n",
       "      <td>X</td>\n",
       "      <td>X</td>\n",
       "      <td>NaN</td>\n",
       "      <td>NaN</td>\n",
       "      <td>NaN</td>\n",
       "      <td>NaN</td>\n",
       "      <td>NaN</td>\n",
       "      <td>NaN</td>\n",
       "      <td>NaN</td>\n",
       "      <td>NaN</td>\n",
       "      <td>NaN</td>\n",
       "      <td>NaN</td>\n",
       "      <td>NaN</td>\n",
       "      <td>NaN</td>\n",
       "    </tr>\n",
       "    <tr>\n",
       "      <th>4</th>\n",
       "      <td>1 heaped tsp hot chilli powder or 1 level tbsp...</td>\n",
       "      <td>NaN</td>\n",
       "      <td>NaN</td>\n",
       "      <td>NaN</td>\n",
       "      <td>NaN</td>\n",
       "      <td>X</td>\n",
       "      <td>NaN</td>\n",
       "      <td>NaN</td>\n",
       "      <td>NaN</td>\n",
       "      <td>NaN</td>\n",
       "      <td>NaN</td>\n",
       "      <td>NaN</td>\n",
       "      <td>NaN</td>\n",
       "      <td>NaN</td>\n",
       "      <td>NaN</td>\n",
       "      <td>NaN</td>\n",
       "      <td>NaN</td>\n",
       "    </tr>\n",
       "    <tr>\n",
       "      <th>5</th>\n",
       "      <td>1 tsp ground cumin</td>\n",
       "      <td>NaN</td>\n",
       "      <td>NaN</td>\n",
       "      <td>NaN</td>\n",
       "      <td>NaN</td>\n",
       "      <td>X</td>\n",
       "      <td>NaN</td>\n",
       "      <td>NaN</td>\n",
       "      <td>NaN</td>\n",
       "      <td>NaN</td>\n",
       "      <td>NaN</td>\n",
       "      <td>NaN</td>\n",
       "      <td>NaN</td>\n",
       "      <td>NaN</td>\n",
       "      <td>NaN</td>\n",
       "      <td>NaN</td>\n",
       "      <td>NaN</td>\n",
       "    </tr>\n",
       "    <tr>\n",
       "      <th>6</th>\n",
       "      <td>500g lean minced beef</td>\n",
       "      <td>NaN</td>\n",
       "      <td>NaN</td>\n",
       "      <td>NaN</td>\n",
       "      <td>NaN</td>\n",
       "      <td>NaN</td>\n",
       "      <td>NaN</td>\n",
       "      <td>X</td>\n",
       "      <td>X</td>\n",
       "      <td>X</td>\n",
       "      <td>X</td>\n",
       "      <td>X</td>\n",
       "      <td>X</td>\n",
       "      <td>X</td>\n",
       "      <td>X</td>\n",
       "      <td>X</td>\n",
       "      <td>NaN</td>\n",
       "    </tr>\n",
       "    <tr>\n",
       "      <th>7</th>\n",
       "      <td>1 beef stock cube</td>\n",
       "      <td>NaN</td>\n",
       "      <td>NaN</td>\n",
       "      <td>NaN</td>\n",
       "      <td>NaN</td>\n",
       "      <td>NaN</td>\n",
       "      <td>NaN</td>\n",
       "      <td>NaN</td>\n",
       "      <td>NaN</td>\n",
       "      <td>X</td>\n",
       "      <td>X</td>\n",
       "      <td>NaN</td>\n",
       "      <td>NaN</td>\n",
       "      <td>NaN</td>\n",
       "      <td>NaN</td>\n",
       "      <td>NaN</td>\n",
       "      <td>NaN</td>\n",
       "    </tr>\n",
       "    <tr>\n",
       "      <th>8</th>\n",
       "      <td>400g can chopped tomatoes</td>\n",
       "      <td>NaN</td>\n",
       "      <td>NaN</td>\n",
       "      <td>NaN</td>\n",
       "      <td>NaN</td>\n",
       "      <td>NaN</td>\n",
       "      <td>NaN</td>\n",
       "      <td>NaN</td>\n",
       "      <td>NaN</td>\n",
       "      <td>NaN</td>\n",
       "      <td>X</td>\n",
       "      <td>X</td>\n",
       "      <td>NaN</td>\n",
       "      <td>NaN</td>\n",
       "      <td>NaN</td>\n",
       "      <td>NaN</td>\n",
       "      <td>NaN</td>\n",
       "    </tr>\n",
       "    <tr>\n",
       "      <th>9</th>\n",
       "      <td>½ tsp dried marjoram</td>\n",
       "      <td>NaN</td>\n",
       "      <td>NaN</td>\n",
       "      <td>NaN</td>\n",
       "      <td>NaN</td>\n",
       "      <td>NaN</td>\n",
       "      <td>NaN</td>\n",
       "      <td>NaN</td>\n",
       "      <td>NaN</td>\n",
       "      <td>NaN</td>\n",
       "      <td>X</td>\n",
       "      <td>X</td>\n",
       "      <td>NaN</td>\n",
       "      <td>NaN</td>\n",
       "      <td>NaN</td>\n",
       "      <td>NaN</td>\n",
       "      <td>NaN</td>\n",
       "    </tr>\n",
       "    <tr>\n",
       "      <th>10</th>\n",
       "      <td>1 tsp sugar</td>\n",
       "      <td>NaN</td>\n",
       "      <td>NaN</td>\n",
       "      <td>NaN</td>\n",
       "      <td>NaN</td>\n",
       "      <td>NaN</td>\n",
       "      <td>NaN</td>\n",
       "      <td>NaN</td>\n",
       "      <td>NaN</td>\n",
       "      <td>NaN</td>\n",
       "      <td>X</td>\n",
       "      <td>X</td>\n",
       "      <td>NaN</td>\n",
       "      <td>NaN</td>\n",
       "      <td>NaN</td>\n",
       "      <td>NaN</td>\n",
       "      <td>NaN</td>\n",
       "    </tr>\n",
       "    <tr>\n",
       "      <th>11</th>\n",
       "      <td>2 tbsp tomato purée</td>\n",
       "      <td>NaN</td>\n",
       "      <td>NaN</td>\n",
       "      <td>NaN</td>\n",
       "      <td>NaN</td>\n",
       "      <td>NaN</td>\n",
       "      <td>NaN</td>\n",
       "      <td>NaN</td>\n",
       "      <td>NaN</td>\n",
       "      <td>NaN</td>\n",
       "      <td>X</td>\n",
       "      <td>X</td>\n",
       "      <td>NaN</td>\n",
       "      <td>NaN</td>\n",
       "      <td>NaN</td>\n",
       "      <td>NaN</td>\n",
       "      <td>NaN</td>\n",
       "    </tr>\n",
       "    <tr>\n",
       "      <th>12</th>\n",
       "      <td>410g can red kidney beans</td>\n",
       "      <td>NaN</td>\n",
       "      <td>NaN</td>\n",
       "      <td>NaN</td>\n",
       "      <td>NaN</td>\n",
       "      <td>NaN</td>\n",
       "      <td>NaN</td>\n",
       "      <td>NaN</td>\n",
       "      <td>NaN</td>\n",
       "      <td>NaN</td>\n",
       "      <td>NaN</td>\n",
       "      <td>NaN</td>\n",
       "      <td>NaN</td>\n",
       "      <td>X</td>\n",
       "      <td>X</td>\n",
       "      <td>X</td>\n",
       "      <td>NaN</td>\n",
       "    </tr>\n",
       "    <tr>\n",
       "      <th>13</th>\n",
       "      <td>plain boiled long grain rice, to serve</td>\n",
       "      <td>NaN</td>\n",
       "      <td>NaN</td>\n",
       "      <td>NaN</td>\n",
       "      <td>NaN</td>\n",
       "      <td>NaN</td>\n",
       "      <td>NaN</td>\n",
       "      <td>NaN</td>\n",
       "      <td>NaN</td>\n",
       "      <td>NaN</td>\n",
       "      <td>NaN</td>\n",
       "      <td>NaN</td>\n",
       "      <td>NaN</td>\n",
       "      <td>NaN</td>\n",
       "      <td>NaN</td>\n",
       "      <td>X</td>\n",
       "      <td>NaN</td>\n",
       "    </tr>\n",
       "    <tr>\n",
       "      <th>14</th>\n",
       "      <td>soured cream, to serve</td>\n",
       "      <td>NaN</td>\n",
       "      <td>NaN</td>\n",
       "      <td>NaN</td>\n",
       "      <td>NaN</td>\n",
       "      <td>NaN</td>\n",
       "      <td>NaN</td>\n",
       "      <td>NaN</td>\n",
       "      <td>NaN</td>\n",
       "      <td>NaN</td>\n",
       "      <td>NaN</td>\n",
       "      <td>NaN</td>\n",
       "      <td>NaN</td>\n",
       "      <td>NaN</td>\n",
       "      <td>NaN</td>\n",
       "      <td>X</td>\n",
       "      <td>NaN</td>\n",
       "    </tr>\n",
       "  </tbody>\n",
       "</table>\n",
       "</div>"
      ],
      "text/plain": [
       "                                                       \\\n",
       "0                                       1 large onion   \n",
       "1                                        1 red pepper   \n",
       "2                                     2 garlic cloves   \n",
       "3                                          1 tbsp oil   \n",
       "4   1 heaped tsp hot chilli powder or 1 level tbsp...   \n",
       "5                                  1 tsp ground cumin   \n",
       "6                               500g lean minced beef   \n",
       "7                                   1 beef stock cube   \n",
       "8                           400g can chopped tomatoes   \n",
       "9                                ½ tsp dried marjoram   \n",
       "10                                        1 tsp sugar   \n",
       "11                                2 tbsp tomato purée   \n",
       "12                          410g can red kidney beans   \n",
       "13             plain boiled long grain rice, to serve   \n",
       "14                             soured cream, to serve   \n",
       "\n",
       "   Prepare your vegetables. Chop 1 large onion into small dice, about 5mm square. The easiest way to do this is to cut the onion in half from root to tip, peel it and slice each half into thick matchsticks lengthways, not quite cutting all the way to the root end so they are still held together. Slice across the matchsticks into neat dice.  \\\n",
       "0                                                   X                                                                                                                                                                                                                                                                                                   \n",
       "1                                                 NaN                                                                                                                                                                                                                                                                                                   \n",
       "2                                                 NaN                                                                                                                                                                                                                                                                                                   \n",
       "3                                                 NaN                                                                                                                                                                                                                                                                                                   \n",
       "4                                                 NaN                                                                                                                                                                                                                                                                                                   \n",
       "5                                                 NaN                                                                                                                                                                                                                                                                                                   \n",
       "6                                                 NaN                                                                                                                                                                                                                                                                                                   \n",
       "7                                                 NaN                                                                                                                                                                                                                                                                                                   \n",
       "8                                                 NaN                                                                                                                                                                                                                                                                                                   \n",
       "9                                                 NaN                                                                                                                                                                                                                                                                                                   \n",
       "10                                                NaN                                                                                                                                                                                                                                                                                                   \n",
       "11                                                NaN                                                                                                                                                                                                                                                                                                   \n",
       "12                                                NaN                                                                                                                                                                                                                                                                                                   \n",
       "13                                                NaN                                                                                                                                                                                                                                                                                                   \n",
       "14                                                NaN                                                                                                                                                                                                                                                                                                   \n",
       "\n",
       "   Cut 1 red pepper in half lengthways, remove stalk and wash the seeds away, then chop. Peel and finely chop 2 garlic cloves.  \\\n",
       "0                                                 NaN                                                                            \n",
       "1                                                   X                                                                            \n",
       "2                                                   X                                                                            \n",
       "3                                                 NaN                                                                            \n",
       "4                                                 NaN                                                                            \n",
       "5                                                 NaN                                                                            \n",
       "6                                                 NaN                                                                            \n",
       "7                                                 NaN                                                                            \n",
       "8                                                 NaN                                                                            \n",
       "9                                                 NaN                                                                            \n",
       "10                                                NaN                                                                            \n",
       "11                                                NaN                                                                            \n",
       "12                                                NaN                                                                            \n",
       "13                                                NaN                                                                            \n",
       "14                                                NaN                                                                            \n",
       "\n",
       "   Start cooking. Put your pan on the hob over a medium heat. Add 1 tbsp oil and leave it for 1-2 minutes until hot (a little longer for an electric hob).  \\\n",
       "0                                                   X                                                                                                        \n",
       "1                                                 NaN                                                                                                        \n",
       "2                                                 NaN                                                                                                        \n",
       "3                                                   X                                                                                                        \n",
       "4                                                 NaN                                                                                                        \n",
       "5                                                 NaN                                                                                                        \n",
       "6                                                 NaN                                                                                                        \n",
       "7                                                 NaN                                                                                                        \n",
       "8                                                 NaN                                                                                                        \n",
       "9                                                 NaN                                                                                                        \n",
       "10                                                NaN                                                                                                        \n",
       "11                                                NaN                                                                                                        \n",
       "12                                                NaN                                                                                                        \n",
       "13                                                NaN                                                                                                        \n",
       "14                                                NaN                                                                                                        \n",
       "\n",
       "   Add the onion and cook, stirring fairly frequently, for about 5 minutes, or until the onion is soft, squidgy and slightly translucent.  \\\n",
       "0                                                   X                                                                                       \n",
       "1                                                 NaN                                                                                       \n",
       "2                                                 NaN                                                                                       \n",
       "3                                                   X                                                                                       \n",
       "4                                                 NaN                                                                                       \n",
       "5                                                 NaN                                                                                       \n",
       "6                                                 NaN                                                                                       \n",
       "7                                                 NaN                                                                                       \n",
       "8                                                 NaN                                                                                       \n",
       "9                                                 NaN                                                                                       \n",
       "10                                                NaN                                                                                       \n",
       "11                                                NaN                                                                                       \n",
       "12                                                NaN                                                                                       \n",
       "13                                                NaN                                                                                       \n",
       "14                                                NaN                                                                                       \n",
       "\n",
       "   Tip in the garlic, red pepper, 1 heaped tsp hot chilli powder or 1 level tbsp mild chilli powder, 1 tsp paprika and 1 tsp ground cumin.  \\\n",
       "0                                                 NaN                                                                                        \n",
       "1                                                   X                                                                                        \n",
       "2                                                   X                                                                                        \n",
       "3                                                 NaN                                                                                        \n",
       "4                                                   X                                                                                        \n",
       "5                                                   X                                                                                        \n",
       "6                                                 NaN                                                                                        \n",
       "7                                                 NaN                                                                                        \n",
       "8                                                 NaN                                                                                        \n",
       "9                                                 NaN                                                                                        \n",
       "10                                                NaN                                                                                        \n",
       "11                                                NaN                                                                                        \n",
       "12                                                NaN                                                                                        \n",
       "13                                                NaN                                                                                        \n",
       "14                                                NaN                                                                                        \n",
       "\n",
       "    Give it a good stir, then leave it to cook for another 5 minutes, stirring occasionally.  \\\n",
       "0                                                 NaN                                          \n",
       "1                                                 NaN                                          \n",
       "2                                                 NaN                                          \n",
       "3                                                 NaN                                          \n",
       "4                                                 NaN                                          \n",
       "5                                                 NaN                                          \n",
       "6                                                 NaN                                          \n",
       "7                                                 NaN                                          \n",
       "8                                                 NaN                                          \n",
       "9                                                 NaN                                          \n",
       "10                                                NaN                                          \n",
       "11                                                NaN                                          \n",
       "12                                                NaN                                          \n",
       "13                                                NaN                                          \n",
       "14                                                NaN                                          \n",
       "\n",
       "   Brown 500g lean minced beef. Turn the heat up a bit, add the meat to the pan and break it up with your spoon or spatula. The mix should sizzle a bit when you add the mince.  \\\n",
       "0                                                 NaN                                                                                                                             \n",
       "1                                                 NaN                                                                                                                             \n",
       "2                                                 NaN                                                                                                                             \n",
       "3                                                 NaN                                                                                                                             \n",
       "4                                                 NaN                                                                                                                             \n",
       "5                                                 NaN                                                                                                                             \n",
       "6                                                   X                                                                                                                             \n",
       "7                                                 NaN                                                                                                                             \n",
       "8                                                 NaN                                                                                                                             \n",
       "9                                                 NaN                                                                                                                             \n",
       "10                                                NaN                                                                                                                             \n",
       "11                                                NaN                                                                                                                             \n",
       "12                                                NaN                                                                                                                             \n",
       "13                                                NaN                                                                                                                             \n",
       "14                                                NaN                                                                                                                             \n",
       "\n",
       "   Keep stirring and prodding for at least 5 minutes, until all the mince is in uniform, mince-sized lumps and there are no more pink bits. Make sure you keep the heat hot enough for the meat to fry and become brown, rather than just stew.  \\\n",
       "0                                                 NaN                                                                                                                                                                                             \n",
       "1                                                 NaN                                                                                                                                                                                             \n",
       "2                                                 NaN                                                                                                                                                                                             \n",
       "3                                                 NaN                                                                                                                                                                                             \n",
       "4                                                 NaN                                                                                                                                                                                             \n",
       "5                                                 NaN                                                                                                                                                                                             \n",
       "6                                                   X                                                                                                                                                                                             \n",
       "7                                                 NaN                                                                                                                                                                                             \n",
       "8                                                 NaN                                                                                                                                                                                             \n",
       "9                                                 NaN                                                                                                                                                                                             \n",
       "10                                                NaN                                                                                                                                                                                             \n",
       "11                                                NaN                                                                                                                                                                                             \n",
       "12                                                NaN                                                                                                                                                                                             \n",
       "13                                                NaN                                                                                                                                                                                             \n",
       "14                                                NaN                                                                                                                                                                                             \n",
       "\n",
       "   Make the sauce. Crumble 1 beef stock cube into 300ml hot water. Pour this into the pan with the mince mixture.  \\\n",
       "0                                                 NaN                                                               \n",
       "1                                                 NaN                                                               \n",
       "2                                                 NaN                                                               \n",
       "3                                                 NaN                                                               \n",
       "4                                                 NaN                                                               \n",
       "5                                                 NaN                                                               \n",
       "6                                                   X                                                               \n",
       "7                                                   X                                                               \n",
       "8                                                 NaN                                                               \n",
       "9                                                 NaN                                                               \n",
       "10                                                NaN                                                               \n",
       "11                                                NaN                                                               \n",
       "12                                                NaN                                                               \n",
       "13                                                NaN                                                               \n",
       "14                                                NaN                                                               \n",
       "\n",
       "   Add a 400g can of chopped tomatoes. Tip in ½ tsp dried marjoram, 1 tsp sugar and add a good shake of salt and pepper. Squirt in about 2 tbsp tomato purée and stir the sauce well.  \\\n",
       "0                                                 NaN                                                                                                                                   \n",
       "1                                                 NaN                                                                                                                                   \n",
       "2                                                 NaN                                                                                                                                   \n",
       "3                                                 NaN                                                                                                                                   \n",
       "4                                                 NaN                                                                                                                                   \n",
       "5                                                 NaN                                                                                                                                   \n",
       "6                                                   X                                                                                                                                   \n",
       "7                                                   X                                                                                                                                   \n",
       "8                                                   X                                                                                                                                   \n",
       "9                                                   X                                                                                                                                   \n",
       "10                                                  X                                                                                                                                   \n",
       "11                                                  X                                                                                                                                   \n",
       "12                                                NaN                                                                                                                                   \n",
       "13                                                NaN                                                                                                                                   \n",
       "14                                                NaN                                                                                                                                   \n",
       "\n",
       "   Simmer it gently. Bring the whole thing to the boil, give it a good stir and put a lid on the pan. Turn down the heat until it is gently bubbling and leave it for 20 minutes.  \\\n",
       "0                                                 NaN                                                                                                                               \n",
       "1                                                 NaN                                                                                                                               \n",
       "2                                                 NaN                                                                                                                               \n",
       "3                                                 NaN                                                                                                                               \n",
       "4                                                 NaN                                                                                                                               \n",
       "5                                                 NaN                                                                                                                               \n",
       "6                                                   X                                                                                                                               \n",
       "7                                                 NaN                                                                                                                               \n",
       "8                                                   X                                                                                                                               \n",
       "9                                                   X                                                                                                                               \n",
       "10                                                  X                                                                                                                               \n",
       "11                                                  X                                                                                                                               \n",
       "12                                                NaN                                                                                                                               \n",
       "13                                                NaN                                                                                                                               \n",
       "14                                                NaN                                                                                                                               \n",
       "\n",
       "   Check on the pan occasionally to stir it and make sure the sauce doesn’t catch on the bottom of the pan or isn’t drying out. If it is, add a couple of tablespoons of water and make sure that the heat really is low enough. After simmering gently, the saucy mince mixture should look thick, moist and juicy.  \\\n",
       "0                                                 NaN                                                                                                                                                                                                                                                                  \n",
       "1                                                 NaN                                                                                                                                                                                                                                                                  \n",
       "2                                                 NaN                                                                                                                                                                                                                                                                  \n",
       "3                                                 NaN                                                                                                                                                                                                                                                                  \n",
       "4                                                 NaN                                                                                                                                                                                                                                                                  \n",
       "5                                                 NaN                                                                                                                                                                                                                                                                  \n",
       "6                                                   X                                                                                                                                                                                                                                                                  \n",
       "7                                                 NaN                                                                                                                                                                                                                                                                  \n",
       "8                                                 NaN                                                                                                                                                                                                                                                                  \n",
       "9                                                 NaN                                                                                                                                                                                                                                                                  \n",
       "10                                                NaN                                                                                                                                                                                                                                                                  \n",
       "11                                                NaN                                                                                                                                                                                                                                                                  \n",
       "12                                                NaN                                                                                                                                                                                                                                                                  \n",
       "13                                                NaN                                                                                                                                                                                                                                                                  \n",
       "14                                                NaN                                                                                                                                                                                                                                                                  \n",
       "\n",
       "   Drain and rinse a 410g can of red kidney beans in a sieve and stir them into the chilli pot. Bring to the boil again, and gently bubble without the lid for another 10 minutes, adding a little more water if it looks too dry.  \\\n",
       "0                                                 NaN                                                                                                                                                                                \n",
       "1                                                 NaN                                                                                                                                                                                \n",
       "2                                                 NaN                                                                                                                                                                                \n",
       "3                                                 NaN                                                                                                                                                                                \n",
       "4                                                 NaN                                                                                                                                                                                \n",
       "5                                                 NaN                                                                                                                                                                                \n",
       "6                                                   X                                                                                                                                                                                \n",
       "7                                                 NaN                                                                                                                                                                                \n",
       "8                                                 NaN                                                                                                                                                                                \n",
       "9                                                 NaN                                                                                                                                                                                \n",
       "10                                                NaN                                                                                                                                                                                \n",
       "11                                                NaN                                                                                                                                                                                \n",
       "12                                                  X                                                                                                                                                                                \n",
       "13                                                NaN                                                                                                                                                                                \n",
       "14                                                NaN                                                                                                                                                                                \n",
       "\n",
       "   Taste a bit of the chilli and season. It will probably take a lot more seasoning than you think.  \\\n",
       "0                                                 NaN                                                 \n",
       "1                                                 NaN                                                 \n",
       "2                                                 NaN                                                 \n",
       "3                                                 NaN                                                 \n",
       "4                                                 NaN                                                 \n",
       "5                                                 NaN                                                 \n",
       "6                                                   X                                                 \n",
       "7                                                 NaN                                                 \n",
       "8                                                 NaN                                                 \n",
       "9                                                 NaN                                                 \n",
       "10                                                NaN                                                 \n",
       "11                                                NaN                                                 \n",
       "12                                                  X                                                 \n",
       "13                                                NaN                                                 \n",
       "14                                                NaN                                                 \n",
       "\n",
       "   Now replace the lid, turn off the heat and leave your chilli to stand for 10 minutes before serving. This is really important as it allows the flavours to mingle.  \\\n",
       "0                                                 NaN                                                                                                                   \n",
       "1                                                 NaN                                                                                                                   \n",
       "2                                                 NaN                                                                                                                   \n",
       "3                                                 NaN                                                                                                                   \n",
       "4                                                 NaN                                                                                                                   \n",
       "5                                                 NaN                                                                                                                   \n",
       "6                                                   X                                                                                                                   \n",
       "7                                                 NaN                                                                                                                   \n",
       "8                                                 NaN                                                                                                                   \n",
       "9                                                 NaN                                                                                                                   \n",
       "10                                                NaN                                                                                                                   \n",
       "11                                                NaN                                                                                                                   \n",
       "12                                                  X                                                                                                                   \n",
       "13                                                  X                                                                                                                   \n",
       "14                                                  X                                                                                                                   \n",
       "\n",
       "    Serve with soured cream and plain boiled long grain rice.  \n",
       "0                                                 NaN          \n",
       "1                                                 NaN          \n",
       "2                                                 NaN          \n",
       "3                                                 NaN          \n",
       "4                                                 NaN          \n",
       "5                                                 NaN          \n",
       "6                                                 NaN          \n",
       "7                                                 NaN          \n",
       "8                                                 NaN          \n",
       "9                                                 NaN          \n",
       "10                                                NaN          \n",
       "11                                                NaN          \n",
       "12                                                NaN          \n",
       "13                                                NaN          \n",
       "14                                                NaN          "
      ]
     },
     "execution_count": 42,
     "metadata": {},
     "output_type": "execute_result"
    }
   ],
   "source": [
    "pd.read_csv(\"recipe-gantt.tsv\", sep=\"\\t\")"
   ]
  },
  {
   "cell_type": "code",
   "execution_count": 43,
   "metadata": {},
   "outputs": [
    {
     "name": "stdout",
     "output_type": "stream",
     "text": [
      "                                                       \\\n",
      "0                                       1 large onion   \n",
      "1                                        1 red pepper   \n",
      "2                                     2 garlic cloves   \n",
      "3                                          1 tbsp oil   \n",
      "4   1 heaped tsp hot chilli powder or 1 level tbsp...   \n",
      "5                                  1 tsp ground cumin   \n",
      "6                               500g lean minced beef   \n",
      "7                                   1 beef stock cube   \n",
      "8                           400g can chopped tomatoes   \n",
      "9                                ½ tsp dried marjoram   \n",
      "10                                        1 tsp sugar   \n",
      "11                                2 tbsp tomato purée   \n",
      "12                          410g can red kidney beans   \n",
      "13             plain boiled long grain rice, to serve   \n",
      "14                             soured cream, to serve   \n",
      "\n",
      "   Prepare your vegetables. Chop 1 large onion into small dice, about 5mm square. The easiest way to do this is to cut the onion in half from root to tip, peel it and slice each half into thick matchsticks lengthways, not quite cutting all the way to the root end so they are still held together. Slice across the matchsticks into neat dice.  \\\n",
      "0                                                   X                                                                                                                                                                                                                                                                                                   \n",
      "1                                                 NaN                                                                                                                                                                                                                                                                                                   \n",
      "2                                                 NaN                                                                                                                                                                                                                                                                                                   \n",
      "3                                                 NaN                                                                                                                                                                                                                                                                                                   \n",
      "4                                                 NaN                                                                                                                                                                                                                                                                                                   \n",
      "5                                                 NaN                                                                                                                                                                                                                                                                                                   \n",
      "6                                                 NaN                                                                                                                                                                                                                                                                                                   \n",
      "7                                                 NaN                                                                                                                                                                                                                                                                                                   \n",
      "8                                                 NaN                                                                                                                                                                                                                                                                                                   \n",
      "9                                                 NaN                                                                                                                                                                                                                                                                                                   \n",
      "10                                                NaN                                                                                                                                                                                                                                                                                                   \n",
      "11                                                NaN                                                                                                                                                                                                                                                                                                   \n",
      "12                                                NaN                                                                                                                                                                                                                                                                                                   \n",
      "13                                                NaN                                                                                                                                                                                                                                                                                                   \n",
      "14                                                NaN                                                                                                                                                                                                                                                                                                   \n",
      "\n",
      "   Cut 1 red pepper in half lengthways, remove stalk and wash the seeds away, then chop. Peel and finely chop 2 garlic cloves.  \\\n",
      "0                                                 NaN                                                                            \n",
      "1                                                   X                                                                            \n",
      "2                                                   X                                                                            \n",
      "3                                                 NaN                                                                            \n",
      "4                                                 NaN                                                                            \n",
      "5                                                 NaN                                                                            \n",
      "6                                                 NaN                                                                            \n",
      "7                                                 NaN                                                                            \n",
      "8                                                 NaN                                                                            \n",
      "9                                                 NaN                                                                            \n",
      "10                                                NaN                                                                            \n",
      "11                                                NaN                                                                            \n",
      "12                                                NaN                                                                            \n",
      "13                                                NaN                                                                            \n",
      "14                                                NaN                                                                            \n",
      "\n",
      "   Start cooking. Put your pan on the hob over a medium heat. Add 1 tbsp oil and leave it for 1-2 minutes until hot (a little longer for an electric hob).  \\\n",
      "0                                                   X                                                                                                        \n",
      "1                                                 NaN                                                                                                        \n",
      "2                                                 NaN                                                                                                        \n",
      "3                                                   X                                                                                                        \n",
      "4                                                 NaN                                                                                                        \n",
      "5                                                 NaN                                                                                                        \n",
      "6                                                 NaN                                                                                                        \n",
      "7                                                 NaN                                                                                                        \n",
      "8                                                 NaN                                                                                                        \n",
      "9                                                 NaN                                                                                                        \n",
      "10                                                NaN                                                                                                        \n",
      "11                                                NaN                                                                                                        \n",
      "12                                                NaN                                                                                                        \n",
      "13                                                NaN                                                                                                        \n",
      "14                                                NaN                                                                                                        \n",
      "\n",
      "   Add the onion and cook, stirring fairly frequently, for about 5 minutes, or until the onion is soft, squidgy and slightly translucent.  \\\n",
      "0                                                   X                                                                                       \n",
      "1                                                 NaN                                                                                       \n",
      "2                                                 NaN                                                                                       \n",
      "3                                                   X                                                                                       \n",
      "4                                                 NaN                                                                                       \n",
      "5                                                 NaN                                                                                       \n",
      "6                                                 NaN                                                                                       \n",
      "7                                                 NaN                                                                                       \n",
      "8                                                 NaN                                                                                       \n",
      "9                                                 NaN                                                                                       \n",
      "10                                                NaN                                                                                       \n",
      "11                                                NaN                                                                                       \n",
      "12                                                NaN                                                                                       \n",
      "13                                                NaN                                                                                       \n",
      "14                                                NaN                                                                                       \n",
      "\n",
      "   Tip in the garlic, red pepper, 1 heaped tsp hot chilli powder or 1 level tbsp mild chilli powder, 1 tsp paprika and 1 tsp ground cumin.  \\\n",
      "0                                                 NaN                                                                                        \n",
      "1                                                   X                                                                                        \n",
      "2                                                   X                                                                                        \n",
      "3                                                 NaN                                                                                        \n",
      "4                                                   X                                                                                        \n",
      "5                                                   X                                                                                        \n",
      "6                                                 NaN                                                                                        \n",
      "7                                                 NaN                                                                                        \n",
      "8                                                 NaN                                                                                        \n",
      "9                                                 NaN                                                                                        \n",
      "10                                                NaN                                                                                        \n",
      "11                                                NaN                                                                                        \n",
      "12                                                NaN                                                                                        \n",
      "13                                                NaN                                                                                        \n",
      "14                                                NaN                                                                                        \n",
      "\n",
      "    Give it a good stir, then leave it to cook for another 5 minutes, stirring occasionally.  \\\n",
      "0                                                 NaN                                          \n",
      "1                                                 NaN                                          \n",
      "2                                                 NaN                                          \n",
      "3                                                 NaN                                          \n",
      "4                                                 NaN                                          \n",
      "5                                                 NaN                                          \n",
      "6                                                 NaN                                          \n",
      "7                                                 NaN                                          \n",
      "8                                                 NaN                                          \n",
      "9                                                 NaN                                          \n",
      "10                                                NaN                                          \n",
      "11                                                NaN                                          \n",
      "12                                                NaN                                          \n",
      "13                                                NaN                                          \n",
      "14                                                NaN                                          \n",
      "\n",
      "   Brown 500g lean minced beef. Turn the heat up a bit, add the meat to the pan and break it up with your spoon or spatula. The mix should sizzle a bit when you add the mince.  \\\n",
      "0                                                 NaN                                                                                                                             \n",
      "1                                                 NaN                                                                                                                             \n",
      "2                                                 NaN                                                                                                                             \n",
      "3                                                 NaN                                                                                                                             \n",
      "4                                                 NaN                                                                                                                             \n",
      "5                                                 NaN                                                                                                                             \n",
      "6                                                   X                                                                                                                             \n",
      "7                                                 NaN                                                                                                                             \n",
      "8                                                 NaN                                                                                                                             \n",
      "9                                                 NaN                                                                                                                             \n",
      "10                                                NaN                                                                                                                             \n",
      "11                                                NaN                                                                                                                             \n",
      "12                                                NaN                                                                                                                             \n",
      "13                                                NaN                                                                                                                             \n",
      "14                                                NaN                                                                                                                             \n",
      "\n",
      "   Keep stirring and prodding for at least 5 minutes, until all the mince is in uniform, mince-sized lumps and there are no more pink bits. Make sure you keep the heat hot enough for the meat to fry and become brown, rather than just stew.  \\\n",
      "0                                                 NaN                                                                                                                                                                                             \n",
      "1                                                 NaN                                                                                                                                                                                             \n",
      "2                                                 NaN                                                                                                                                                                                             \n",
      "3                                                 NaN                                                                                                                                                                                             \n",
      "4                                                 NaN                                                                                                                                                                                             \n",
      "5                                                 NaN                                                                                                                                                                                             \n",
      "6                                                   X                                                                                                                                                                                             \n",
      "7                                                 NaN                                                                                                                                                                                             \n",
      "8                                                 NaN                                                                                                                                                                                             \n",
      "9                                                 NaN                                                                                                                                                                                             \n",
      "10                                                NaN                                                                                                                                                                                             \n",
      "11                                                NaN                                                                                                                                                                                             \n",
      "12                                                NaN                                                                                                                                                                                             \n",
      "13                                                NaN                                                                                                                                                                                             \n",
      "14                                                NaN                                                                                                                                                                                             \n",
      "\n",
      "   Make the sauce. Crumble 1 beef stock cube into 300ml hot water. Pour this into the pan with the mince mixture.  \\\n",
      "0                                                 NaN                                                               \n",
      "1                                                 NaN                                                               \n",
      "2                                                 NaN                                                               \n",
      "3                                                 NaN                                                               \n",
      "4                                                 NaN                                                               \n",
      "5                                                 NaN                                                               \n",
      "6                                                   X                                                               \n",
      "7                                                   X                                                               \n",
      "8                                                 NaN                                                               \n",
      "9                                                 NaN                                                               \n",
      "10                                                NaN                                                               \n",
      "11                                                NaN                                                               \n",
      "12                                                NaN                                                               \n",
      "13                                                NaN                                                               \n",
      "14                                                NaN                                                               \n",
      "\n",
      "   Add a 400g can of chopped tomatoes. Tip in ½ tsp dried marjoram, 1 tsp sugar and add a good shake of salt and pepper. Squirt in about 2 tbsp tomato purée and stir the sauce well.  \\\n",
      "0                                                 NaN                                                                                                                                   \n",
      "1                                                 NaN                                                                                                                                   \n",
      "2                                                 NaN                                                                                                                                   \n",
      "3                                                 NaN                                                                                                                                   \n",
      "4                                                 NaN                                                                                                                                   \n",
      "5                                                 NaN                                                                                                                                   \n",
      "6                                                   X                                                                                                                                   \n",
      "7                                                   X                                                                                                                                   \n",
      "8                                                   X                                                                                                                                   \n",
      "9                                                   X                                                                                                                                   \n",
      "10                                                  X                                                                                                                                   \n",
      "11                                                  X                                                                                                                                   \n",
      "12                                                NaN                                                                                                                                   \n",
      "13                                                NaN                                                                                                                                   \n",
      "14                                                NaN                                                                                                                                   \n",
      "\n",
      "   Simmer it gently. Bring the whole thing to the boil, give it a good stir and put a lid on the pan. Turn down the heat until it is gently bubbling and leave it for 20 minutes.  \\\n",
      "0                                                 NaN                                                                                                                               \n",
      "1                                                 NaN                                                                                                                               \n",
      "2                                                 NaN                                                                                                                               \n",
      "3                                                 NaN                                                                                                                               \n",
      "4                                                 NaN                                                                                                                               \n",
      "5                                                 NaN                                                                                                                               \n",
      "6                                                   X                                                                                                                               \n",
      "7                                                 NaN                                                                                                                               \n",
      "8                                                   X                                                                                                                               \n",
      "9                                                   X                                                                                                                               \n",
      "10                                                  X                                                                                                                               \n",
      "11                                                  X                                                                                                                               \n",
      "12                                                NaN                                                                                                                               \n",
      "13                                                NaN                                                                                                                               \n",
      "14                                                NaN                                                                                                                               \n",
      "\n",
      "   Check on the pan occasionally to stir it and make sure the sauce doesn’t catch on the bottom of the pan or isn’t drying out. If it is, add a couple of tablespoons of water and make sure that the heat really is low enough. After simmering gently, the saucy mince mixture should look thick, moist and juicy.  \\\n",
      "0                                                 NaN                                                                                                                                                                                                                                                                  \n",
      "1                                                 NaN                                                                                                                                                                                                                                                                  \n",
      "2                                                 NaN                                                                                                                                                                                                                                                                  \n",
      "3                                                 NaN                                                                                                                                                                                                                                                                  \n",
      "4                                                 NaN                                                                                                                                                                                                                                                                  \n",
      "5                                                 NaN                                                                                                                                                                                                                                                                  \n",
      "6                                                   X                                                                                                                                                                                                                                                                  \n",
      "7                                                 NaN                                                                                                                                                                                                                                                                  \n",
      "8                                                 NaN                                                                                                                                                                                                                                                                  \n",
      "9                                                 NaN                                                                                                                                                                                                                                                                  \n",
      "10                                                NaN                                                                                                                                                                                                                                                                  \n",
      "11                                                NaN                                                                                                                                                                                                                                                                  \n",
      "12                                                NaN                                                                                                                                                                                                                                                                  \n",
      "13                                                NaN                                                                                                                                                                                                                                                                  \n",
      "14                                                NaN                                                                                                                                                                                                                                                                  \n",
      "\n",
      "   Drain and rinse a 410g can of red kidney beans in a sieve and stir them into the chilli pot. Bring to the boil again, and gently bubble without the lid for another 10 minutes, adding a little more water if it looks too dry.  \\\n",
      "0                                                 NaN                                                                                                                                                                                \n",
      "1                                                 NaN                                                                                                                                                                                \n",
      "2                                                 NaN                                                                                                                                                                                \n",
      "3                                                 NaN                                                                                                                                                                                \n",
      "4                                                 NaN                                                                                                                                                                                \n",
      "5                                                 NaN                                                                                                                                                                                \n",
      "6                                                   X                                                                                                                                                                                \n",
      "7                                                 NaN                                                                                                                                                                                \n",
      "8                                                 NaN                                                                                                                                                                                \n",
      "9                                                 NaN                                                                                                                                                                                \n",
      "10                                                NaN                                                                                                                                                                                \n",
      "11                                                NaN                                                                                                                                                                                \n",
      "12                                                  X                                                                                                                                                                                \n",
      "13                                                NaN                                                                                                                                                                                \n",
      "14                                                NaN                                                                                                                                                                                \n",
      "\n",
      "   Taste a bit of the chilli and season. It will probably take a lot more seasoning than you think.  \\\n",
      "0                                                 NaN                                                 \n",
      "1                                                 NaN                                                 \n",
      "2                                                 NaN                                                 \n",
      "3                                                 NaN                                                 \n",
      "4                                                 NaN                                                 \n",
      "5                                                 NaN                                                 \n",
      "6                                                   X                                                 \n",
      "7                                                 NaN                                                 \n",
      "8                                                 NaN                                                 \n",
      "9                                                 NaN                                                 \n",
      "10                                                NaN                                                 \n",
      "11                                                NaN                                                 \n",
      "12                                                  X                                                 \n",
      "13                                                NaN                                                 \n",
      "14                                                NaN                                                 \n",
      "\n",
      "   Now replace the lid, turn off the heat and leave your chilli to stand for 10 minutes before serving. This is really important as it allows the flavours to mingle.  \\\n",
      "0                                                 NaN                                                                                                                   \n",
      "1                                                 NaN                                                                                                                   \n",
      "2                                                 NaN                                                                                                                   \n",
      "3                                                 NaN                                                                                                                   \n",
      "4                                                 NaN                                                                                                                   \n",
      "5                                                 NaN                                                                                                                   \n",
      "6                                                   X                                                                                                                   \n",
      "7                                                 NaN                                                                                                                   \n",
      "8                                                 NaN                                                                                                                   \n",
      "9                                                 NaN                                                                                                                   \n",
      "10                                                NaN                                                                                                                   \n",
      "11                                                NaN                                                                                                                   \n",
      "12                                                  X                                                                                                                   \n",
      "13                                                  X                                                                                                                   \n",
      "14                                                  X                                                                                                                   \n",
      "\n",
      "    Serve with soured cream and plain boiled long grain rice.  \n",
      "0                                                 NaN          \n",
      "1                                                 NaN          \n",
      "2                                                 NaN          \n",
      "3                                                 NaN          \n",
      "4                                                 NaN          \n",
      "5                                                 NaN          \n",
      "6                                                 NaN          \n",
      "7                                                 NaN          \n",
      "8                                                 NaN          \n",
      "9                                                 NaN          \n",
      "10                                                NaN          \n",
      "11                                                NaN          \n",
      "12                                                NaN          \n",
      "13                                                NaN          \n",
      "14                                                NaN          \n"
     ]
    }
   ],
   "source": [
    "import pandas as pd\n",
    "\n",
    "\n",
    "# Read the CSV from the string\n",
    "df = pd.read_csv(StringIO(output), sep=\"\\t\")\n",
    "\n",
    "# Print the dataframe\n",
    "print(df)"
   ]
  },
  {
   "cell_type": "code",
   "execution_count": 26,
   "metadata": {},
   "outputs": [],
   "source": [
    "with open(\"output.tsv\", \"w\") as file:\n",
    "    file.write(output)"
   ]
  },
  {
   "cell_type": "code",
   "execution_count": null,
   "metadata": {},
   "outputs": [],
   "source": [
    "def plot_gantt(df):\n",
    "    pdf = df.fillna(\"\")\n",
    "    pdf = pdf.replace(\"X\", \"✓\")\n",
    "\n",
    "    fig = go.Figure(\n",
    "        data=[\n",
    "            go.Table(\n",
    "                header=dict(\n",
    "                    values=list(pdf.columns), fill_color=\"blanchedalmond\", align=\"left\"\n",
    "                ),\n",
    "                cells=dict(\n",
    "                    values=[pdf[col] for col in pdf.columns],\n",
    "                    fill_color=\"floralwhite\",\n",
    "                    align=\"center\",\n",
    "                ),\n",
    "            )\n",
    "        ]\n",
    "    )\n",
    "\n",
    "    fig.update_layout(autosize=False, width=2000, height=2000)\n",
    "\n",
    "    fig.show()"
   ]
  },
  {
   "cell_type": "code",
   "execution_count": 45,
   "metadata": {},
   "outputs": [
    {
     "data": {
      "application/vnd.plotly.v1+json": {
       "config": {
        "plotlyServerURL": "https://plot.ly"
       },
       "data": [
        {
         "cells": {
          "align": "center",
          "fill": {
           "color": "floralwhite"
          },
          "values": [
           [
            "1 large onion",
            "1 red pepper",
            "2 garlic cloves",
            "1 tbsp oil",
            "1 heaped tsp hot chilli powder or 1 level tbsp mild chilli powder (or 1 tsp paprika)",
            "1 tsp ground cumin",
            "500g lean minced beef",
            "1 beef stock cube",
            "400g can chopped tomatoes",
            "½ tsp dried marjoram",
            "1 tsp sugar",
            "2 tbsp tomato purée",
            "410g can red kidney beans",
            "plain boiled long grain rice, to serve",
            "soured cream, to serve"
           ],
           [
            "✓",
            "",
            "",
            "",
            "",
            "",
            "",
            "",
            "",
            "",
            "",
            "",
            "",
            "",
            ""
           ],
           [
            "",
            "✓",
            "✓",
            "",
            "",
            "",
            "",
            "",
            "",
            "",
            "",
            "",
            "",
            "",
            ""
           ],
           [
            "✓",
            "",
            "",
            "✓",
            "",
            "",
            "",
            "",
            "",
            "",
            "",
            "",
            "",
            "",
            ""
           ],
           [
            "✓",
            "",
            "",
            "✓",
            "",
            "",
            "",
            "",
            "",
            "",
            "",
            "",
            "",
            "",
            ""
           ],
           [
            "",
            "✓",
            "✓",
            "",
            "✓",
            "✓",
            "",
            "",
            "",
            "",
            "",
            "",
            "",
            "",
            ""
           ],
           [
            "",
            "",
            "",
            "",
            "",
            "",
            "",
            "",
            "",
            "",
            "",
            "",
            "",
            "",
            ""
           ],
           [
            "",
            "",
            "",
            "",
            "",
            "",
            "✓",
            "",
            "",
            "",
            "",
            "",
            "",
            "",
            ""
           ],
           [
            "",
            "",
            "",
            "",
            "",
            "",
            "✓",
            "",
            "",
            "",
            "",
            "",
            "",
            "",
            ""
           ],
           [
            "",
            "",
            "",
            "",
            "",
            "",
            "✓",
            "✓",
            "",
            "",
            "",
            "",
            "",
            "",
            ""
           ],
           [
            "",
            "",
            "",
            "",
            "",
            "",
            "✓",
            "✓",
            "✓",
            "✓",
            "✓",
            "✓",
            "",
            "",
            ""
           ],
           [
            "",
            "",
            "",
            "",
            "",
            "",
            "✓",
            "",
            "✓",
            "✓",
            "✓",
            "✓",
            "",
            "",
            ""
           ],
           [
            "",
            "",
            "",
            "",
            "",
            "",
            "✓",
            "",
            "",
            "",
            "",
            "",
            "",
            "",
            ""
           ],
           [
            "",
            "",
            "",
            "",
            "",
            "",
            "✓",
            "",
            "",
            "",
            "",
            "",
            "✓",
            "",
            ""
           ],
           [
            "",
            "",
            "",
            "",
            "",
            "",
            "✓",
            "",
            "",
            "",
            "",
            "",
            "✓",
            "",
            ""
           ],
           [
            "",
            "",
            "",
            "",
            "",
            "",
            "✓",
            "",
            "",
            "",
            "",
            "",
            "✓",
            "✓",
            "✓"
           ],
           [
            "",
            "",
            "",
            "",
            "",
            "",
            "",
            "",
            "",
            "",
            "",
            "",
            "",
            "",
            ""
           ]
          ]
         },
         "header": {
          "align": "left",
          "fill": {
           "color": "blanchedalmond"
          },
          "values": [
           " ",
           "Prepare your vegetables. Chop 1 large onion into small dice, about 5mm square. The easiest way to do this is to cut the onion in half from root to tip, peel it and slice each half into thick matchsticks lengthways, not quite cutting all the way to the root end so they are still held together. Slice across the matchsticks into neat dice.",
           "Cut 1 red pepper in half lengthways, remove stalk and wash the seeds away, then chop. Peel and finely chop 2 garlic cloves.",
           "Start cooking. Put your pan on the hob over a medium heat. Add 1 tbsp oil and leave it for 1-2 minutes until hot (a little longer for an electric hob).",
           "Add the onion and cook, stirring fairly frequently, for about 5 minutes, or until the onion is soft, squidgy and slightly translucent.",
           "Tip in the garlic, red pepper, 1 heaped tsp hot chilli powder or 1 level tbsp mild chilli powder, 1 tsp paprika and 1 tsp ground cumin.",
           "Give it a good stir, then leave it to cook for another 5 minutes, stirring occasionally.",
           "Brown 500g lean minced beef. Turn the heat up a bit, add the meat to the pan and break it up with your spoon or spatula. The mix should sizzle a bit when you add the mince.",
           "Keep stirring and prodding for at least 5 minutes, until all the mince is in uniform, mince-sized lumps and there are no more pink bits. Make sure you keep the heat hot enough for the meat to fry and become brown, rather than just stew.",
           "Make the sauce. Crumble 1 beef stock cube into 300ml hot water. Pour this into the pan with the mince mixture.",
           "Add a 400g can of chopped tomatoes. Tip in ½ tsp dried marjoram, 1 tsp sugar and add a good shake of salt and pepper. Squirt in about 2 tbsp tomato purée and stir the sauce well.",
           "Simmer it gently. Bring the whole thing to the boil, give it a good stir and put a lid on the pan. Turn down the heat until it is gently bubbling and leave it for 20 minutes.",
           "Check on the pan occasionally to stir it and make sure the sauce doesn’t catch on the bottom of the pan or isn’t drying out. If it is, add a couple of tablespoons of water and make sure that the heat really is low enough. After simmering gently, the saucy mince mixture should look thick, moist and juicy.",
           "Drain and rinse a 410g can of red kidney beans in a sieve and stir them into the chilli pot. Bring to the boil again, and gently bubble without the lid for another 10 minutes, adding a little more water if it looks too dry.",
           "Taste a bit of the chilli and season. It will probably take a lot more seasoning than you think.",
           "Now replace the lid, turn off the heat and leave your chilli to stand for 10 minutes before serving. This is really important as it allows the flavours to mingle.",
           "Serve with soured cream and plain boiled long grain rice."
          ]
         },
         "type": "table"
        }
       ],
       "layout": {
        "autosize": false,
        "height": 2000,
        "template": {
         "data": {
          "bar": [
           {
            "error_x": {
             "color": "#2a3f5f"
            },
            "error_y": {
             "color": "#2a3f5f"
            },
            "marker": {
             "line": {
              "color": "#E5ECF6",
              "width": 0.5
             },
             "pattern": {
              "fillmode": "overlay",
              "size": 10,
              "solidity": 0.2
             }
            },
            "type": "bar"
           }
          ],
          "barpolar": [
           {
            "marker": {
             "line": {
              "color": "#E5ECF6",
              "width": 0.5
             },
             "pattern": {
              "fillmode": "overlay",
              "size": 10,
              "solidity": 0.2
             }
            },
            "type": "barpolar"
           }
          ],
          "carpet": [
           {
            "aaxis": {
             "endlinecolor": "#2a3f5f",
             "gridcolor": "white",
             "linecolor": "white",
             "minorgridcolor": "white",
             "startlinecolor": "#2a3f5f"
            },
            "baxis": {
             "endlinecolor": "#2a3f5f",
             "gridcolor": "white",
             "linecolor": "white",
             "minorgridcolor": "white",
             "startlinecolor": "#2a3f5f"
            },
            "type": "carpet"
           }
          ],
          "choropleth": [
           {
            "colorbar": {
             "outlinewidth": 0,
             "ticks": ""
            },
            "type": "choropleth"
           }
          ],
          "contour": [
           {
            "colorbar": {
             "outlinewidth": 0,
             "ticks": ""
            },
            "colorscale": [
             [
              0,
              "#0d0887"
             ],
             [
              0.1111111111111111,
              "#46039f"
             ],
             [
              0.2222222222222222,
              "#7201a8"
             ],
             [
              0.3333333333333333,
              "#9c179e"
             ],
             [
              0.4444444444444444,
              "#bd3786"
             ],
             [
              0.5555555555555556,
              "#d8576b"
             ],
             [
              0.6666666666666666,
              "#ed7953"
             ],
             [
              0.7777777777777778,
              "#fb9f3a"
             ],
             [
              0.8888888888888888,
              "#fdca26"
             ],
             [
              1,
              "#f0f921"
             ]
            ],
            "type": "contour"
           }
          ],
          "contourcarpet": [
           {
            "colorbar": {
             "outlinewidth": 0,
             "ticks": ""
            },
            "type": "contourcarpet"
           }
          ],
          "heatmap": [
           {
            "colorbar": {
             "outlinewidth": 0,
             "ticks": ""
            },
            "colorscale": [
             [
              0,
              "#0d0887"
             ],
             [
              0.1111111111111111,
              "#46039f"
             ],
             [
              0.2222222222222222,
              "#7201a8"
             ],
             [
              0.3333333333333333,
              "#9c179e"
             ],
             [
              0.4444444444444444,
              "#bd3786"
             ],
             [
              0.5555555555555556,
              "#d8576b"
             ],
             [
              0.6666666666666666,
              "#ed7953"
             ],
             [
              0.7777777777777778,
              "#fb9f3a"
             ],
             [
              0.8888888888888888,
              "#fdca26"
             ],
             [
              1,
              "#f0f921"
             ]
            ],
            "type": "heatmap"
           }
          ],
          "heatmapgl": [
           {
            "colorbar": {
             "outlinewidth": 0,
             "ticks": ""
            },
            "colorscale": [
             [
              0,
              "#0d0887"
             ],
             [
              0.1111111111111111,
              "#46039f"
             ],
             [
              0.2222222222222222,
              "#7201a8"
             ],
             [
              0.3333333333333333,
              "#9c179e"
             ],
             [
              0.4444444444444444,
              "#bd3786"
             ],
             [
              0.5555555555555556,
              "#d8576b"
             ],
             [
              0.6666666666666666,
              "#ed7953"
             ],
             [
              0.7777777777777778,
              "#fb9f3a"
             ],
             [
              0.8888888888888888,
              "#fdca26"
             ],
             [
              1,
              "#f0f921"
             ]
            ],
            "type": "heatmapgl"
           }
          ],
          "histogram": [
           {
            "marker": {
             "pattern": {
              "fillmode": "overlay",
              "size": 10,
              "solidity": 0.2
             }
            },
            "type": "histogram"
           }
          ],
          "histogram2d": [
           {
            "colorbar": {
             "outlinewidth": 0,
             "ticks": ""
            },
            "colorscale": [
             [
              0,
              "#0d0887"
             ],
             [
              0.1111111111111111,
              "#46039f"
             ],
             [
              0.2222222222222222,
              "#7201a8"
             ],
             [
              0.3333333333333333,
              "#9c179e"
             ],
             [
              0.4444444444444444,
              "#bd3786"
             ],
             [
              0.5555555555555556,
              "#d8576b"
             ],
             [
              0.6666666666666666,
              "#ed7953"
             ],
             [
              0.7777777777777778,
              "#fb9f3a"
             ],
             [
              0.8888888888888888,
              "#fdca26"
             ],
             [
              1,
              "#f0f921"
             ]
            ],
            "type": "histogram2d"
           }
          ],
          "histogram2dcontour": [
           {
            "colorbar": {
             "outlinewidth": 0,
             "ticks": ""
            },
            "colorscale": [
             [
              0,
              "#0d0887"
             ],
             [
              0.1111111111111111,
              "#46039f"
             ],
             [
              0.2222222222222222,
              "#7201a8"
             ],
             [
              0.3333333333333333,
              "#9c179e"
             ],
             [
              0.4444444444444444,
              "#bd3786"
             ],
             [
              0.5555555555555556,
              "#d8576b"
             ],
             [
              0.6666666666666666,
              "#ed7953"
             ],
             [
              0.7777777777777778,
              "#fb9f3a"
             ],
             [
              0.8888888888888888,
              "#fdca26"
             ],
             [
              1,
              "#f0f921"
             ]
            ],
            "type": "histogram2dcontour"
           }
          ],
          "mesh3d": [
           {
            "colorbar": {
             "outlinewidth": 0,
             "ticks": ""
            },
            "type": "mesh3d"
           }
          ],
          "parcoords": [
           {
            "line": {
             "colorbar": {
              "outlinewidth": 0,
              "ticks": ""
             }
            },
            "type": "parcoords"
           }
          ],
          "pie": [
           {
            "automargin": true,
            "type": "pie"
           }
          ],
          "scatter": [
           {
            "fillpattern": {
             "fillmode": "overlay",
             "size": 10,
             "solidity": 0.2
            },
            "type": "scatter"
           }
          ],
          "scatter3d": [
           {
            "line": {
             "colorbar": {
              "outlinewidth": 0,
              "ticks": ""
             }
            },
            "marker": {
             "colorbar": {
              "outlinewidth": 0,
              "ticks": ""
             }
            },
            "type": "scatter3d"
           }
          ],
          "scattercarpet": [
           {
            "marker": {
             "colorbar": {
              "outlinewidth": 0,
              "ticks": ""
             }
            },
            "type": "scattercarpet"
           }
          ],
          "scattergeo": [
           {
            "marker": {
             "colorbar": {
              "outlinewidth": 0,
              "ticks": ""
             }
            },
            "type": "scattergeo"
           }
          ],
          "scattergl": [
           {
            "marker": {
             "colorbar": {
              "outlinewidth": 0,
              "ticks": ""
             }
            },
            "type": "scattergl"
           }
          ],
          "scattermapbox": [
           {
            "marker": {
             "colorbar": {
              "outlinewidth": 0,
              "ticks": ""
             }
            },
            "type": "scattermapbox"
           }
          ],
          "scatterpolar": [
           {
            "marker": {
             "colorbar": {
              "outlinewidth": 0,
              "ticks": ""
             }
            },
            "type": "scatterpolar"
           }
          ],
          "scatterpolargl": [
           {
            "marker": {
             "colorbar": {
              "outlinewidth": 0,
              "ticks": ""
             }
            },
            "type": "scatterpolargl"
           }
          ],
          "scatterternary": [
           {
            "marker": {
             "colorbar": {
              "outlinewidth": 0,
              "ticks": ""
             }
            },
            "type": "scatterternary"
           }
          ],
          "surface": [
           {
            "colorbar": {
             "outlinewidth": 0,
             "ticks": ""
            },
            "colorscale": [
             [
              0,
              "#0d0887"
             ],
             [
              0.1111111111111111,
              "#46039f"
             ],
             [
              0.2222222222222222,
              "#7201a8"
             ],
             [
              0.3333333333333333,
              "#9c179e"
             ],
             [
              0.4444444444444444,
              "#bd3786"
             ],
             [
              0.5555555555555556,
              "#d8576b"
             ],
             [
              0.6666666666666666,
              "#ed7953"
             ],
             [
              0.7777777777777778,
              "#fb9f3a"
             ],
             [
              0.8888888888888888,
              "#fdca26"
             ],
             [
              1,
              "#f0f921"
             ]
            ],
            "type": "surface"
           }
          ],
          "table": [
           {
            "cells": {
             "fill": {
              "color": "#EBF0F8"
             },
             "line": {
              "color": "white"
             }
            },
            "header": {
             "fill": {
              "color": "#C8D4E3"
             },
             "line": {
              "color": "white"
             }
            },
            "type": "table"
           }
          ]
         },
         "layout": {
          "annotationdefaults": {
           "arrowcolor": "#2a3f5f",
           "arrowhead": 0,
           "arrowwidth": 1
          },
          "autotypenumbers": "strict",
          "coloraxis": {
           "colorbar": {
            "outlinewidth": 0,
            "ticks": ""
           }
          },
          "colorscale": {
           "diverging": [
            [
             0,
             "#8e0152"
            ],
            [
             0.1,
             "#c51b7d"
            ],
            [
             0.2,
             "#de77ae"
            ],
            [
             0.3,
             "#f1b6da"
            ],
            [
             0.4,
             "#fde0ef"
            ],
            [
             0.5,
             "#f7f7f7"
            ],
            [
             0.6,
             "#e6f5d0"
            ],
            [
             0.7,
             "#b8e186"
            ],
            [
             0.8,
             "#7fbc41"
            ],
            [
             0.9,
             "#4d9221"
            ],
            [
             1,
             "#276419"
            ]
           ],
           "sequential": [
            [
             0,
             "#0d0887"
            ],
            [
             0.1111111111111111,
             "#46039f"
            ],
            [
             0.2222222222222222,
             "#7201a8"
            ],
            [
             0.3333333333333333,
             "#9c179e"
            ],
            [
             0.4444444444444444,
             "#bd3786"
            ],
            [
             0.5555555555555556,
             "#d8576b"
            ],
            [
             0.6666666666666666,
             "#ed7953"
            ],
            [
             0.7777777777777778,
             "#fb9f3a"
            ],
            [
             0.8888888888888888,
             "#fdca26"
            ],
            [
             1,
             "#f0f921"
            ]
           ],
           "sequentialminus": [
            [
             0,
             "#0d0887"
            ],
            [
             0.1111111111111111,
             "#46039f"
            ],
            [
             0.2222222222222222,
             "#7201a8"
            ],
            [
             0.3333333333333333,
             "#9c179e"
            ],
            [
             0.4444444444444444,
             "#bd3786"
            ],
            [
             0.5555555555555556,
             "#d8576b"
            ],
            [
             0.6666666666666666,
             "#ed7953"
            ],
            [
             0.7777777777777778,
             "#fb9f3a"
            ],
            [
             0.8888888888888888,
             "#fdca26"
            ],
            [
             1,
             "#f0f921"
            ]
           ]
          },
          "colorway": [
           "#636efa",
           "#EF553B",
           "#00cc96",
           "#ab63fa",
           "#FFA15A",
           "#19d3f3",
           "#FF6692",
           "#B6E880",
           "#FF97FF",
           "#FECB52"
          ],
          "font": {
           "color": "#2a3f5f"
          },
          "geo": {
           "bgcolor": "white",
           "lakecolor": "white",
           "landcolor": "#E5ECF6",
           "showlakes": true,
           "showland": true,
           "subunitcolor": "white"
          },
          "hoverlabel": {
           "align": "left"
          },
          "hovermode": "closest",
          "mapbox": {
           "style": "light"
          },
          "paper_bgcolor": "white",
          "plot_bgcolor": "#E5ECF6",
          "polar": {
           "angularaxis": {
            "gridcolor": "white",
            "linecolor": "white",
            "ticks": ""
           },
           "bgcolor": "#E5ECF6",
           "radialaxis": {
            "gridcolor": "white",
            "linecolor": "white",
            "ticks": ""
           }
          },
          "scene": {
           "xaxis": {
            "backgroundcolor": "#E5ECF6",
            "gridcolor": "white",
            "gridwidth": 2,
            "linecolor": "white",
            "showbackground": true,
            "ticks": "",
            "zerolinecolor": "white"
           },
           "yaxis": {
            "backgroundcolor": "#E5ECF6",
            "gridcolor": "white",
            "gridwidth": 2,
            "linecolor": "white",
            "showbackground": true,
            "ticks": "",
            "zerolinecolor": "white"
           },
           "zaxis": {
            "backgroundcolor": "#E5ECF6",
            "gridcolor": "white",
            "gridwidth": 2,
            "linecolor": "white",
            "showbackground": true,
            "ticks": "",
            "zerolinecolor": "white"
           }
          },
          "shapedefaults": {
           "line": {
            "color": "#2a3f5f"
           }
          },
          "ternary": {
           "aaxis": {
            "gridcolor": "white",
            "linecolor": "white",
            "ticks": ""
           },
           "baxis": {
            "gridcolor": "white",
            "linecolor": "white",
            "ticks": ""
           },
           "bgcolor": "#E5ECF6",
           "caxis": {
            "gridcolor": "white",
            "linecolor": "white",
            "ticks": ""
           }
          },
          "title": {
           "x": 0.05
          },
          "xaxis": {
           "automargin": true,
           "gridcolor": "white",
           "linecolor": "white",
           "ticks": "",
           "title": {
            "standoff": 15
           },
           "zerolinecolor": "white",
           "zerolinewidth": 2
          },
          "yaxis": {
           "automargin": true,
           "gridcolor": "white",
           "linecolor": "white",
           "ticks": "",
           "title": {
            "standoff": 15
           },
           "zerolinecolor": "white",
           "zerolinewidth": 2
          }
         }
        },
        "width": 2000
       }
      }
     },
     "metadata": {},
     "output_type": "display_data"
    }
   ],
   "source": [
    "import plotly.graph_objects as go\n",
    "\n",
    "pdf = df.fillna(\"\")\n",
    "pdf = pdf.replace(\"X\", \"✓\")\n",
    "\n",
    "\n",
    "fig = go.Figure(\n",
    "    data=[\n",
    "        go.Table(\n",
    "            header=dict(\n",
    "                values=list(pdf.columns), fill_color=\"blanchedalmond\", align=\"left\"\n",
    "            ),\n",
    "            cells=dict(\n",
    "                values=[pdf[col] for col in pdf.columns],\n",
    "                fill_color=\"floralwhite\",\n",
    "                align=\"center\",\n",
    "            ),\n",
    "        )\n",
    "    ]\n",
    ")\n",
    "\n",
    "fig.update_layout(autosize=False, width=2000, height=2000)\n",
    "\n",
    "fig.show()"
   ]
  },
  {
   "cell_type": "code",
   "execution_count": null,
   "metadata": {},
   "outputs": [],
   "source": []
  },
  {
   "cell_type": "code",
   "execution_count": null,
   "metadata": {},
   "outputs": [],
   "source": []
  }
 ],
 "metadata": {
  "kernelspec": {
   "display_name": "playg",
   "language": "python",
   "name": "python3"
  },
  "language_info": {
   "codemirror_mode": {
    "name": "ipython",
    "version": 3
   },
   "file_extension": ".py",
   "mimetype": "text/x-python",
   "name": "python",
   "nbconvert_exporter": "python",
   "pygments_lexer": "ipython3",
   "version": "3.9.18"
  }
 },
 "nbformat": 4,
 "nbformat_minor": 2
}
