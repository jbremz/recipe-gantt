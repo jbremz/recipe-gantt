{
 "cells": [
  {
   "cell_type": "code",
   "execution_count": 1,
   "metadata": {},
   "outputs": [],
   "source": [
    "%reload_ext autoreload\n",
    "%autoreload 2"
   ]
  },
  {
   "cell_type": "code",
   "execution_count": 2,
   "metadata": {},
   "outputs": [],
   "source": [
    "from recipe_gantt.data import get_alpaca_prompt, get_recipe, INSTRUCTION\n",
    "\n",
    "from llama_cpp import Llama"
   ]
  },
  {
   "cell_type": "code",
   "execution_count": 3,
   "metadata": {},
   "outputs": [],
   "source": [
    "def get_prompt(url):\n",
    "    recipe = get_recipe(url)\n",
    "    record = {}\n",
    "    record[\"instruction\"] = INSTRUCTION\n",
    "    record[\"input\"] = recipe\n",
    "    prompt = get_alpaca_prompt(record)\n",
    "    return prompt"
   ]
  },
  {
   "cell_type": "code",
   "execution_count": 4,
   "metadata": {},
   "outputs": [],
   "source": [
    "url = \"https://www.bonappetit.com/recipe/cucumber-sandwich\""
   ]
  },
  {
   "cell_type": "code",
   "execution_count": 8,
   "metadata": {},
   "outputs": [
    {
     "name": "stderr",
     "output_type": "stream",
     "text": [
      "llama_model_loader: loaded meta data with 21 key-value pairs and 291 tensors from merged_ggml-model-q4_0.gguf (version GGUF V3 (latest))\n",
      "llama_model_loader: Dumping metadata keys/values. Note: KV overrides do not apply in this output.\n",
      "llama_model_loader: - kv   0:                       general.architecture str              = llama\n",
      "llama_model_loader: - kv   1:                               general.name str              = qlora-out\n",
      "llama_model_loader: - kv   2:                       llama.context_length u32              = 32768\n",
      "llama_model_loader: - kv   3:                     llama.embedding_length u32              = 4096\n",
      "llama_model_loader: - kv   4:                          llama.block_count u32              = 32\n",
      "llama_model_loader: - kv   5:                  llama.feed_forward_length u32              = 14336\n",
      "llama_model_loader: - kv   6:                 llama.rope.dimension_count u32              = 128\n",
      "llama_model_loader: - kv   7:                 llama.attention.head_count u32              = 32\n",
      "llama_model_loader: - kv   8:              llama.attention.head_count_kv u32              = 8\n",
      "llama_model_loader: - kv   9:     llama.attention.layer_norm_rms_epsilon f32              = 0.000010\n",
      "llama_model_loader: - kv  10:                       llama.rope.freq_base f32              = 10000.000000\n",
      "llama_model_loader: - kv  11:                          general.file_type u32              = 2\n",
      "llama_model_loader: - kv  12:                       tokenizer.ggml.model str              = llama\n",
      "llama_model_loader: - kv  13:                      tokenizer.ggml.tokens arr[str,32000]   = [\"<unk>\", \"<s>\", \"</s>\", \"<0x00>\", \"<...\n",
      "llama_model_loader: - kv  14:                      tokenizer.ggml.scores arr[f32,32000]   = [0.000000, 0.000000, 0.000000, 0.0000...\n",
      "llama_model_loader: - kv  15:                  tokenizer.ggml.token_type arr[i32,32000]   = [2, 3, 3, 6, 6, 6, 6, 6, 6, 6, 6, 6, ...\n",
      "llama_model_loader: - kv  16:                tokenizer.ggml.bos_token_id u32              = 1\n",
      "llama_model_loader: - kv  17:                tokenizer.ggml.eos_token_id u32              = 2\n",
      "llama_model_loader: - kv  18:               tokenizer.ggml.add_bos_token bool             = true\n",
      "llama_model_loader: - kv  19:               tokenizer.ggml.add_eos_token bool             = false\n",
      "llama_model_loader: - kv  20:               general.quantization_version u32              = 2\n",
      "llama_model_loader: - type  f32:   65 tensors\n",
      "llama_model_loader: - type q4_0:  225 tensors\n",
      "llama_model_loader: - type q6_K:    1 tensors\n",
      "llm_load_vocab: special tokens definition check successful ( 259/32000 ).\n",
      "llm_load_print_meta: format           = GGUF V3 (latest)\n",
      "llm_load_print_meta: arch             = llama\n",
      "llm_load_print_meta: vocab type       = SPM\n",
      "llm_load_print_meta: n_vocab          = 32000\n",
      "llm_load_print_meta: n_merges         = 0\n",
      "llm_load_print_meta: n_ctx_train      = 32768\n",
      "llm_load_print_meta: n_embd           = 4096\n",
      "llm_load_print_meta: n_head           = 32\n",
      "llm_load_print_meta: n_head_kv        = 8\n",
      "llm_load_print_meta: n_layer          = 32\n",
      "llm_load_print_meta: n_rot            = 128\n",
      "llm_load_print_meta: n_embd_head_k    = 128\n",
      "llm_load_print_meta: n_embd_head_v    = 128\n",
      "llm_load_print_meta: n_gqa            = 4\n",
      "llm_load_print_meta: n_embd_k_gqa     = 1024\n",
      "llm_load_print_meta: n_embd_v_gqa     = 1024\n",
      "llm_load_print_meta: f_norm_eps       = 0.0e+00\n",
      "llm_load_print_meta: f_norm_rms_eps   = 1.0e-05\n",
      "llm_load_print_meta: f_clamp_kqv      = 0.0e+00\n",
      "llm_load_print_meta: f_max_alibi_bias = 0.0e+00\n",
      "llm_load_print_meta: n_ff             = 14336\n",
      "llm_load_print_meta: n_expert         = 0\n",
      "llm_load_print_meta: n_expert_used    = 0\n",
      "llm_load_print_meta: rope scaling     = linear\n",
      "llm_load_print_meta: freq_base_train  = 10000.0\n",
      "llm_load_print_meta: freq_scale_train = 1\n",
      "llm_load_print_meta: n_yarn_orig_ctx  = 32768\n",
      "llm_load_print_meta: rope_finetuned   = unknown\n",
      "llm_load_print_meta: model type       = 7B\n",
      "llm_load_print_meta: model ftype      = Q4_0\n",
      "llm_load_print_meta: model params     = 7.24 B\n",
      "llm_load_print_meta: model size       = 3.83 GiB (4.54 BPW) \n",
      "llm_load_print_meta: general.name     = qlora-out\n",
      "llm_load_print_meta: BOS token        = 1 '<s>'\n",
      "llm_load_print_meta: EOS token        = 2 '</s>'\n",
      "llm_load_print_meta: UNK token        = 0 '<unk>'\n",
      "llm_load_print_meta: LF token         = 13 '<0x0A>'\n",
      "llm_load_tensors: ggml ctx size       =    0.11 MiB\n",
      "ggml_backend_metal_buffer_from_ptr: allocated buffer, size =  3918.58 MiB, (14071.48 / 21845.34)\n",
      "llm_load_tensors: system memory used  = 3917.98 MiB\n",
      "..................................................................................................\n",
      "llama_new_context_with_model: n_ctx      = 32768\n",
      "llama_new_context_with_model: freq_base  = 10000.0\n",
      "llama_new_context_with_model: freq_scale = 1\n",
      "ggml_metal_init: allocating\n",
      "ggml_metal_init: found device: Apple M1 Pro\n",
      "ggml_metal_init: picking default device: Apple M1 Pro\n",
      "ggml_metal_init: default.metallib not found, loading from source\n",
      "ggml_metal_init: GGML_METAL_PATH_RESOURCES = nil\n",
      "ggml_metal_init: loading '/Users/JBremner/miniconda3/envs/recipe-gantt/lib/python3.9/site-packages/llama_cpp/ggml-metal.metal'\n",
      "ggml_metal_init: GPU name:   Apple M1 Pro\n",
      "ggml_metal_init: GPU family: MTLGPUFamilyApple7 (1007)\n",
      "ggml_metal_init: hasUnifiedMemory              = true\n",
      "ggml_metal_init: recommendedMaxWorkingSetSize  = 22906.50 MB\n",
      "ggml_metal_init: maxTransferRate               = built-in GPU\n",
      "ggml_backend_metal_buffer_type_alloc_buffer: allocated buffer, size =  4096.00 MiB, (18167.48 / 21845.34)\n",
      "llama_new_context_with_model: KV self size  = 4096.00 MiB, K (f16): 2048.00 MiB, V (f16): 2048.00 MiB\n",
      "ggml_backend_metal_buffer_type_alloc_buffer: allocated buffer, size =     0.02 MiB, (18167.50 / 21845.34)\n",
      "llama_build_graph: non-view tensors processed: 676/676\n",
      "llama_new_context_with_model: compute buffer total size = 2139.19 MiB\n",
      "ggml_backend_metal_buffer_type_alloc_buffer: allocated buffer, size =  2136.02 MiB, (20303.50 / 21845.34)\n",
      "ggml_metal_free: deallocating\n"
     ]
    }
   ],
   "source": [
    "llm = Llama(\n",
    "    model_path=\"merged_ggml-model-q4_0.gguf\", n_ctx=0, n_gpu_layers=1, verbose=False\n",
    ")\n",
    "prompt = get_prompt(url)\n",
    "output = llm(prompt, max_tokens=4096, echo=False)\n",
    "output = output[\"choices\"][0][\"text\"]"
   ]
  },
  {
   "cell_type": "code",
   "execution_count": 9,
   "metadata": {},
   "outputs": [
    {
     "name": "stdout",
     "output_type": "stream",
     "text": [
      " \tBlend 1 large bunch cilantro, 1 jalapeño, stem removed, 2 garlic cloves, 3 Tbsp. fresh lemon juice, 1 tsp. extra-virgin olive oil, and 1 tsp. Diamond Crystal or ½ tsp. Morton kosher salt in a blender or food processor until smooth.\tSpread 2 Tbsp. whipped cream cheese over one ½”-thick slice white sandwich bread (such as Pullman) and top with 5–7 English hothouse cucumber slices; season with kosher salt. Spread 2 Tbsp. cilantro chutney over second slice of bread. Close sandwich; cut in half. Remove crusts if desired. Do ahead: Cilantro chutney can be made 3 days in advance; store, chilled, in an airtight container. Editor’s note: This cucumber sandwich recipe was first printed in our June 2022 issue. Head this way for more of our best recipes with cucumbers →\n",
      "1 large bunch cilantro\tX\t\n",
      "1 jalapeño, stem removed\tX\t\n",
      "2 garlic cloves\tX\t\n",
      "3 Tbsp. fresh lemon juice\tX\t\n",
      "1 tsp. extra-virgin olive oil\tX\t\n",
      "1 tsp. Diamond Crystal or ½ tsp. Morton kosher salt, plus more\tX\tX\n",
      "2 Tbsp. whipped cream cheese\t\tX\n",
      "2 ½”-thick slices white sandwich bread (such as Pullman)\t\tX\n",
      "5–7 English hothouse cucumber slices\t\tX\n",
      "\n"
     ]
    }
   ],
   "source": [
    "print(output)"
   ]
  },
  {
   "cell_type": "code",
   "execution_count": 10,
   "metadata": {},
   "outputs": [
    {
     "name": "stdout",
     "output_type": "stream",
     "text": [
      "                                                      \\\n",
      "0                             1 large bunch cilantro   \n",
      "1                           1 jalapeño, stem removed   \n",
      "2                                    2 garlic cloves   \n",
      "3                          3 Tbsp. fresh lemon juice   \n",
      "4                      1 tsp. extra-virgin olive oil   \n",
      "5  1 tsp. Diamond Crystal or ½ tsp. Morton kosher...   \n",
      "6                       2 Tbsp. whipped cream cheese   \n",
      "7  2 ½”-thick slices white sandwich bread (such a...   \n",
      "8               5–7 English hothouse cucumber slices   \n",
      "\n",
      "  Blend 1 large bunch cilantro, 1 jalapeño, stem removed, 2 garlic cloves, 3 Tbsp. fresh lemon juice, 1 tsp. extra-virgin olive oil, and 1 tsp. Diamond Crystal or ½ tsp. Morton kosher salt in a blender or food processor until smooth.  \\\n",
      "0                                                  X                                                                                                                                                                                        \n",
      "1                                                  X                                                                                                                                                                                        \n",
      "2                                                  X                                                                                                                                                                                        \n",
      "3                                                  X                                                                                                                                                                                        \n",
      "4                                                  X                                                                                                                                                                                        \n",
      "5                                                  X                                                                                                                                                                                        \n",
      "6                                                NaN                                                                                                                                                                                        \n",
      "7                                                NaN                                                                                                                                                                                        \n",
      "8                                                NaN                                                                                                                                                                                        \n",
      "\n",
      "  Spread 2 Tbsp. whipped cream cheese over one ½”-thick slice white sandwich bread (such as Pullman) and top with 5–7 English hothouse cucumber slices; season with kosher salt. Spread 2 Tbsp. cilantro chutney over second slice of bread. Close sandwich; cut in half. Remove crusts if desired. Do ahead: Cilantro chutney can be made 3 days in advance; store, chilled, in an airtight container. Editor’s note: This cucumber sandwich recipe was first printed in our June 2022 issue. Head this way for more of our best recipes with cucumbers →  \n",
      "0                                                NaN                                                                                                                                                                                                                                                                                                                                                                                                                                                                                                        \n",
      "1                                                NaN                                                                                                                                                                                                                                                                                                                                                                                                                                                                                                        \n",
      "2                                                NaN                                                                                                                                                                                                                                                                                                                                                                                                                                                                                                        \n",
      "3                                                NaN                                                                                                                                                                                                                                                                                                                                                                                                                                                                                                        \n",
      "4                                                NaN                                                                                                                                                                                                                                                                                                                                                                                                                                                                                                        \n",
      "5                                                  X                                                                                                                                                                                                                                                                                                                                                                                                                                                                                                        \n",
      "6                                                  X                                                                                                                                                                                                                                                                                                                                                                                                                                                                                                        \n",
      "7                                                  X                                                                                                                                                                                                                                                                                                                                                                                                                                                                                                        \n",
      "8                                                  X                                                                                                                                                                                                                                                                                                                                                                                                                                                                                                        \n"
     ]
    }
   ],
   "source": [
    "import pandas as pd\n",
    "from io import StringIO\n",
    "\n",
    "# Read the CSV from the string\n",
    "df = pd.read_csv(StringIO(output), sep=\"\\t\")\n",
    "\n",
    "# Print the dataframe\n",
    "print(df)"
   ]
  },
  {
   "cell_type": "code",
   "execution_count": 26,
   "metadata": {},
   "outputs": [],
   "source": [
    "with open(\"output.tsv\", \"w\") as file:\n",
    "    file.write(output)"
   ]
  },
  {
   "cell_type": "code",
   "execution_count": 11,
   "metadata": {},
   "outputs": [
    {
     "ename": "ModuleNotFoundError",
     "evalue": "No module named 'plotly'",
     "output_type": "error",
     "traceback": [
      "\u001b[0;31m---------------------------------------------------------------------------\u001b[0m",
      "\u001b[0;31mModuleNotFoundError\u001b[0m                       Traceback (most recent call last)",
      "Cell \u001b[0;32mIn[11], line 1\u001b[0m\n\u001b[0;32m----> 1\u001b[0m \u001b[38;5;28;01mimport\u001b[39;00m \u001b[38;5;21;01mplotly\u001b[39;00m\u001b[38;5;21;01m.\u001b[39;00m\u001b[38;5;21;01mgraph_objects\u001b[39;00m \u001b[38;5;28;01mas\u001b[39;00m \u001b[38;5;21;01mgo\u001b[39;00m\n\u001b[1;32m      3\u001b[0m fig \u001b[38;5;241m=\u001b[39m go\u001b[38;5;241m.\u001b[39mFigure(data\u001b[38;5;241m=\u001b[39m[go\u001b[38;5;241m.\u001b[39mTable(\n\u001b[1;32m      4\u001b[0m     header\u001b[38;5;241m=\u001b[39m\u001b[38;5;28mdict\u001b[39m(values\u001b[38;5;241m=\u001b[39m\u001b[38;5;28mlist\u001b[39m(df\u001b[38;5;241m.\u001b[39mcolumns),\n\u001b[1;32m      5\u001b[0m                 fill_color\u001b[38;5;241m=\u001b[39m\u001b[38;5;124m'\u001b[39m\u001b[38;5;124mpaleturquoise\u001b[39m\u001b[38;5;124m'\u001b[39m,\n\u001b[0;32m   (...)\u001b[0m\n\u001b[1;32m      9\u001b[0m                align\u001b[38;5;241m=\u001b[39m\u001b[38;5;124m'\u001b[39m\u001b[38;5;124mleft\u001b[39m\u001b[38;5;124m'\u001b[39m))\n\u001b[1;32m     10\u001b[0m ])\n\u001b[1;32m     11\u001b[0m fig\u001b[38;5;241m.\u001b[39mshow()\n",
      "\u001b[0;31mModuleNotFoundError\u001b[0m: No module named 'plotly'"
     ]
    }
   ],
   "source": [
    "import plotly.graph_objects as go\n",
    "\n",
    "fig = go.Figure(\n",
    "    data=[\n",
    "        go.Table(\n",
    "            header=dict(\n",
    "                values=list(df.columns), fill_color=\"paleturquoise\", align=\"left\"\n",
    "            ),\n",
    "            cells=dict(\n",
    "                values=[df[col] for col in df.columns],\n",
    "                fill_color=\"lavender\",\n",
    "                align=\"left\",\n",
    "            ),\n",
    "        )\n",
    "    ]\n",
    ")\n",
    "fig.show()"
   ]
  },
  {
   "cell_type": "code",
   "execution_count": null,
   "metadata": {},
   "outputs": [],
   "source": []
  }
 ],
 "metadata": {
  "kernelspec": {
   "display_name": "playg",
   "language": "python",
   "name": "python3"
  },
  "language_info": {
   "codemirror_mode": {
    "name": "ipython",
    "version": 3
   },
   "file_extension": ".py",
   "mimetype": "text/x-python",
   "name": "python",
   "nbconvert_exporter": "python",
   "pygments_lexer": "ipython3",
   "version": "3.9.18"
  }
 },
 "nbformat": 4,
 "nbformat_minor": 2
}
