{
 "cells": [
  {
   "cell_type": "code",
   "execution_count": 16,
   "metadata": {},
   "outputs": [],
   "source": [
    "from recipe_gantt.data import get_recipe, get_alpaca_prompt\n",
    "\n",
    "from pathlib import Path\n",
    "import pandas as pd"
   ]
  },
  {
   "cell_type": "code",
   "execution_count": 5,
   "metadata": {},
   "outputs": [],
   "source": [
    "RAW_DATA = Path(\"../../data/recipes-meta.csv\")"
   ]
  },
  {
   "cell_type": "code",
   "execution_count": 6,
   "metadata": {},
   "outputs": [],
   "source": [
    "df = pd.read_csv(RAW_DATA)"
   ]
  },
  {
   "cell_type": "code",
   "execution_count": 12,
   "metadata": {},
   "outputs": [],
   "source": [
    "url = \"https://www.jamieoliver.com/recipes/sausage-recipes/sausage-brunch-baps/\""
   ]
  },
  {
   "cell_type": "code",
   "execution_count": 13,
   "metadata": {},
   "outputs": [
    {
     "data": {
      "text/plain": [
       "False"
      ]
     },
     "execution_count": 13,
     "metadata": {},
     "output_type": "execute_result"
    }
   ],
   "source": [
    "url in df[\"url\"]"
   ]
  },
  {
   "cell_type": "code",
   "execution_count": 17,
   "metadata": {},
   "outputs": [],
   "source": [
    "instruction = \"\"\"Your task is to transform cooking recipes from raw text into a Gantt chart .tsv file which conveys all the same information but graphically so one can see which ingredients are involved in each step. In the end, we wish to produce a downloadable .tsv file containing a table. It will be structured as follows:\n",
    "\n",
    "- the column headers will contain the full text description of each step in the recipe (verbatim as in the original recipe)\n",
    "- Each row will refer to a different ingredient\n",
    "- If a particular ingredient is used in a particular method step then the corresponding cell is marked with an “X” otherwise it’s left blank\n",
    "\n",
    "Tip: It's very important that you break down every single ingredient verbatim (with any preparation information - no changes!) as a separate row and copy the method descriptions and verbatim (without making any changes!) from each step to each column header.\n",
    "\n",
    "Here’s an example:\n",
    "\n",
    "```\n",
    "Ingredients\n",
    "\n",
    "vegetable oil\n",
    "2 large free-range eggs\n",
    "100 g plain flour\n",
    "100 ml milk\n",
    "\n",
    "Method\n",
    "\n",
    "1. Preheat the oven to 225°C/425°F/gas 9.\n",
    "2. Get yourself a cupcake tin and add a tiny splash of vegetable oil into each of the 12 compartments.\n",
    "3. Pop into the oven for 10 to 15 minutes so the oil gets really hot.\n",
    "4. Meanwhile, beat the eggs, flour, milk and a pinch of salt and pepper together in a jug until light and smooth.\n",
    "5. Carefully remove the tray from the oven, then confidently pour the batter evenly into the compartments.\n",
    "6. Pop the tray back in the oven to cook for 12 to 15 minutes, or until risen and golden.\n",
    "```\n",
    "\n",
    "would output this tsv file:\n",
    "```\n",
    "Preheat the oven to 225°C/425°F/gas 9.\tGet yourself a cupcake tin and add a tiny splash of vegetable oil into each of the 12 compartments.\tPop into the oven for 10 to 15 minutes so the oil gets really hot.\tMeanwhile, beat the eggs, flour, milk and a pinch of salt and pepper together in a jug until light and smooth.\tCarefully remove the tray from the oven, then confidently pour the batter evenly into the compartments.\tPop the tray back in the oven to cook for 12 to 15 minutes, or until risen and golden.\n",
    "vegetable oil\t\tX\tX\t\tX\tX\n",
    "2 large free-range eggs\t\t\t\tX\tX\tX\n",
    "100 g plain flour\t\t\t\tX\tX\tX\n",
    "100 ml milk\t\t\t\tX\tX\tX\n",
    "```\"\"\""
   ]
  },
  {
   "cell_type": "code",
   "execution_count": 18,
   "metadata": {},
   "outputs": [],
   "source": [
    "record = {}\n",
    "record[\"instruction\"] = instruction\n",
    "record[\"input\"] = get_recipe(url)"
   ]
  },
  {
   "cell_type": "code",
   "execution_count": 19,
   "metadata": {},
   "outputs": [
    {
     "name": "stdout",
     "output_type": "stream",
     "text": [
      "Ingredients\n",
      "\n",
      "1 higher-welfare pork or vegetarian sausage\n",
      "2 chestnut mushroom\n",
      "½ an avocado\n",
      "½ a lime\n",
      "extra virgin olive oil\n",
      "1 brioche-style burger bun\n",
      "chilli sauce to serve , optional\n",
      "1 free-range egg\n",
      "olive oil\n",
      "15 g Red Leicester or Cheddar cheese\n",
      "\n",
      "Method\n",
      "\n",
      "1. Place a large dry frying pan on a medium-high heat. Score 1 higher-welfare pork (or vegetarian sausage) lengthways and remove the skin, then press into a pattie shape, roughly the same size as the bun and place in the pan. Slice 2 chestnut mushrooms to 1cm thick and add to the pan.\n",
      "2. Cook the sausage patty for 2 minutes on each side, pushing the mushrooms into the sausage fat, until the mushrooms are golden and the sausage is cooked through.\n",
      "3. Meanwhile, destone and thickly slice ½ an avocado then gently fan out the slices. Squeeze over the juice from ½ a lime, drizzle with extra virgin olive oil and add a small pinch of black pepper.\n",
      "4. Halve 1 brioche-style burger bun, push the mushrooms to one side and toast the bun in the pan until golden.\n",
      "5. Spread the bun base with the chilli sauce (if using) and top with the sausage patty and mushrooms.\n",
      "6. Crack 1 egg into a bowl and beat with a fork. Carefully wipe out the pan and place back on the heat. Drizzle in 1 teaspoon of olive oil, then pour in the egg, tilting and swirling the pan, so the egg covers the base. Grate over 15g of Red Leicester or Cheddar cheese, then remove the pan from the heat and use a spatula to carefully flick in the sides of the egg until it's all folded into a perfectly silky omelette.\n",
      "7. Place the omelette on top of the mushrooms, lay over the sliced avocado and drizzle with more chilli sauce, if you like. Top with the bun lid and dig in!\n",
      "\n"
     ]
    }
   ],
   "source": [
    "print(record[\"input\"])"
   ]
  },
  {
   "cell_type": "code",
   "execution_count": 21,
   "metadata": {},
   "outputs": [
    {
     "name": "stdout",
     "output_type": "stream",
     "text": [
      "Below is an instruction that describes a task, paired with an input that provides further context. Write a response that appropriately completes the request.\n",
      "\n",
      "### Instruction:\n",
      "Your task is to transform cooking recipes from raw text into a Gantt chart .tsv file which conveys all the same information but graphically so one can see which ingredients are involved in each step. In the end, we wish to produce a downloadable .tsv file containing a table. It will be structured as follows:\n",
      "\n",
      "- the column headers will contain the full text description of each step in the recipe (verbatim as in the original recipe)\n",
      "- Each row will refer to a different ingredient\n",
      "- If a particular ingredient is used in a particular method step then the corresponding cell is marked with an “X” otherwise it’s left blank\n",
      "\n",
      "Tip: It's very important that you break down every single ingredient verbatim (with any preparation information - no changes!) as a separate row and copy the method descriptions and verbatim (without making any changes!) from each step to each column header.\n",
      "\n",
      "Here’s an example:\n",
      "\n",
      "```\n",
      "Ingredients\n",
      "\n",
      "vegetable oil\n",
      "2 large free-range eggs\n",
      "100 g plain flour\n",
      "100 ml milk\n",
      "\n",
      "Method\n",
      "\n",
      "1. Preheat the oven to 225°C/425°F/gas 9.\n",
      "2. Get yourself a cupcake tin and add a tiny splash of vegetable oil into each of the 12 compartments.\n",
      "3. Pop into the oven for 10 to 15 minutes so the oil gets really hot.\n",
      "4. Meanwhile, beat the eggs, flour, milk and a pinch of salt and pepper together in a jug until light and smooth.\n",
      "5. Carefully remove the tray from the oven, then confidently pour the batter evenly into the compartments.\n",
      "6. Pop the tray back in the oven to cook for 12 to 15 minutes, or until risen and golden.\n",
      "```\n",
      "\n",
      "would output this tsv file:\n",
      "```\n",
      "Preheat the oven to 225°C/425°F/gas 9.\tGet yourself a cupcake tin and add a tiny splash of vegetable oil into each of the 12 compartments.\tPop into the oven for 10 to 15 minutes so the oil gets really hot.\tMeanwhile, beat the eggs, flour, milk and a pinch of salt and pepper together in a jug until light and smooth.\tCarefully remove the tray from the oven, then confidently pour the batter evenly into the compartments.\tPop the tray back in the oven to cook for 12 to 15 minutes, or until risen and golden.\n",
      "vegetable oil\t\tX\tX\t\tX\tX\n",
      "2 large free-range eggs\t\t\t\tX\tX\tX\n",
      "100 g plain flour\t\t\t\tX\tX\tX\n",
      "100 ml milk\t\t\t\tX\tX\tX\n",
      "```\n",
      "\n",
      "### Input:\n",
      "Ingredients\n",
      "\n",
      "1 higher-welfare pork or vegetarian sausage\n",
      "2 chestnut mushroom\n",
      "½ an avocado\n",
      "½ a lime\n",
      "extra virgin olive oil\n",
      "1 brioche-style burger bun\n",
      "chilli sauce to serve , optional\n",
      "1 free-range egg\n",
      "olive oil\n",
      "15 g Red Leicester or Cheddar cheese\n",
      "\n",
      "Method\n",
      "\n",
      "1. Place a large dry frying pan on a medium-high heat. Score 1 higher-welfare pork (or vegetarian sausage) lengthways and remove the skin, then press into a pattie shape, roughly the same size as the bun and place in the pan. Slice 2 chestnut mushrooms to 1cm thick and add to the pan.\n",
      "2. Cook the sausage patty for 2 minutes on each side, pushing the mushrooms into the sausage fat, until the mushrooms are golden and the sausage is cooked through.\n",
      "3. Meanwhile, destone and thickly slice ½ an avocado then gently fan out the slices. Squeeze over the juice from ½ a lime, drizzle with extra virgin olive oil and add a small pinch of black pepper.\n",
      "4. Halve 1 brioche-style burger bun, push the mushrooms to one side and toast the bun in the pan until golden.\n",
      "5. Spread the bun base with the chilli sauce (if using) and top with the sausage patty and mushrooms.\n",
      "6. Crack 1 egg into a bowl and beat with a fork. Carefully wipe out the pan and place back on the heat. Drizzle in 1 teaspoon of olive oil, then pour in the egg, tilting and swirling the pan, so the egg covers the base. Grate over 15g of Red Leicester or Cheddar cheese, then remove the pan from the heat and use a spatula to carefully flick in the sides of the egg until it's all folded into a perfectly silky omelette.\n",
      "7. Place the omelette on top of the mushrooms, lay over the sliced avocado and drizzle with more chilli sauce, if you like. Top with the bun lid and dig in!\n",
      "\n",
      "\n",
      "### Response:\n"
     ]
    }
   ],
   "source": [
    "print(get_alpaca_prompt(record))"
   ]
  },
  {
   "cell_type": "code",
   "execution_count": null,
   "metadata": {},
   "outputs": [],
   "source": []
  },
  {
   "cell_type": "code",
   "execution_count": null,
   "metadata": {},
   "outputs": [],
   "source": []
  },
  {
   "cell_type": "code",
   "execution_count": null,
   "metadata": {},
   "outputs": [],
   "source": []
  },
  {
   "cell_type": "code",
   "execution_count": null,
   "metadata": {},
   "outputs": [],
   "source": []
  }
 ],
 "metadata": {
  "kernelspec": {
   "display_name": "recipe-gantt",
   "language": "python",
   "name": "python3"
  },
  "language_info": {
   "codemirror_mode": {
    "name": "ipython",
    "version": 3
   },
   "file_extension": ".py",
   "mimetype": "text/x-python",
   "name": "python",
   "nbconvert_exporter": "python",
   "pygments_lexer": "ipython3",
   "version": "3.9.18"
  }
 },
 "nbformat": 4,
 "nbformat_minor": 2
}
