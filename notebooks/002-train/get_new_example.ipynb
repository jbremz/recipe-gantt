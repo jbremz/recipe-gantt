{
 "cells": [
  {
   "cell_type": "code",
   "execution_count": 1,
   "metadata": {},
   "outputs": [],
   "source": [
    "from recipe_gantt.data import get_recipe, get_alpaca_prompt\n",
    "\n",
    "from pathlib import Path\n",
    "import pandas as pd"
   ]
  },
  {
   "cell_type": "code",
   "execution_count": 2,
   "metadata": {},
   "outputs": [],
   "source": [
    "RAW_DATA = Path(\"../../data/recipes-meta.csv\")"
   ]
  },
  {
   "cell_type": "code",
   "execution_count": 3,
   "metadata": {},
   "outputs": [],
   "source": [
    "df = pd.read_csv(RAW_DATA)"
   ]
  },
  {
   "cell_type": "code",
   "execution_count": 4,
   "metadata": {},
   "outputs": [],
   "source": [
    "url = \"https://www.jamieoliver.com/recipes/liver-recipes/liver-bacon-onions/\""
   ]
  },
  {
   "cell_type": "code",
   "execution_count": 5,
   "metadata": {},
   "outputs": [
    {
     "data": {
      "text/plain": [
       "False"
      ]
     },
     "execution_count": 5,
     "metadata": {},
     "output_type": "execute_result"
    }
   ],
   "source": [
    "url in df[\"url\"]"
   ]
  },
  {
   "cell_type": "code",
   "execution_count": 6,
   "metadata": {},
   "outputs": [],
   "source": [
    "instruction = \"\"\"Your task is to transform cooking recipes from raw text into a Gantt chart .tsv file which conveys all the same information but graphically so one can see which ingredients are involved in each step. In the end, we wish to produce a downloadable .tsv file containing a table. It will be structured as follows:\n",
    "\n",
    "- the column headers will contain the full text description of each step in the recipe (verbatim as in the original recipe)\n",
    "- Each row will refer to a different ingredient\n",
    "- If a particular ingredient is used in a particular method step then the corresponding cell is marked with an “X” otherwise it’s left blank\n",
    "\n",
    "Tip: It's very important that you break down every single ingredient verbatim (with any preparation information - no changes!) as a separate row and copy the method descriptions and verbatim (without making any changes!) from each step to each column header.\n",
    "\n",
    "Here’s an example:\n",
    "\n",
    "```\n",
    "Ingredients\n",
    "\n",
    "vegetable oil\n",
    "2 large free-range eggs\n",
    "100 g plain flour\n",
    "100 ml milk\n",
    "\n",
    "Method\n",
    "\n",
    "1. Preheat the oven to 225°C/425°F/gas 9.\n",
    "2. Get yourself a cupcake tin and add a tiny splash of vegetable oil into each of the 12 compartments.\n",
    "3. Pop into the oven for 10 to 15 minutes so the oil gets really hot.\n",
    "4. Meanwhile, beat the eggs, flour, milk and a pinch of salt and pepper together in a jug until light and smooth.\n",
    "5. Carefully remove the tray from the oven, then confidently pour the batter evenly into the compartments.\n",
    "6. Pop the tray back in the oven to cook for 12 to 15 minutes, or until risen and golden.\n",
    "```\n",
    "\n",
    "would output this tsv file:\n",
    "```\n",
    "Preheat the oven to 225°C/425°F/gas 9.\tGet yourself a cupcake tin and add a tiny splash of vegetable oil into each of the 12 compartments.\tPop into the oven for 10 to 15 minutes so the oil gets really hot.\tMeanwhile, beat the eggs, flour, milk and a pinch of salt and pepper together in a jug until light and smooth.\tCarefully remove the tray from the oven, then confidently pour the batter evenly into the compartments.\tPop the tray back in the oven to cook for 12 to 15 minutes, or until risen and golden.\n",
    "vegetable oil\t\tX\tX\t\tX\tX\n",
    "2 large free-range eggs\t\t\t\tX\tX\tX\n",
    "100 g plain flour\t\t\t\tX\tX\tX\n",
    "100 ml milk\t\t\t\tX\tX\tX\n",
    "```\"\"\""
   ]
  },
  {
   "cell_type": "code",
   "execution_count": 7,
   "metadata": {},
   "outputs": [],
   "source": [
    "record = {}\n",
    "record[\"instruction\"] = instruction\n",
    "record[\"input\"] = get_recipe(url)"
   ]
  },
  {
   "cell_type": "code",
   "execution_count": 8,
   "metadata": {},
   "outputs": [
    {
     "name": "stdout",
     "output_type": "stream",
     "text": [
      "Ingredients\n",
      "\n",
      "½ a red onion\n",
      "2 sprigs of fresh sage\n",
      "1 slice of sourdough bread , (50g)\n",
      "1 rasher of smoked higher-welfare streaky bacon\n",
      "125 g slice of higher-welfare calves’ liver\n",
      "\n",
      "Method\n",
      "\n",
      "1. Peel and very finely slice the red onion. Place in a large non-stick frying pan on a medium-high heat with 1 teaspoon of olive oil.\n",
      "2. Reserving 2 nice leaves, pick, finely slice and add the rest of the sage. Cook for 5 minutes, tossing regularly.\n",
      "3. Push the onions to one side, and add the bread and bacon to the pan. As soon as they crisp up, flip them over. Drizzle the soft, golden onions with a little red wine vinegar, toss with tongs, then move them on top of the bread, so they don’t catch. Once the bacon is golden, move that on top of the onions.\n",
      "4. Lightly season the liver, then add to the pan to sear for just 1 minute on each side, so it’s golden on the outside, blushing in the middle.\n",
      "5. Add the 2 reserved sage leaves alongside, with 1 teaspoon of olive oil to crisp them up, then serve.\n",
      "\n"
     ]
    }
   ],
   "source": [
    "print(record[\"input\"])"
   ]
  },
  {
   "cell_type": "code",
   "execution_count": 9,
   "metadata": {},
   "outputs": [
    {
     "name": "stdout",
     "output_type": "stream",
     "text": [
      "Below is an instruction that describes a task, paired with an input that provides further context. Write a response that appropriately completes the request.\n",
      "\n",
      "### Instruction:\n",
      "Your task is to transform cooking recipes from raw text into a Gantt chart .tsv file which conveys all the same information but graphically so one can see which ingredients are involved in each step. In the end, we wish to produce a downloadable .tsv file containing a table. It will be structured as follows:\n",
      "\n",
      "- the column headers will contain the full text description of each step in the recipe (verbatim as in the original recipe)\n",
      "- Each row will refer to a different ingredient\n",
      "- If a particular ingredient is used in a particular method step then the corresponding cell is marked with an “X” otherwise it’s left blank\n",
      "\n",
      "Tip: It's very important that you break down every single ingredient verbatim (with any preparation information - no changes!) as a separate row and copy the method descriptions and verbatim (without making any changes!) from each step to each column header.\n",
      "\n",
      "Here’s an example:\n",
      "\n",
      "```\n",
      "Ingredients\n",
      "\n",
      "vegetable oil\n",
      "2 large free-range eggs\n",
      "100 g plain flour\n",
      "100 ml milk\n",
      "\n",
      "Method\n",
      "\n",
      "1. Preheat the oven to 225°C/425°F/gas 9.\n",
      "2. Get yourself a cupcake tin and add a tiny splash of vegetable oil into each of the 12 compartments.\n",
      "3. Pop into the oven for 10 to 15 minutes so the oil gets really hot.\n",
      "4. Meanwhile, beat the eggs, flour, milk and a pinch of salt and pepper together in a jug until light and smooth.\n",
      "5. Carefully remove the tray from the oven, then confidently pour the batter evenly into the compartments.\n",
      "6. Pop the tray back in the oven to cook for 12 to 15 minutes, or until risen and golden.\n",
      "```\n",
      "\n",
      "would output this tsv file:\n",
      "```\n",
      "Preheat the oven to 225°C/425°F/gas 9.\tGet yourself a cupcake tin and add a tiny splash of vegetable oil into each of the 12 compartments.\tPop into the oven for 10 to 15 minutes so the oil gets really hot.\tMeanwhile, beat the eggs, flour, milk and a pinch of salt and pepper together in a jug until light and smooth.\tCarefully remove the tray from the oven, then confidently pour the batter evenly into the compartments.\tPop the tray back in the oven to cook for 12 to 15 minutes, or until risen and golden.\n",
      "vegetable oil\t\tX\tX\t\tX\tX\n",
      "2 large free-range eggs\t\t\t\tX\tX\tX\n",
      "100 g plain flour\t\t\t\tX\tX\tX\n",
      "100 ml milk\t\t\t\tX\tX\tX\n",
      "```\n",
      "\n",
      "### Input:\n",
      "Ingredients\n",
      "\n",
      "½ a red onion\n",
      "2 sprigs of fresh sage\n",
      "1 slice of sourdough bread , (50g)\n",
      "1 rasher of smoked higher-welfare streaky bacon\n",
      "125 g slice of higher-welfare calves’ liver\n",
      "\n",
      "Method\n",
      "\n",
      "1. Peel and very finely slice the red onion. Place in a large non-stick frying pan on a medium-high heat with 1 teaspoon of olive oil.\n",
      "2. Reserving 2 nice leaves, pick, finely slice and add the rest of the sage. Cook for 5 minutes, tossing regularly.\n",
      "3. Push the onions to one side, and add the bread and bacon to the pan. As soon as they crisp up, flip them over. Drizzle the soft, golden onions with a little red wine vinegar, toss with tongs, then move them on top of the bread, so they don’t catch. Once the bacon is golden, move that on top of the onions.\n",
      "4. Lightly season the liver, then add to the pan to sear for just 1 minute on each side, so it’s golden on the outside, blushing in the middle.\n",
      "5. Add the 2 reserved sage leaves alongside, with 1 teaspoon of olive oil to crisp them up, then serve.\n",
      "\n",
      "\n",
      "### Response:\n"
     ]
    }
   ],
   "source": [
    "print(get_alpaca_prompt(record))"
   ]
  }
 ],
 "metadata": {
  "kernelspec": {
   "display_name": "recipe-gantt",
   "language": "python",
   "name": "python3"
  },
  "language_info": {
   "codemirror_mode": {
    "name": "ipython",
    "version": 3
   },
   "file_extension": ".py",
   "mimetype": "text/x-python",
   "name": "python",
   "nbconvert_exporter": "python",
   "pygments_lexer": "ipython3",
   "version": "3.9.18"
  }
 },
 "nbformat": 4,
 "nbformat_minor": 2
}
