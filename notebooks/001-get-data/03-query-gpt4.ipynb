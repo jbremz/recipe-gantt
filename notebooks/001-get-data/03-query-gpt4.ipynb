{
 "cells": [
  {
   "cell_type": "markdown",
   "metadata": {},
   "source": [
    "# Query GPT4"
   ]
  },
  {
   "cell_type": "markdown",
   "metadata": {},
   "source": [
    "I'm going to automate my first pass data GPT-4 generation using the API. "
   ]
  },
  {
   "cell_type": "code",
   "execution_count": 15,
   "metadata": {},
   "outputs": [],
   "source": [
    "from pathlib import Path\n",
    "import os\n",
    "from openai import OpenAI\n",
    "from dotenv import load_dotenv\n",
    "import random\n",
    "import time\n",
    "import pandas as pd\n",
    "from tqdm.notebook import tqdm\n",
    "\n",
    "load_dotenv()\n",
    "\n",
    "Path.ls = lambda x: list(x.iterdir())"
   ]
  },
  {
   "cell_type": "code",
   "execution_count": 16,
   "metadata": {},
   "outputs": [
    {
     "data": {
      "text/plain": [
       "426"
      ]
     },
     "execution_count": 16,
     "metadata": {},
     "output_type": "execute_result"
    }
   ],
   "source": [
    "ASST_ID = os.environ.get(\"ASST_ID\")\n",
    "\n",
    "PROJECT = Path(\"../../\")\n",
    "\n",
    "PROMPT = PROJECT / \"prompt.txt\"\n",
    "\n",
    "DATA = PROJECT / \"data\"\n",
    "len((DATA / \"recipes\").ls())"
   ]
  },
  {
   "cell_type": "code",
   "execution_count": 17,
   "metadata": {},
   "outputs": [
    {
     "data": {
      "text/html": [
       "<div>\n",
       "<style scoped>\n",
       "    .dataframe tbody tr th:only-of-type {\n",
       "        vertical-align: middle;\n",
       "    }\n",
       "\n",
       "    .dataframe tbody tr th {\n",
       "        vertical-align: top;\n",
       "    }\n",
       "\n",
       "    .dataframe thead th {\n",
       "        text-align: right;\n",
       "    }\n",
       "</style>\n",
       "<table border=\"1\" class=\"dataframe\">\n",
       "  <thead>\n",
       "    <tr style=\"text-align: right;\">\n",
       "      <th></th>\n",
       "      <th>_id</th>\n",
       "      <th>name</th>\n",
       "      <th>ingredients</th>\n",
       "      <th>url</th>\n",
       "      <th>image</th>\n",
       "      <th>ts</th>\n",
       "      <th>cookTime</th>\n",
       "      <th>source</th>\n",
       "      <th>recipeYield</th>\n",
       "      <th>datePublished</th>\n",
       "      <th>prepTime</th>\n",
       "      <th>description</th>\n",
       "      <th>totalTime</th>\n",
       "      <th>creator</th>\n",
       "      <th>recipeCategory</th>\n",
       "      <th>dateModified</th>\n",
       "      <th>recipeInstructions</th>\n",
       "      <th>simple_url</th>\n",
       "    </tr>\n",
       "  </thead>\n",
       "  <tbody>\n",
       "    <tr>\n",
       "      <th>0</th>\n",
       "      <td>{'$oid': '516b456d96cc6251ae131a46'}</td>\n",
       "      <td>Green Curry Broth</td>\n",
       "      <td>1 tablespoon coriander seeds\\n1 1/2 teaspoon w...</td>\n",
       "      <td>http://www.101cookbooks.com/archives/green-cur...</td>\n",
       "      <td>http://www.101cookbooks.com/mt-static/images/f...</td>\n",
       "      <td>{'$date': 1365984621817}</td>\n",
       "      <td>PT15M</td>\n",
       "      <td>101cookbooks</td>\n",
       "      <td>Serves 4.</td>\n",
       "      <td>2010-08-24</td>\n",
       "      <td>PT20M</td>\n",
       "      <td>A beautiful, thin green curry broth, fragrant ...</td>\n",
       "      <td>NaN</td>\n",
       "      <td>NaN</td>\n",
       "      <td>NaN</td>\n",
       "      <td>NaN</td>\n",
       "      <td>NaN</td>\n",
       "      <td>101cookbooks.com</td>\n",
       "    </tr>\n",
       "    <tr>\n",
       "      <th>1</th>\n",
       "      <td>{'$oid': '516b454f96cc6251ae1319e7'}</td>\n",
       "      <td>Heirloom Beans &amp;amp; Seitan Recipe</td>\n",
       "      <td>1 small-medium head of broccoli or broccolini,...</td>\n",
       "      <td>http://www.101cookbooks.com/archives/heirloom-...</td>\n",
       "      <td>http://www.101cookbooks.com/mt-static/images/f...</td>\n",
       "      <td>{'$date': 1365984591273}</td>\n",
       "      <td>PT20M</td>\n",
       "      <td>101cookbooks</td>\n",
       "      <td>NaN</td>\n",
       "      <td>2009-11-30</td>\n",
       "      <td>PT10M</td>\n",
       "      <td>This is simply heirloom beans and roasted broc...</td>\n",
       "      <td>NaN</td>\n",
       "      <td>NaN</td>\n",
       "      <td>NaN</td>\n",
       "      <td>NaN</td>\n",
       "      <td>NaN</td>\n",
       "      <td>101cookbooks.com</td>\n",
       "    </tr>\n",
       "    <tr>\n",
       "      <th>2</th>\n",
       "      <td>{'$oid': '516b451796cc6251ae13196d'}</td>\n",
       "      <td>Spiced Caramel Corn</td>\n",
       "      <td>4 ounces whole macadamia nuts (about 1 cup), o...</td>\n",
       "      <td>http://www.101cookbooks.com/archives/000169.html</td>\n",
       "      <td>http://www.101cookbooks.com/mt-static/images/f...</td>\n",
       "      <td>{'$date': 1365984535371}</td>\n",
       "      <td>NaN</td>\n",
       "      <td>101cookbooks</td>\n",
       "      <td>NaN</td>\n",
       "      <td>2005-05-24</td>\n",
       "      <td>NaN</td>\n",
       "      <td>101 Cookbooks: From the Archives: Spiced Caram...</td>\n",
       "      <td>NaN</td>\n",
       "      <td>NaN</td>\n",
       "      <td>NaN</td>\n",
       "      <td>NaN</td>\n",
       "      <td>NaN</td>\n",
       "      <td>101cookbooks.com</td>\n",
       "    </tr>\n",
       "    <tr>\n",
       "      <th>3</th>\n",
       "      <td>{'$oid': '516b455196cc6251ae1319ed'}</td>\n",
       "      <td>Buttermilk Squash Soup Recipe</td>\n",
       "      <td>1 teaspoon cumin seeds\\n1/4 cup / 2 oz / 55g u...</td>\n",
       "      <td>http://www.101cookbooks.com/archives/buttermil...</td>\n",
       "      <td>http://www.101cookbooks.com/mt-static/images/f...</td>\n",
       "      <td>{'$date': 1365984593142}</td>\n",
       "      <td>PT40M</td>\n",
       "      <td>101cookbooks</td>\n",
       "      <td>NaN</td>\n",
       "      <td>2010-07-06</td>\n",
       "      <td>PT15M</td>\n",
       "      <td>A nice way to use up a good amount of summer s...</td>\n",
       "      <td>NaN</td>\n",
       "      <td>NaN</td>\n",
       "      <td>NaN</td>\n",
       "      <td>NaN</td>\n",
       "      <td>NaN</td>\n",
       "      <td>101cookbooks.com</td>\n",
       "    </tr>\n",
       "    <tr>\n",
       "      <th>4</th>\n",
       "      <td>{'$oid': '516b45b296cc6251ae131b0a'}</td>\n",
       "      <td>Honey-sweetened Thumbprint Cookie Recipe</td>\n",
       "      <td>2/3 cup honey (I use a clover honey)\\n1/3 cup ...</td>\n",
       "      <td>http://www.101cookbooks.com/archives/honeyswee...</td>\n",
       "      <td>http://www.101cookbooks.com/mt-static/images/f...</td>\n",
       "      <td>{'$date': 1365984690972}</td>\n",
       "      <td>NaN</td>\n",
       "      <td>101cookbooks</td>\n",
       "      <td>Makes a few dozen cookies.</td>\n",
       "      <td>2009-03-05</td>\n",
       "      <td>NaN</td>\n",
       "      <td>A simple thumbprint cookie recipe. Made with w...</td>\n",
       "      <td>NaN</td>\n",
       "      <td>NaN</td>\n",
       "      <td>NaN</td>\n",
       "      <td>NaN</td>\n",
       "      <td>NaN</td>\n",
       "      <td>101cookbooks.com</td>\n",
       "    </tr>\n",
       "  </tbody>\n",
       "</table>\n",
       "</div>"
      ],
      "text/plain": [
       "                                    _id  \\\n",
       "0  {'$oid': '516b456d96cc6251ae131a46'}   \n",
       "1  {'$oid': '516b454f96cc6251ae1319e7'}   \n",
       "2  {'$oid': '516b451796cc6251ae13196d'}   \n",
       "3  {'$oid': '516b455196cc6251ae1319ed'}   \n",
       "4  {'$oid': '516b45b296cc6251ae131b0a'}   \n",
       "\n",
       "                                       name  \\\n",
       "0                         Green Curry Broth   \n",
       "1        Heirloom Beans &amp; Seitan Recipe   \n",
       "2                       Spiced Caramel Corn   \n",
       "3             Buttermilk Squash Soup Recipe   \n",
       "4  Honey-sweetened Thumbprint Cookie Recipe   \n",
       "\n",
       "                                         ingredients  \\\n",
       "0  1 tablespoon coriander seeds\\n1 1/2 teaspoon w...   \n",
       "1  1 small-medium head of broccoli or broccolini,...   \n",
       "2  4 ounces whole macadamia nuts (about 1 cup), o...   \n",
       "3  1 teaspoon cumin seeds\\n1/4 cup / 2 oz / 55g u...   \n",
       "4  2/3 cup honey (I use a clover honey)\\n1/3 cup ...   \n",
       "\n",
       "                                                 url  \\\n",
       "0  http://www.101cookbooks.com/archives/green-cur...   \n",
       "1  http://www.101cookbooks.com/archives/heirloom-...   \n",
       "2   http://www.101cookbooks.com/archives/000169.html   \n",
       "3  http://www.101cookbooks.com/archives/buttermil...   \n",
       "4  http://www.101cookbooks.com/archives/honeyswee...   \n",
       "\n",
       "                                               image  \\\n",
       "0  http://www.101cookbooks.com/mt-static/images/f...   \n",
       "1  http://www.101cookbooks.com/mt-static/images/f...   \n",
       "2  http://www.101cookbooks.com/mt-static/images/f...   \n",
       "3  http://www.101cookbooks.com/mt-static/images/f...   \n",
       "4  http://www.101cookbooks.com/mt-static/images/f...   \n",
       "\n",
       "                         ts cookTime        source  \\\n",
       "0  {'$date': 1365984621817}    PT15M  101cookbooks   \n",
       "1  {'$date': 1365984591273}    PT20M  101cookbooks   \n",
       "2  {'$date': 1365984535371}      NaN  101cookbooks   \n",
       "3  {'$date': 1365984593142}    PT40M  101cookbooks   \n",
       "4  {'$date': 1365984690972}      NaN  101cookbooks   \n",
       "\n",
       "                  recipeYield datePublished prepTime  \\\n",
       "0                   Serves 4.    2010-08-24    PT20M   \n",
       "1                         NaN    2009-11-30    PT10M   \n",
       "2                         NaN    2005-05-24      NaN   \n",
       "3                         NaN    2010-07-06    PT15M   \n",
       "4  Makes a few dozen cookies.    2009-03-05      NaN   \n",
       "\n",
       "                                         description totalTime  creator  \\\n",
       "0  A beautiful, thin green curry broth, fragrant ...       NaN      NaN   \n",
       "1  This is simply heirloom beans and roasted broc...       NaN      NaN   \n",
       "2  101 Cookbooks: From the Archives: Spiced Caram...       NaN      NaN   \n",
       "3  A nice way to use up a good amount of summer s...       NaN      NaN   \n",
       "4  A simple thumbprint cookie recipe. Made with w...       NaN      NaN   \n",
       "\n",
       "   recipeCategory  dateModified  recipeInstructions        simple_url  \n",
       "0             NaN           NaN                 NaN  101cookbooks.com  \n",
       "1             NaN           NaN                 NaN  101cookbooks.com  \n",
       "2             NaN           NaN                 NaN  101cookbooks.com  \n",
       "3             NaN           NaN                 NaN  101cookbooks.com  \n",
       "4             NaN           NaN                 NaN  101cookbooks.com  "
      ]
     },
     "execution_count": 17,
     "metadata": {},
     "output_type": "execute_result"
    }
   ],
   "source": [
    "df = pd.read_csv(DATA / \"recipes-meta.csv\")\n",
    "df.head()"
   ]
  },
  {
   "cell_type": "markdown",
   "metadata": {},
   "source": [
    "## Setup"
   ]
  },
  {
   "cell_type": "code",
   "execution_count": 18,
   "metadata": {},
   "outputs": [],
   "source": [
    "client = OpenAI(\n",
    "    # This is the default and can be omitted\n",
    "    api_key=os.environ.get(\"OPENAI_API_KEY\"),\n",
    ")\n",
    "assistant = client.beta.assistants.retrieve(ASST_ID)"
   ]
  },
  {
   "cell_type": "code",
   "execution_count": 19,
   "metadata": {},
   "outputs": [],
   "source": [
    "import logging\n",
    "\n",
    "# Set up logging configuration\n",
    "logging.basicConfig(level=logging.INFO)\n",
    "logging.getLogger(\"httpx\").setLevel(logging.WARNING)\n",
    "\n",
    "\n",
    "def get_response(recipe):\n",
    "    thread = client.beta.threads.create()\n",
    "    message = client.beta.threads.messages.create(\n",
    "        thread_id=thread.id,\n",
    "        role=\"user\",\n",
    "        content=recipe,\n",
    "    )\n",
    "    run = client.beta.threads.runs.create(\n",
    "        thread_id=thread.id, assistant_id=assistant.id, instructions=\"\"\n",
    "    )\n",
    "    status = None\n",
    "    logging.info(\"Waiting for response...\")\n",
    "    while status != \"completed\":\n",
    "        run = client.beta.threads.runs.retrieve(thread_id=thread.id, run_id=run.id)\n",
    "        status = run.status\n",
    "        time.sleep(1)\n",
    "    logging.info(\"Response received 🥳\")\n",
    "    messages = client.beta.threads.messages.list(thread_id=thread.id)\n",
    "    return messages\n",
    "\n",
    "\n",
    "def get_file_id(messages):\n",
    "    annotations = (\n",
    "        messages.model_dump()\n",
    "        .get(\"data\", [{}])[0]\n",
    "        .get(\"content\", [{}])[0]\n",
    "        .get(\"text\", {})\n",
    "        .get(\"annotations\", [{}])\n",
    "    )\n",
    "    if annotations:\n",
    "        file_id = annotations[0].get(\"file_path\", {}).get(\"file_id\")\n",
    "    else:\n",
    "        file_id = None\n",
    "    return file_id\n",
    "\n",
    "\n",
    "def download_file(file_id, fp):\n",
    "    api_response = client.files.with_raw_response.retrieve_content(file_id)\n",
    "    if api_response.status_code == 200:\n",
    "        content = api_response.content\n",
    "        with open(fp, \"wb\") as f:\n",
    "            f.write(content)\n",
    "        logging.info(f\"File downloaded successfully to {fp}\")"
   ]
  },
  {
   "cell_type": "markdown",
   "metadata": {},
   "source": [
    "## Process recipes"
   ]
  },
  {
   "cell_type": "code",
   "execution_count": 20,
   "metadata": {},
   "outputs": [
    {
     "data": {
      "text/plain": [
       "138"
      ]
     },
     "execution_count": 20,
     "metadata": {},
     "output_type": "execute_result"
    }
   ],
   "source": [
    "already_generated = [p.parts[-2] for p in (DATA / \"recipes\").glob(\"*/gantt.tsv\")]\n",
    "gdf = df.loc[~df[\"name\"].isin(already_generated)].copy()\n",
    "len(gdf)"
   ]
  },
  {
   "cell_type": "code",
   "execution_count": null,
   "metadata": {},
   "outputs": [],
   "source": [
    "missed = []\n",
    "for i, row in tqdm(gdf.iterrows(), total=len(df)):\n",
    "    dir = DATA / \"recipes\" / row[\"name\"]\n",
    "    assert dir.exists()\n",
    "    logging.info(f\"Processing {dir.parts[-1]}\")\n",
    "    recipe = dir / \"recipe.txt\"\n",
    "    recipe = recipe.read_text()\n",
    "    messages = get_response(recipe)\n",
    "    file_id = get_file_id(messages)\n",
    "    if file_id is not None:\n",
    "        download_file(file_id, dir / \"gantt.tsv\")\n",
    "    else:\n",
    "        logging.info(\"No file produced\")\n",
    "        missed.append(dir.parts[-1])\n",
    "\n",
    "# save missed to a file\n",
    "with open(\"missed.txt\", \"w\") as f:\n",
    "    f.write(\"\\n\".join([str(x) for x in missed]))"
   ]
  },
  {
   "cell_type": "code",
   "execution_count": 29,
   "metadata": {},
   "outputs": [
    {
     "name": "stdout",
     "output_type": "stream",
     "text": [
      "Number of recipes: 288\n",
      "Total dataset size: 0.47 MiB\n"
     ]
    }
   ],
   "source": [
    "already_generated = [p.parts[-2] for p in (DATA / \"recipes\").glob(\"*/gantt.tsv\")]\n",
    "print(f\"Number of recipes: {len(already_generated)}\")\n",
    "\n",
    "# total storage used by tsv files\n",
    "dataset_size = (\n",
    "    sum(p.stat().st_size for p in (DATA / \"recipes\").glob(\"*/gantt.tsv\")) / 2**20\n",
    ")\n",
    "print(f\"Total dataset size: {dataset_size:.2f} MiB\")"
   ]
  },
  {
   "cell_type": "markdown",
   "metadata": {},
   "source": [
    "So we have a very small dataset but I think it's worth having a go finetuning with it, at least as a POC. I'm not sure I'm keen to spend more of my own money generating a bigger dataset. Hopefully I can get _some_ improvements and then get a prove that all this problem would need is a bigger dataset."
   ]
  }
 ],
 "metadata": {
  "kernelspec": {
   "display_name": "playg",
   "language": "python",
   "name": "python3"
  },
  "language_info": {
   "codemirror_mode": {
    "name": "ipython",
    "version": 3
   },
   "file_extension": ".py",
   "mimetype": "text/x-python",
   "name": "python",
   "nbconvert_exporter": "python",
   "pygments_lexer": "ipython3",
   "version": "3.8.13"
  }
 },
 "nbformat": 4,
 "nbformat_minor": 2
}
