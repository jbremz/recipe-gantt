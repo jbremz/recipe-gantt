{
 "cells": [
  {
   "cell_type": "markdown",
   "metadata": {},
   "source": [
    "I'm going to automate my first pass data GPT-4 generation using the API. "
   ]
  },
  {
   "cell_type": "code",
   "execution_count": 8,
   "metadata": {},
   "outputs": [],
   "source": [
    "from pathlib import Path\n",
    "import os\n",
    "from openai import OpenAI\n",
    "from dotenv import load_dotenv\n",
    "import random\n",
    "import time\n",
    "\n",
    "load_dotenv()\n",
    "\n",
    "Path.ls = lambda x: list(x.iterdir())"
   ]
  },
  {
   "cell_type": "code",
   "execution_count": 4,
   "metadata": {},
   "outputs": [
    {
     "data": {
      "text/plain": [
       "1"
      ]
     },
     "execution_count": 4,
     "metadata": {},
     "output_type": "execute_result"
    }
   ],
   "source": [
    "ASST_ID = os.environ.get(\"ASST_ID\")\n",
    "\n",
    "PROJECT = Path(\"../../\")\n",
    "\n",
    "PROMPT = PROJECT / \"prompt.txt\"\n",
    "\n",
    "DATA = PROJECT / \"data\"\n",
    "len(DATA.ls())"
   ]
  },
  {
   "cell_type": "code",
   "execution_count": 6,
   "metadata": {},
   "outputs": [
    {
     "name": "stdout",
     "output_type": "stream",
     "text": [
      "Ingredients\n",
      "1 tbsp ponzu sauce\n",
      "½ tbsp rice vinegar\n",
      "5g ginger, peeled and grated\n",
      "1 tsp sesame oil\n",
      "300g silken tofu\n",
      "100g edamame beans\n",
      "250g pouch cooked quinoa\n",
      "100g radishes, sliced\n",
      "2 carrots, peeled into ribbons\n",
      "2 spring onions, finely sliced\n",
      "2 small seaweed thins, crumbled\n",
      "1 tsp sesame seeds\n",
      "Method\n",
      "STEP 1\n",
      "Combine the ponzu, vinegar, ginger and sesame oil in a bowl. Pat the tofu dry using kitchen paper and tear into chunks, then gently toss in the ponzu mixture.\n",
      "\n",
      "STEP 2\n",
      "Pour some boiling water over the edamame and set aside for 2 mins before draining thoroughly and seasoning with salt.\n",
      "\n",
      "STEP 3\n",
      "Divide the quinoa between bowls and top with the edamame, radishes and carrots. Spoon over the tofu and drizzle over the remaining dressing before scattering over the spring onions, seaweed and sesame seeds.\n"
     ]
    }
   ],
   "source": [
    "example = random.choice(DATA.ls())\n",
    "fp = example / \"recipe.txt\"\n",
    "recipe = fp.read_text()\n",
    "print(recipe)"
   ]
  },
  {
   "cell_type": "code",
   "execution_count": 7,
   "metadata": {},
   "outputs": [],
   "source": [
    "client = OpenAI(\n",
    "    # This is the default and can be omitted\n",
    "    api_key=os.environ.get(\"OPENAI_API_KEY\"),\n",
    ")\n",
    "assistant = client.beta.assistants.retrieve(ASST_ID)"
   ]
  },
  {
   "cell_type": "code",
   "execution_count": 13,
   "metadata": {},
   "outputs": [],
   "source": [
    "def get_response(recipe):\n",
    "    thread = client.beta.threads.create()\n",
    "    message = client.beta.threads.messages.create(\n",
    "        thread_id=thread.id,\n",
    "        role=\"user\",\n",
    "        content=recipe,\n",
    "    )\n",
    "    run = client.beta.threads.runs.create(\n",
    "        thread_id=thread.id, assistant_id=assistant.id, instructions=\"\"\n",
    "    )\n",
    "    status = None\n",
    "    print(\"Waiting for response...\")\n",
    "    while status != \"completed\":\n",
    "        run = client.beta.threads.runs.retrieve(thread_id=thread.id, run_id=run.id)\n",
    "        status = run.status\n",
    "        time.sleep(1)\n",
    "    print(\"Response received 🥳\")\n",
    "    messages = client.beta.threads.messages.list(thread_id=thread.id)\n",
    "    return messages"
   ]
  },
  {
   "cell_type": "code",
   "execution_count": 12,
   "metadata": {},
   "outputs": [
    {
     "name": "stdout",
     "output_type": "stream",
     "text": [
      "Waiting for response...\n"
     ]
    }
   ],
   "source": [
    "messages = get_response(recipe)"
   ]
  },
  {
   "cell_type": "code",
   "execution_count": 28,
   "metadata": {},
   "outputs": [
    {
     "data": {
      "text/plain": [
       "'file-XK98I5nffInEHVVweRbZjhLl'"
      ]
     },
     "execution_count": 28,
     "metadata": {},
     "output_type": "execute_result"
    }
   ],
   "source": [
    "file_id = (\n",
    "    messages.model_dump()\n",
    "    .get(\"data\", [{}])[0]\n",
    "    .get(\"content\", [{}])[0]\n",
    "    .get(\"text\", {})\n",
    "    .get(\"annotations\", [{}])[0]\n",
    "    .get(\"file_path\", {})\n",
    "    .get(\"file_id\")\n",
    ")\n",
    "file_id"
   ]
  }
 ],
 "metadata": {
  "kernelspec": {
   "display_name": "playg",
   "language": "python",
   "name": "python3"
  },
  "language_info": {
   "codemirror_mode": {
    "name": "ipython",
    "version": 3
   },
   "file_extension": ".py",
   "mimetype": "text/x-python",
   "name": "python",
   "nbconvert_exporter": "python",
   "pygments_lexer": "ipython3",
   "version": "3.8.13"
  }
 },
 "nbformat": 4,
 "nbformat_minor": 2
}
