{
 "cells": [
  {
   "cell_type": "markdown",
   "metadata": {},
   "source": [
    "I'm going to automate my first pass data GPT-4 generation using the API. "
   ]
  },
  {
   "cell_type": "code",
   "execution_count": 8,
   "metadata": {},
   "outputs": [],
   "source": [
    "from pathlib import Path\n",
    "import os\n",
    "from openai import OpenAI\n",
    "from dotenv import load_dotenv\n",
    "import random\n",
    "import time\n",
    "\n",
    "load_dotenv()\n",
    "\n",
    "Path.ls = lambda x: list(x.iterdir())"
   ]
  },
  {
   "cell_type": "code",
   "execution_count": 4,
   "metadata": {},
   "outputs": [
    {
     "data": {
      "text/plain": [
       "1"
      ]
     },
     "execution_count": 4,
     "metadata": {},
     "output_type": "execute_result"
    }
   ],
   "source": [
    "ASST_ID = os.environ.get(\"ASST_ID\")\n",
    "\n",
    "PROJECT = Path(\"../../\")\n",
    "\n",
    "PROMPT = PROJECT / \"prompt.txt\"\n",
    "\n",
    "DATA = PROJECT / \"data\"\n",
    "len(DATA.ls())"
   ]
  },
  {
   "cell_type": "code",
   "execution_count": 6,
   "metadata": {},
   "outputs": [
    {
     "name": "stdout",
     "output_type": "stream",
     "text": [
      "Ingredients\n",
      "1 tbsp ponzu sauce\n",
      "½ tbsp rice vinegar\n",
      "5g ginger, peeled and grated\n",
      "1 tsp sesame oil\n",
      "300g silken tofu\n",
      "100g edamame beans\n",
      "250g pouch cooked quinoa\n",
      "100g radishes, sliced\n",
      "2 carrots, peeled into ribbons\n",
      "2 spring onions, finely sliced\n",
      "2 small seaweed thins, crumbled\n",
      "1 tsp sesame seeds\n",
      "Method\n",
      "STEP 1\n",
      "Combine the ponzu, vinegar, ginger and sesame oil in a bowl. Pat the tofu dry using kitchen paper and tear into chunks, then gently toss in the ponzu mixture.\n",
      "\n",
      "STEP 2\n",
      "Pour some boiling water over the edamame and set aside for 2 mins before draining thoroughly and seasoning with salt.\n",
      "\n",
      "STEP 3\n",
      "Divide the quinoa between bowls and top with the edamame, radishes and carrots. Spoon over the tofu and drizzle over the remaining dressing before scattering over the spring onions, seaweed and sesame seeds.\n"
     ]
    }
   ],
   "source": [
    "example = random.choice(DATA.ls())\n",
    "fp = example / \"recipe.txt\"\n",
    "recipe = fp.read_text()\n",
    "print(recipe)"
   ]
  },
  {
   "cell_type": "code",
   "execution_count": 7,
   "metadata": {},
   "outputs": [],
   "source": [
    "client = OpenAI(\n",
    "    # This is the default and can be omitted\n",
    "    api_key=os.environ.get(\"OPENAI_API_KEY\"),\n",
    ")\n",
    "assistant = client.beta.assistants.retrieve(ASST_ID)"
   ]
  },
  {
   "cell_type": "code",
   "execution_count": 52,
   "metadata": {},
   "outputs": [],
   "source": [
    "import logging\n",
    "\n",
    "# Set up logging configuration\n",
    "logging.basicConfig(level=logging.INFO)\n",
    "logging.getLogger(\"httpx\").setLevel(logging.WARNING)\n",
    "\n",
    "\n",
    "def get_response(recipe):\n",
    "    thread = client.beta.threads.create()\n",
    "    message = client.beta.threads.messages.create(\n",
    "        thread_id=thread.id,\n",
    "        role=\"user\",\n",
    "        content=recipe,\n",
    "    )\n",
    "    run = client.beta.threads.runs.create(\n",
    "        thread_id=thread.id, assistant_id=assistant.id, instructions=\"\"\n",
    "    )\n",
    "    status = None\n",
    "    logging.info(\"Waiting for response...\")\n",
    "    while status != \"completed\":\n",
    "        run = client.beta.threads.runs.retrieve(thread_id=thread.id, run_id=run.id)\n",
    "        status = run.status\n",
    "        time.sleep(1)\n",
    "    logging.info(\"Response received 🥳\")\n",
    "    messages = client.beta.threads.messages.list(thread_id=thread.id)\n",
    "    return messages\n",
    "\n",
    "\n",
    "def get_file_id(messages):\n",
    "    annotations = (\n",
    "        messages.model_dump()\n",
    "        .get(\"data\", [{}])[0]\n",
    "        .get(\"content\", [{}])[0]\n",
    "        .get(\"text\", {})\n",
    "        .get(\"annotations\", [{}])\n",
    "    )\n",
    "    if annotations:\n",
    "        file_id = annotations[0].get(\"file_path\", {}).get(\"file_id\")\n",
    "    else:\n",
    "        file_id = None\n",
    "    return file_id\n",
    "\n",
    "\n",
    "def download_file(file_id, fp):\n",
    "    api_response = client.files.with_raw_response.retrieve_content(file_id)\n",
    "    if api_response.status_code == 200:\n",
    "        content = api_response.content\n",
    "        with open(fp, \"wb\") as f:\n",
    "            f.write(content)\n",
    "        logging.info(f\"File downloaded successfully to {fp}\")"
   ]
  },
  {
   "cell_type": "code",
   "execution_count": 43,
   "metadata": {},
   "outputs": [
    {
     "name": "stderr",
     "output_type": "stream",
     "text": [
      "INFO:root:Processing ../../data/001\n",
      "INFO:__main__:Response received 🥳\n"
     ]
    },
    {
     "ename": "IndexError",
     "evalue": "list index out of range",
     "output_type": "error",
     "traceback": [
      "\u001b[0;31m---------------------------------------------------------------------------\u001b[0m",
      "\u001b[0;31mIndexError\u001b[0m                                Traceback (most recent call last)",
      "\u001b[1;32m/Users/JBremner/Documents/docs/projects/recipe-gantt/notebooks/001-get-data/02-data-gen.ipynb Cell 7\u001b[0m line \u001b[0;36m8\n\u001b[1;32m      <a href='vscode-notebook-cell:/Users/JBremner/Documents/docs/projects/recipe-gantt/notebooks/001-get-data/02-data-gen.ipynb#X21sZmlsZQ%3D%3D?line=5'>6</a>\u001b[0m recipe \u001b[39m=\u001b[39m recipe\u001b[39m.\u001b[39mread_text()\n\u001b[1;32m      <a href='vscode-notebook-cell:/Users/JBremner/Documents/docs/projects/recipe-gantt/notebooks/001-get-data/02-data-gen.ipynb#X21sZmlsZQ%3D%3D?line=6'>7</a>\u001b[0m messages \u001b[39m=\u001b[39m get_response(recipe)\n\u001b[0;32m----> <a href='vscode-notebook-cell:/Users/JBremner/Documents/docs/projects/recipe-gantt/notebooks/001-get-data/02-data-gen.ipynb#X21sZmlsZQ%3D%3D?line=7'>8</a>\u001b[0m file_id \u001b[39m=\u001b[39m get_file_id(messages)\n\u001b[1;32m      <a href='vscode-notebook-cell:/Users/JBremner/Documents/docs/projects/recipe-gantt/notebooks/001-get-data/02-data-gen.ipynb#X21sZmlsZQ%3D%3D?line=8'>9</a>\u001b[0m download_file(file_id, \u001b[39mdir\u001b[39m \u001b[39m/\u001b[39m \u001b[39m\"\u001b[39m\u001b[39mgantt.tsv\u001b[39m\u001b[39m\"\u001b[39m)\n",
      "\u001b[1;32m/Users/JBremner/Documents/docs/projects/recipe-gantt/notebooks/001-get-data/02-data-gen.ipynb Cell 7\u001b[0m line \u001b[0;36m3\n\u001b[1;32m     <a href='vscode-notebook-cell:/Users/JBremner/Documents/docs/projects/recipe-gantt/notebooks/001-get-data/02-data-gen.ipynb#X21sZmlsZQ%3D%3D?line=31'>32</a>\u001b[0m \u001b[39mdef\u001b[39;00m \u001b[39mget_file_id\u001b[39m(messages):\n\u001b[1;32m     <a href='vscode-notebook-cell:/Users/JBremner/Documents/docs/projects/recipe-gantt/notebooks/001-get-data/02-data-gen.ipynb#X21sZmlsZQ%3D%3D?line=32'>33</a>\u001b[0m     file_id \u001b[39m=\u001b[39m (\n\u001b[0;32m---> <a href='vscode-notebook-cell:/Users/JBremner/Documents/docs/projects/recipe-gantt/notebooks/001-get-data/02-data-gen.ipynb#X21sZmlsZQ%3D%3D?line=33'>34</a>\u001b[0m         messages\u001b[39m.\u001b[39;49mmodel_dump()\n\u001b[1;32m     <a href='vscode-notebook-cell:/Users/JBremner/Documents/docs/projects/recipe-gantt/notebooks/001-get-data/02-data-gen.ipynb#X21sZmlsZQ%3D%3D?line=34'>35</a>\u001b[0m         \u001b[39m.\u001b[39;49mget(\u001b[39m\"\u001b[39;49m\u001b[39mdata\u001b[39;49m\u001b[39m\"\u001b[39;49m, [{}])[\u001b[39m0\u001b[39;49m]\n\u001b[1;32m     <a href='vscode-notebook-cell:/Users/JBremner/Documents/docs/projects/recipe-gantt/notebooks/001-get-data/02-data-gen.ipynb#X21sZmlsZQ%3D%3D?line=35'>36</a>\u001b[0m         \u001b[39m.\u001b[39;49mget(\u001b[39m\"\u001b[39;49m\u001b[39mcontent\u001b[39;49m\u001b[39m\"\u001b[39;49m, [{}])[\u001b[39m0\u001b[39;49m]\n\u001b[1;32m     <a href='vscode-notebook-cell:/Users/JBremner/Documents/docs/projects/recipe-gantt/notebooks/001-get-data/02-data-gen.ipynb#X21sZmlsZQ%3D%3D?line=36'>37</a>\u001b[0m         \u001b[39m.\u001b[39;49mget(\u001b[39m\"\u001b[39;49m\u001b[39mtext\u001b[39;49m\u001b[39m\"\u001b[39;49m, {})\n\u001b[1;32m     <a href='vscode-notebook-cell:/Users/JBremner/Documents/docs/projects/recipe-gantt/notebooks/001-get-data/02-data-gen.ipynb#X21sZmlsZQ%3D%3D?line=37'>38</a>\u001b[0m         \u001b[39m.\u001b[39;49mget(\u001b[39m\"\u001b[39;49m\u001b[39mannotations\u001b[39;49m\u001b[39m\"\u001b[39;49m, [{}])[\u001b[39m0\u001b[39;49m]\n\u001b[1;32m     <a href='vscode-notebook-cell:/Users/JBremner/Documents/docs/projects/recipe-gantt/notebooks/001-get-data/02-data-gen.ipynb#X21sZmlsZQ%3D%3D?line=38'>39</a>\u001b[0m         \u001b[39m.\u001b[39mget(\u001b[39m\"\u001b[39m\u001b[39mfile_path\u001b[39m\u001b[39m\"\u001b[39m, {})\n\u001b[1;32m     <a href='vscode-notebook-cell:/Users/JBremner/Documents/docs/projects/recipe-gantt/notebooks/001-get-data/02-data-gen.ipynb#X21sZmlsZQ%3D%3D?line=39'>40</a>\u001b[0m         \u001b[39m.\u001b[39mget(\u001b[39m\"\u001b[39m\u001b[39mfile_id\u001b[39m\u001b[39m\"\u001b[39m)\n\u001b[1;32m     <a href='vscode-notebook-cell:/Users/JBremner/Documents/docs/projects/recipe-gantt/notebooks/001-get-data/02-data-gen.ipynb#X21sZmlsZQ%3D%3D?line=40'>41</a>\u001b[0m     )\n\u001b[1;32m     <a href='vscode-notebook-cell:/Users/JBremner/Documents/docs/projects/recipe-gantt/notebooks/001-get-data/02-data-gen.ipynb#X21sZmlsZQ%3D%3D?line=41'>42</a>\u001b[0m     \u001b[39mreturn\u001b[39;00m file_id\n",
      "\u001b[0;31mIndexError\u001b[0m: list index out of range"
     ]
    }
   ],
   "source": [
    "missed = []\n",
    "for dir in DATA.ls():\n",
    "    logging.info(f\"Processing {dir}\")\n",
    "    recipe = dir / \"recipe.txt\"\n",
    "    recipe = recipe.read_text()\n",
    "    messages = get_response(recipe)\n",
    "    file_id = get_file_id(messages)\n",
    "    if file_id is not None:\n",
    "        download_file(file_id, dir / \"gantt.tsv\")\n",
    "    else:\n",
    "        logging.info(\"No file produced\")\n",
    "        missed.append(dir)\n",
    "\n",
    "# save missed to a file\n",
    "with open(\"missed.txt\", \"w\") as f:\n",
    "    f.write(\"\\n\".join([str(x) for x in missed]))"
   ]
  },
  {
   "cell_type": "code",
   "execution_count": null,
   "metadata": {},
   "outputs": [],
   "source": []
  }
 ],
 "metadata": {
  "kernelspec": {
   "display_name": "playg",
   "language": "python",
   "name": "python3"
  },
  "language_info": {
   "codemirror_mode": {
    "name": "ipython",
    "version": 3
   },
   "file_extension": ".py",
   "mimetype": "text/x-python",
   "name": "python",
   "nbconvert_exporter": "python",
   "pygments_lexer": "ipython3",
   "version": "3.8.13"
  }
 },
 "nbformat": 4,
 "nbformat_minor": 2
}
