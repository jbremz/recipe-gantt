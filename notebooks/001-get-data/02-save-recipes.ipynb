{
 "cells": [
  {
   "cell_type": "markdown",
   "metadata": {},
   "source": [
    "# Save recipes\n",
    "\n",
    "Just a quick notebook to scrape a load of recipes to train on."
   ]
  },
  {
   "cell_type": "code",
   "execution_count": 1,
   "metadata": {},
   "outputs": [],
   "source": [
    "from recipe_scrapers import scrape_me\n",
    "from pathlib import Path\n",
    "import random\n",
    "import pandas as pd\n",
    "import numpy as np\n",
    "from tqdm.notebook import tqdm\n",
    "import re\n",
    "\n",
    "Path.ls = lambda x: list(x.iterdir())"
   ]
  },
  {
   "cell_type": "code",
   "execution_count": 2,
   "metadata": {},
   "outputs": [],
   "source": [
    "PROJECT = Path(\"../../\")\n",
    "\n",
    "PROMPT = PROJECT / \"prompt.txt\"\n",
    "\n",
    "DATA = PROJECT / \"data\"\n",
    "\n",
    "RECIPES_URLS = DATA / \"20170107-061401-recipeitems.json\""
   ]
  },
  {
   "cell_type": "code",
   "execution_count": 3,
   "metadata": {},
   "outputs": [],
   "source": [
    "def extract_ingredients_and_steps(scraper):\n",
    "    recipe_dict = scraper.to_json()\n",
    "\n",
    "    ingredients = recipe_dict[\"ingredients\"]\n",
    "\n",
    "    instructions = recipe_dict[\"instructions_list\"]\n",
    "    if len(instructions) == 1:  # the method split didn't work\n",
    "        instructions = instructions[0].split(\".\")\n",
    "        instructions = [i.strip() + \".\" for i in instructions]\n",
    "        instructions = [i for i in instructions if i != \".\"]\n",
    "\n",
    "    return ingredients, instructions\n",
    "\n",
    "\n",
    "def format_recipe(ingredients, instructions):\n",
    "    formatted_text = \"Ingredients\\n\\n\"\n",
    "    for ingredient in ingredients:\n",
    "        formatted_text += ingredient + \"\\n\"\n",
    "\n",
    "    formatted_text += \"\\nMethod\\n\\n\"\n",
    "    for i, step in enumerate(instructions):\n",
    "        formatted_text += f\"{i+1}. {step}\\n\"\n",
    "\n",
    "    return formatted_text"
   ]
  },
  {
   "cell_type": "markdown",
   "metadata": {},
   "source": [
    "## Scraper site setup\n",
    "\n",
    "These are the sites that are supported by this scraper:"
   ]
  },
  {
   "cell_type": "code",
   "execution_count": 4,
   "metadata": {},
   "outputs": [
    {
     "data": {
      "text/plain": [
       "296"
      ]
     },
     "execution_count": 4,
     "metadata": {},
     "output_type": "execute_result"
    }
   ],
   "source": [
    "sites = (DATA / \"recipe-sites.txt\").read_text().splitlines()[1:]\n",
    "len(sites)"
   ]
  },
  {
   "cell_type": "code",
   "execution_count": 5,
   "metadata": {},
   "outputs": [
    {
     "name": "stdout",
     "output_type": "stream",
     "text": [
      "['claudia.abril.com.br', 'abuelascounter.com', 'acouplecooks.com', 'addapinch.com', 'afghankitchenrecipes.com', 'akispetretzikis.com', 'ah.nl', 'allrecipes.com', 'alltommat.se', 'altonbrown.com', 'amazingribs.com', 'ambitiouskitchen.com', 'archanaskitchen.com', 'arla.se', 'atelierdeschefs.fr', 'averiecooks.com', 'barefootcontessa.com', 'baking-sense.com', 'bakingmischief.com', 'bbc.com', 'bbc.co.uk', 'bbcgoodfood.com', 'bettybossi.ch', 'bettycrocker.com', 'biancazapatka.com', 'bigoven.com', 'blueapron.com', 'bluejeanchef.com', 'bonappetit.com', 'bodybuilding.com', 'bongeats.com', 'bowlofdelicious.com', 'briceletbaklava.ch', 'budgetbytes.com', 'carlsbadcravings.com', 'castironketo.net', 'cdkitchen.com', 'chefkoch.de', 'chefnini.com', 'chefsavvy.com', 'closetcooking.com', 'comidinhasdochef.com', 'cookeatshare.com', 'cookieandkate.com', 'cookingcircle.com', 'cookinglight.com', 'cookpad.com', 'cookstr.com', 'cook-talk.com', 'coop.se', 'copykat.com', 'costco.com', 'countryliving.com', 'creativecanning.com', 'cucchiaio.it', 'cuisineaz.com', 'cybercook.com.br', 'davidlebovitz.com', 'delish.com', 'domesticate-me.com', 'downshiftology.com', 'dr.dk', 'eatingbirdfood.com', 'eatingwell.com', 'eatsmarter.com', 'eatsmarter.de', 'eatwell101.com', 'eatwhattonight.com', 'elavegan.com', 'emmikochteinfach.de', 'ethanchlebowski.com', 'epicurious.com', 'errenskitchen.com', 'recipes.farmhousedelivery.com', 'farmhouseonboone.com', 'fattoincasadabenedetta.it', 'fifteenspatulas.com', 'finedininglovers.com', 'fitmencook.com', 'food.com', 'food52.com', 'foodandwine.com', 'foodnetwork.com', 'foodrepublic.com', 'forksoverknives.com', 'forktospoon.com', 'fredriksfika.allas.se', '750g.com', 'gesund-aktiv.com', 'giallozafferano.it', 'gimmesomeoven.com', 'godt.no', 'goodfooddiscoveries.com', 'goodhousekeeping.com', 'recietas.globo.com', 'gonnawantseconds.com', 'gousto.co.uk', 'grandfrais.com', 'greatbritishchefs.com', 'grimgrains.com', 'grouprecipes.com', 'halfbakedharvest.com', 'handletheheat.com', 'hassanchef.com', 'headbangerskitchen.com', 'heb.com', 'hellofresh.com', 'hellofresh.co.uk', 'hellofresh.de', 'hellofresh.fr', 'hellofresh.nl', 'hellofresh.ie', 'hersheyland.com', 'homechef.com', 'hostthetoast.com', 'ica.se', 'receitas.ig.com.br', 'im-worthy.com', 'indianhealthyrecipes.com', 'innit.com', 'insanelygoodrecipes.com', 'inspiralized.com', 'izzycooking.com', 'jamieoliver.com', 'jimcooksfoodgood.com', 'joyfoodsunshine.com', 'juliegoodwin.com.au', 'justataste.com', 'justbento.com', 'justonecookbook.com', 'kennymcgovern.com', 'kingarthurbaking.com', 'kitchenstories.com', 'kochbar.de', 'kochbucher.com', 'koket.se', 'kptncook.com', 'kuchnia-domowa.pl', 'kwestiasmaku.com', 'latelierderoxane.com', 'leanandgreenrecipes.net', 'lecremedelacrumb.com', 'lecker.de', 'lekkerensimpel.com', 'lifestyleofafoodie.com', 'littlespicejar.com', 'livelytable.com', 'lovingitvegan.com', 'maangchi.com', 'madensverden.dk', 'madewithlau.com', 'madsvin.com', 'marleyspoon.com.au', 'marleyspoon.com', 'marleyspoon.de', 'marleyspoon.at', 'marleyspoon.be', 'marleyspoon.nl', 'marleyspoon.se', 'marmiton.org', 'marthastewart.com', 'matprat.no', 'meljoulwan.com', 'melskitchencafe.com', 'mindmegette.hu', 'minimalistbaker.com', 'ministryofcurry.com', 'misya.info', 'mob.co.uk', 'momswithcrockpots.com', 'monsieur-cuisine.com', 'motherthyme.com', 'mybakingaddiction.com', 'mykitchen101.com', 'mykitchen101en.com', 'myplate.gov', 'myrecipes.com', 'healthyeating.nhlbi.nih.gov', 'nibbledish.com', 'nhs.uk', 'nosalty.hu', 'nourishedbynutrition.com', 'nrk.no', 'number-2-pencil.com', 'nutritionbynathalie.com', 'nutritionfacts.org', 'cooking.nytimes.com', 'ohsheglows.com', 'omnivorescookbook.com', 'onceuponachef.com', 'owen-han.com', '101cookbooks.com', 'paleorunningmomma.com', 'panelinha.com.br', 'paninihappy.com', 'persnicketyplates.com', 'pickuplimes.com', 'pingodoce.pt', 'pinkowlkitchen.com', 'platingpixels.com', 'plowingthroughlife.com', 'popsugar.com', 'practicalselfreliance.com', 'pressureluckcooking.com', 'primaledgehealth.com', 'projectgezond.nl', 'przepisy.pl', 'purelypope.com', 'purplecarrot.com', 'rachlmansfield.com', 'rainbowplantlife.com', 'realfood.tesco.com', 'realsimple.com', 'receitasnestle.com.br', 'reciperunner.com', 'recipetineats.com', 'redhousespice.com', 'reishunger.de', 'rezeptwelt.de', 'ricetta.it', 'rosannapansino.com', 'rutgerbakt.nl', 'saboresajinomoto.com.br', 'sallysbakingaddiction.com', 'sallys-blog.de', 'saltpepperskillet.com', 'saveur.com', 'seriouseats.com', 'simple-veganista.com', 'simplyquinoa.com', 'simplyrecipes.com', 'simplywhisked.com', 'simply-cookit.com', 'skinnytaste.com', 'sobors.hu', 'southerncastiron.com', 'southernliving.com', 'spendwithpennies.com', 'springlane.de', 'staysnatched.com', 'steamykitchen.com', 'streetkitchen.hu', 'sunbasket.com', 'sundpaabudget.dk', 'sunset.com', 'sweetcsdesigns.com', 'sweetpeasandsaffron.com', 'taste.com.au', 'tasteofhome.com', 'tastesbetterfromscratch.com', 'tastesoflizzyt.com', 'tasty.co', 'tastykitchen.com', 'theclevercarrot.com', 'theexpertguides.com', 'thehappyfoodie.co.uk', 'thekitchenmagpie.com', 'thekitchencommunity.org', 'thekitchn.com', 'themagicalslowcooker.com', 'themodernproper.com', 'thepioneerwoman.com', 'therecipecritic.com', 'thespruceeats.com', 'thevintagemixer.com', 'thewoksoflife.com', 'thinlicious.com', 'timesofindia.com', 'tine.no', 'tidymom.net', 'tudogostoso.com.br', 'twopeasandtheirpod.com', 'uitpaulineskeuken.nl', 'usapears.org', 'valdemarsro.dk', 'vanillaandbean.com', 'vegetarbloggen.no', 'vegolosi.it', 'vegrecipesofindia.com', 'waitrose.com', 'watchwhatueat.com', 'wearenotmartha.com', 'weightwatchers.com', 'wellplated.com', 'whatsgabycooking.com', 'wholefoodsmarket.com', 'wholefoodsmarket.co.uk', 'williams-sonoma.com', 'woop.co.nz', 'woolworths.com.au', 'en.wikibooks.org', 'yemek.com', 'yummly.com', 'zaubertopf.de', 'zeit.de', 'zenbelly.com']\n"
     ]
    }
   ],
   "source": [
    "pattern = r\"https?://(?:www\\.)?([^/]+)\"\n",
    "\n",
    "site_names = [\n",
    "    re.search(pattern, url).group(1) for url in sites if re.search(pattern, url)\n",
    "]\n",
    "print(site_names)"
   ]
  },
  {
   "cell_type": "markdown",
   "metadata": {},
   "source": [
    "## Get recipe urls\n",
    "\n",
    "We have a list of sites but we want actual recipe URLs - I've found a dataset with some of these."
   ]
  },
  {
   "cell_type": "code",
   "execution_count": 6,
   "metadata": {},
   "outputs": [],
   "source": [
    "rdf = pd.read_json(RECIPES_URLS, lines=True)"
   ]
  },
  {
   "cell_type": "markdown",
   "metadata": {},
   "source": [
    "Let's do the same regex as before to get our main domains:"
   ]
  },
  {
   "cell_type": "code",
   "execution_count": 7,
   "metadata": {},
   "outputs": [
    {
     "data": {
      "text/plain": [
       "simple_url\n",
       "tastykitchen.com            66700\n",
       "allrecipes.com              47086\n",
       "bbcgoodfood.com             15550\n",
       "epicurious.com               9787\n",
       "chow.com                     8312\n",
       "bbc.co.uk                    6844\n",
       "williams-sonoma.com          5366\n",
       "jamieoliver.com              1797\n",
       "lovefood.com                 1746\n",
       "browneyedbaker.com            945\n",
       "smittenkitchen.com            894\n",
       "cookincanuck.com              767\n",
       "biggirlssmallkitchen.com      749\n",
       "steamykitchen.com             735\n",
       "thepioneerwoman.com           705\n",
       "whatsgabycooking.com          666\n",
       "aspicyperspective.com         585\n",
       "101cookbooks.com              582\n",
       "recipage.com                  572\n",
       "naturallyella.com             418\n",
       "bonappetit.com                361\n",
       "cookieandkate.com             323\n",
       "elanaspantry.com              290\n",
       "bunkycooks.com                264\n",
       "picky-palate.com              259\n",
       "eatthelove.com                230\n",
       "seriouseats.com               220\n",
       "thevintagemixer.com           180\n",
       "delishhh.com                  161\n",
       "paninihappy.com                71\n",
       "foodnetwork.com                59\n",
       "thelittlekitchen.net           53\n",
       "Name: count, dtype: int64"
      ]
     },
     "execution_count": 7,
     "metadata": {},
     "output_type": "execute_result"
    }
   ],
   "source": [
    "rdf[\"simple_url\"] = rdf[\"url\"].str.extract(pattern)\n",
    "rdf[\"simple_url\"].value_counts()"
   ]
  },
  {
   "cell_type": "markdown",
   "metadata": {},
   "source": [
    "Filter to the sites that are supported by the scraper:"
   ]
  },
  {
   "cell_type": "code",
   "execution_count": 8,
   "metadata": {},
   "outputs": [
    {
     "data": {
      "text/plain": [
       "17"
      ]
     },
     "execution_count": 8,
     "metadata": {},
     "output_type": "execute_result"
    }
   ],
   "source": [
    "common_sites = np.intersect1d(\n",
    "    rdf[\"simple_url\"].unique().astype(str), np.array(site_names)\n",
    ")\n",
    "len(common_sites)"
   ]
  },
  {
   "cell_type": "code",
   "execution_count": 9,
   "metadata": {},
   "outputs": [
    {
     "data": {
      "text/plain": [
       "simple_url\n",
       "tastykitchen.com        66700\n",
       "allrecipes.com          47086\n",
       "bbcgoodfood.com         15550\n",
       "epicurious.com           9787\n",
       "bbc.co.uk                6844\n",
       "williams-sonoma.com      5366\n",
       "jamieoliver.com          1797\n",
       "steamykitchen.com         735\n",
       "thepioneerwoman.com       705\n",
       "whatsgabycooking.com      666\n",
       "101cookbooks.com          582\n",
       "bonappetit.com            361\n",
       "cookieandkate.com         323\n",
       "seriouseats.com           220\n",
       "thevintagemixer.com       180\n",
       "paninihappy.com            71\n",
       "foodnetwork.com            59\n",
       "Name: count, dtype: int64"
      ]
     },
     "execution_count": 9,
     "metadata": {},
     "output_type": "execute_result"
    }
   ],
   "source": [
    "rdf = rdf[rdf[\"simple_url\"].isin(common_sites)].reset_index(drop=True)\n",
    "rdf[\"simple_url\"].value_counts()"
   ]
  },
  {
   "cell_type": "markdown",
   "metadata": {},
   "source": [
    "These sites I've anecdotally found just cause problems so I'll remove them:"
   ]
  },
  {
   "cell_type": "code",
   "execution_count": 10,
   "metadata": {},
   "outputs": [],
   "source": [
    "problematic_sites = [\n",
    "    \"allrecipes.com\",\n",
    "    \"foodnetwork.com\",\n",
    "    \"epicurious.com\",\n",
    "    \"williams-sonoma.com\",\n",
    "]\n",
    "\n",
    "rdf = rdf.loc[~rdf[\"simple_url\"].isin(problematic_sites)].reset_index(drop=True)"
   ]
  },
  {
   "cell_type": "code",
   "execution_count": 11,
   "metadata": {},
   "outputs": [
    {
     "data": {
      "text/plain": [
       "simple_url\n",
       "tastykitchen.com        66700\n",
       "bbcgoodfood.com         15550\n",
       "bbc.co.uk                6844\n",
       "jamieoliver.com          1797\n",
       "steamykitchen.com         735\n",
       "thepioneerwoman.com       705\n",
       "whatsgabycooking.com      666\n",
       "101cookbooks.com          582\n",
       "bonappetit.com            361\n",
       "cookieandkate.com         323\n",
       "seriouseats.com           220\n",
       "thevintagemixer.com       180\n",
       "paninihappy.com            71\n",
       "Name: count, dtype: int64"
      ]
     },
     "execution_count": 11,
     "metadata": {},
     "output_type": "execute_result"
    }
   ],
   "source": [
    "rdf[\"simple_url\"].value_counts()"
   ]
  },
  {
   "cell_type": "markdown",
   "metadata": {},
   "source": [
    "Might need to do some proper cutdown of things like tasty kitchen, otherwise the model might get really good at certain types of recipe and not others."
   ]
  },
  {
   "cell_type": "code",
   "execution_count": 12,
   "metadata": {},
   "outputs": [
    {
     "data": {
      "text/plain": [
       "simple_url\n",
       "101cookbooks.com        71\n",
       "bbc.co.uk               71\n",
       "bbcgoodfood.com         71\n",
       "bonappetit.com          71\n",
       "cookieandkate.com       71\n",
       "jamieoliver.com         71\n",
       "paninihappy.com         71\n",
       "seriouseats.com         71\n",
       "steamykitchen.com       71\n",
       "tastykitchen.com        71\n",
       "thepioneerwoman.com     71\n",
       "thevintagemixer.com     71\n",
       "whatsgabycooking.com    71\n",
       "Name: count, dtype: int64"
      ]
     },
     "execution_count": 12,
     "metadata": {},
     "output_type": "execute_result"
    }
   ],
   "source": [
    "sdf = (\n",
    "    rdf.groupby(\"simple_url\")\n",
    "    .apply(lambda x: x.sample(n=rdf[\"simple_url\"].value_counts().min()))\n",
    "    .reset_index(drop=True)\n",
    ")\n",
    "sdf[\"simple_url\"].value_counts()"
   ]
  },
  {
   "cell_type": "code",
   "execution_count": 13,
   "metadata": {},
   "outputs": [
    {
     "data": {
      "text/plain": [
       "923"
      ]
     },
     "execution_count": 13,
     "metadata": {},
     "output_type": "execute_result"
    }
   ],
   "source": [
    "len(sdf)"
   ]
  },
  {
   "cell_type": "markdown",
   "metadata": {},
   "source": [
    "Remove ones with duplicate titles:"
   ]
  },
  {
   "cell_type": "code",
   "execution_count": 14,
   "metadata": {},
   "outputs": [
    {
     "data": {
      "text/plain": [
       "905"
      ]
     },
     "execution_count": 14,
     "metadata": {},
     "output_type": "execute_result"
    }
   ],
   "source": [
    "sdf = sdf.loc[\n",
    "    ~sdf[\"name\"].isin(sdf[\"name\"].value_counts()[sdf[\"name\"].value_counts() > 1].index)\n",
    "]\n",
    "len(sdf)"
   ]
  },
  {
   "cell_type": "markdown",
   "metadata": {},
   "source": [
    "Maybe this is enough to get going with (will take a while to create my gantt dataset otherwise)."
   ]
  },
  {
   "cell_type": "code",
   "execution_count": 16,
   "metadata": {},
   "outputs": [
    {
     "data": {
      "application/vnd.jupyter.widget-view+json": {
       "model_id": "788547b14ca34c7c94d2fd69654e5095",
       "version_major": 2,
       "version_minor": 0
      },
      "text/plain": [
       "  0%|          | 0/905 [00:00<?, ?it/s]"
      ]
     },
     "metadata": {},
     "output_type": "display_data"
    }
   ],
   "source": [
    "failed = []\n",
    "for i, row in tqdm(sdf.iterrows(), total=len(sdf)):\n",
    "    dir = DATA / \"recipes\" / row[\"name\"]\n",
    "    try:\n",
    "        scraper = scrape_me(row[\"url\"])\n",
    "        ingredients, steps = extract_ingredients_and_steps(scraper)\n",
    "        if len(ingredients) <= 2 or len(steps) <= 3:\n",
    "            failed.append(row[\"url\"])\n",
    "            continue\n",
    "        recipe = format_recipe(ingredients, steps)\n",
    "        dir.mkdir(exist_ok=True)\n",
    "        with open(dir / \"recipe.txt\", \"w\") as f:\n",
    "            f.write(recipe)\n",
    "    except Exception as e:\n",
    "        failed.append(row[\"url\"])\n",
    "        continue"
   ]
  },
  {
   "cell_type": "code",
   "execution_count": 17,
   "metadata": {},
   "outputs": [
    {
     "data": {
      "text/plain": [
       "479"
      ]
     },
     "execution_count": 17,
     "metadata": {},
     "output_type": "execute_result"
    }
   ],
   "source": [
    "len(failed)"
   ]
  },
  {
   "cell_type": "code",
   "execution_count": 18,
   "metadata": {},
   "outputs": [
    {
     "data": {
      "text/plain": [
       "426"
      ]
     },
     "execution_count": 18,
     "metadata": {},
     "output_type": "execute_result"
    }
   ],
   "source": [
    "succ_recipes = (DATA / \"recipes\").glob(\"*/recipe.txt\")\n",
    "succ_recipes = [recipe.parts[-2] for recipe in succ_recipes if recipe.is_file()]\n",
    "len(succ_recipes)"
   ]
  },
  {
   "cell_type": "code",
   "execution_count": 21,
   "metadata": {},
   "outputs": [
    {
     "data": {
      "text/plain": [
       "426"
      ]
     },
     "execution_count": 21,
     "metadata": {},
     "output_type": "execute_result"
    }
   ],
   "source": [
    "sdf = sdf.loc[sdf[\"name\"].isin(succ_recipes)].reset_index(drop=True)\n",
    "len(sdf)"
   ]
  },
  {
   "cell_type": "markdown",
   "metadata": {},
   "source": [
    "Now I need to save the metadata."
   ]
  },
  {
   "cell_type": "code",
   "execution_count": 22,
   "metadata": {},
   "outputs": [],
   "source": [
    "# sdf.to_csv(DATA / \"recipes-meta.csv\", index=False)"
   ]
  },
  {
   "cell_type": "markdown",
   "metadata": {},
   "source": [
    "## Sample quality\n",
    "\n",
    "Eyeball a few just to make sure it went ok."
   ]
  },
  {
   "cell_type": "code",
   "execution_count": 39,
   "metadata": {},
   "outputs": [
    {
     "name": "stdout",
     "output_type": "stream",
     "text": [
      "Silverdollar Socca\n",
      "\n",
      "Ingredients\n",
      "\n",
      "1 1/2 cup / 6 3/4 ounces chickpea flour\n",
      "1 1/2 teaspoons fine sea salt\n",
      "2 large eggs\n",
      "1/2 cup / 120 ml water\n",
      "1 cup / 240 ml buttermilk\n",
      "1/4 cup / 60 ml extra virgin olive oil\n",
      "2 tablespoons black sesame seeds\n",
      "1 teaspoon yellow mustard seeds (optional)\n",
      "\n",
      "Method\n",
      "\n",
      "1. Combine the chickpea flour, salt, eggs, water, buttermilk, olive oil and sesame seeds in a large bowl.\n",
      "2. Whisk until the batter is smooth.\n",
      "3. You're after a batter that is on the thin side, similar to a crepe batter.\n",
      "4. Allow it to sit for at least 15 minutes, so the chickpea flour absorbs the buttermilk, resulting in a more tender pancake.\n",
      "5. Stir again.\n",
      "\n",
      "Kofta hara masala (Indian meatballs in a green sauce)\n",
      "\n",
      "Ingredients\n",
      "\n",
      "500g/1 lb minced lamb\n",
      "2 or 3 spring onions, finely chopped\n",
      "2 green chillies, finely chopped\n",
      "1 tbsp fresh coriander, chopped\n",
      "1 tsp ground allspice\n",
      "1 tsp ground cinnamon\n",
      "1 tsp garam masala\n",
      "1 tsp freshly ground black pepper\n",
      "1 tsp garlic paste\n",
      "1 tsp ginger paste\n",
      "salt to taste\n",
      "75ml/2½fl oz vegetable oil\n",
      "2 large onions, finely sliced\n",
      "150ml/5fl oz plain yoghurt\n",
      "3 green chillies\n",
      "1 small bunch fresh coriander\n",
      "1 tbsp fresh mint, chopped\n",
      "1 tsp garlic paste\n",
      "1 tsp ginger paste\n",
      "1 tsp ground cumin seeds\n",
      "1 tsp garam masala\n",
      "1 tsp ground fennel seeds\n",
      "½ tsp freshly ground black pepper\n",
      "¼ tsp ground turmeric\n",
      "1 tsp lemon juice\n",
      "salt to taste\n",
      "800ml/2 pints hot water\n",
      "handful toasted flaked almonds\n",
      "1 tbsp fried onions (reserved from onions fried for green sauce)\n",
      "2 tbsp single cream\n",
      "1 tbsp freshly chopped mint\n",
      "400g/14oz basmati rice\n",
      "2 lemons, juice from both and zest of 1 only\n",
      "1cm/½in piece root ginger, finely sliced into julienne strips\n",
      "pinch salt\n",
      "1 tsp ghee (clarified butter)\n",
      "800ml/1 pint 9fl oz water\n",
      "pinch turmeric\n",
      "\n",
      "Method\n",
      "\n",
      "1. To make the koftas, mix all the kofta ingredients together in a mixing bowl and combine thoroughly.\n",
      "2. Shape into golf ball sizes.\n",
      "3. For the green sauce, heat the oil in a non-stick saucepan. Add the sliced onions and fry until they are golden-brown. Remove and keep to one side, reserving the oil in the pan.\n",
      "4. Place all the other green sauce ingredients, except for the reserved oil and water, into a food processor or blender. Add all but one tablespoon of the fried onions (which you will use for the garnish) and blend to form a smooth paste.\n",
      "5. Using the same saucepan in which the onions have been fried, reheat the reserved oil and add the spice paste to the pan. Fry for at least 2-5 minutes.\n",
      "6. Add the hot water to the pan and bring to the boil. Make sure that the sauce is bubbling, then add the koftas. Bring back to the boil and simmer for at least 30-45 minutes, partially covered, to allow the sauce to thicken and reduce.\n",
      "7. Once the oil starts to separate from the sauce, the koftas should be ready.\n",
      "8. For the lemon and ginger rice, wash the rice in hot water then rinse several times in cold water to remove as much starch as possible. Cover the rice in plenty of cold water, add a little salt and soak for at least half an hour, then drain.\n",
      "9. Place the lemon juice and zest, half of the ginger julienne, salt and a teaspoon of ghee into a large, heavy-bottomed pan. Add the water and bring to the boil. Allow the ginger to soften slightly then add the drained rice and turmeric. Stir twice and cook the rice until the liquid is reduced.\n",
      "10. When the liquid starts to bubble, you will notice that the rice will form craters. As soon as this happens, reduce the heat to a simmer. Place a dry cloth over the pot then cover with a lid. Leave to simmer for at least 10 minutes. Do not open the lid during this stage.\n",
      "11. After 10 minutes remove from heat.\n",
      "12. To serve, garnish the koftas with the reserved fried onions, toasted flaked almonds, cream and fresh mint and serve with the lemon and ginger rice.\n",
      "\n",
      "Roasted Eggplant and Pickled Beet Sandwiches\n",
      "\n",
      "Ingredients\n",
      "\n",
      "1 large eggplant (1 1/2 pounds sliced into 1/2-inch-thick rounds\n",
      "1/4 cup olive oil\n",
      "1/4 teaspoon smoked paprika\n",
      "Kosher salt, ground pepper\n",
      "1 garlic clove, finely grated\n",
      "1/2 cup mayonnaise\n",
      "2 teaspoons Sherry vinegar\n",
      "4 scallions, thinly sliced\n",
      "1 cup mixed tender fresh herb leaves (such as flat-leaf parsley, dill, and mint), torn if large\n",
      "1/2 cup chopped pickled beets\n",
      "1/4 cup chopped pitted oil-cured olives\n",
      "2 tablespoons drained capers\n",
      "1 tablespoon olive oil\n",
      "4 6x4-inch pieces focaccia, split\n",
      "6 ounces feta, thinly sliced or crumbled\n",
      "\n",
      "Method\n",
      "\n",
      "1. Preheat oven to 400°. Place eggplant slices on a large rimmed baking sheet and rub both sides with oil. Season with paprika, salt, and pepper. Roast until golden and tender, 30-40 minutes.\n",
      "2. Whisk garlic, mayonnaise, and vinegar in a small bowl; set aside.\n",
      "3. Toss scallions, herbs, beets, olives, capers, and oil in a medium bowl to combine.\n",
      "4. Spread cut sides of focaccia with garlic mayo. Build sandwiches with focaccia, eggplant, feta, and beet salad.\n",
      "5. DO AHEAD: Eggplant can be roasted 1 day ahead. Cover and chill.\n",
      "\n",
      "Slow Cooked Carne Asada Tacos\n",
      "\n",
      "Ingredients\n",
      "\n",
      "10 ounces, weight Rotel Diced Tomatoes With Green Chilies, Mild\n",
      "15 ounces, weight Canned Tomato Sauce\n",
      "2 cloves Garlic, Diced Small\n",
      "½ cups Onion, Diced\n",
      "½ whole Jalapeño, Seeded, Diced\n",
      "1 whole Lime, Juiced\n",
      "3 Tablespoons Cilantro\n",
      "1 Tablespoon Chili Powder\n",
      "1 teaspoon Cumin\n",
      "2 pounds Flank Steak\n",
      "12 ounces, fluid Can Beer (I Used Bud Light)\n",
      "16 whole Corn Tortillas\n",
      "Your Favorite Taco Toppings\n",
      "\n",
      "Method\n",
      "\n",
      "1. In a bowl, add canned tomatoes, tomato sauce, garlic, onion, jalapeno, lime juice, cilantro, chili powder and cumin; mix together.\n",
      "2. Add flank steak to crockpot and top with tomato mixture. Pour beer in crockpot. Cook for 8 hours on low.\n",
      "3. Shred steak with a fork. Serve 2 ounces of meat onto each tortilla. Serving size is 2 carne asada tacos.\n",
      "4. Top your tacos with avocado, guacamole, salsa, tomatoes, cotija cheese, hot sauce and jalapenos.\n",
      "\n",
      "Chicken Parmesan\n",
      "\n",
      "Ingredients\n",
      "\n",
      "½ cup extra-virgin olive oil\n",
      "1 medium onion, finely chopped\n",
      "8 garlic cloves, crushed\n",
      "2 Tbsp. double-concentrated tomato paste\n",
      "¾ tsp. crushed red pepper flakes\n",
      "2 28-oz. cans tomato purée\n",
      "2 tsp. Diamond Crystal or 1¼ tsp. kosher salt\n",
      "1½ tsp. sugar\n",
      "4 skinless, boneless chicken breasts (about 3 lb. total)\n",
      "5 garlic cloves, finely grated\n",
      "⅓ cup fresh lemon juice\n",
      "¼ cup extra-virgin olive oil\n",
      "1½ tsp. Diamond Crystal or 1 tsp. Morton kosher salt, plus more\n",
      "4 large eggs\n",
      "1 Tbsp. garlic powder\n",
      "1 Tbsp. onion powder\n",
      "4 cups panko (Japanese breadcrumbs)\n",
      "2 cups all-purpose flour\n",
      "12 oz. low-moisture mozzarella\n",
      "8 oz. pre-grated Parmesan\n",
      "Vegetable oil (for frying; 3–4 cups)\n",
      "2 Tbsp. finely chopped parsley\n",
      "\n",
      "Method\n",
      "\n",
      "1. Heat oil in a large Dutch oven or other heavy pot over medium. Add onion and garlic and cook, stirring often, until softened but not browned, about 5 minutes. Add tomato paste and red pepper flakes and cook, stirring, until paste is slightly darkened in color (it should start to fry in the oil), about 1 minute. Add tomato purée, salt, and sugar, and bring to a simmer. Partially cover pot with a lid (to avoid splattering), reduce heat so sauce is at a very bare simmer, and cook, stirring occasionally, until slightly thickened, 40–50 minutes. Do ahead: Sauce can be made 2 days ahead. Let cool. Transfer to an airtight container; cover and chill.\n",
      "2. Working one at a time, place a chicken breast on a cutting board so a short side is towards you and holding a chef’s knife parallel to breast, slice along the middle of a long side to make a slit. Continue to slice until you are about ½\" from the other side. Open breast up like a book and place between 2 sheets of wax paper or plastic wrap. Using a meat mallet or a rolling pin, pound until ⅓\" thick (not making it super thin will keep it from overcooking).\n",
      "3. Combine garlic, lemon juice, and olive oil in a large baking dish. Season chicken cutlets all over with salt (about ¾ tsp. Diamond Crystal or ½ tsp. Morton kosher salt per cutlet). Add to marinade and turn to coat. Let sit at least 20 minutes and up to 1 hour. (The lemon juice will turn the flesh opaque, but that’s nothing to worry about.)\n",
      "4. Make a dredging station: Whisk eggs, garlic powder, onion powder, ½ tsp. Diamond Crystal or Morton kosher salt, and 2 Tbsp. water in a large shallow bowl (cake pans or pie plates work great). Place panko in another large shallow bowl and flour in a third. Whisk remaining 1 tsp. Diamond Crystal or ½ tsp. Morton kosher salt into flour.\n",
      "5. Working with 1 cutlet at a time and letting any excess marinade drip back into baking dish, dredge cutlets in flour, knocking off excess, then dip into egg wash, letting excess drip back into bowl. Dredge in panko, pressing firmly to adhere, ensuring no bare spots remain. Gently shake off excess and place cutlets on a rimmed baking sheet. Chill at least 20 minutes and up to 8 hours.\n",
      "6. Set a wire rack inside a second large rimmed baking sheet. Grate mozzarella on the large holes of a box grater into a medium bowl; add Parmesan and toss to combine.\n",
      "7. Pour vegetable oil into a large high-sided heavy skillet to come 1\" up sides. Heat over medium until an instant-read thermometer registers 400°. Working in batches to avoid crowding the pan and returning oil to 400° after each batch, very carefully lower cutlets into skillet with tongs and cook until deep golden brown, about 2 minutes per side. Transfer cutlets to prepared rack; season with salt.\n",
      "8. Heat broiler. Arrange cutlets side by side in 2 large baking dishes or separately in 4 smaller baking dishes. Generously spoon some sauce over each cutlet (you want to mostly cover them but allow some corners and edges to remain uncovered). Spoon remaining sauce into baking dishes around the cutlets. Cover cutlets with cheese mixture (again, leaving some of those crispy edges uncovered). Broil until cheese is melted, bubbling, and browned in spots, about 4 minutes. Remove chicken from broiler. Let cool slightly and sprinkle with parsley.\n",
      "\n",
      "Andy Ricker's Phat Thai (Stir-Fried Rice Noodles With Shrimp, Tofu, and Peanuts)\n",
      "\n",
      "Ingredients\n",
      "\n",
      "Shrimp and Sauce:\n",
      "1 tablespoon medium-size dried shrimp, rinsed and patted dry\n",
      "3 tablespoons Naam Makham (Tamarind water)\n",
      "2 tablespoons plus 3/4 teaspoon Naam Cheuam Naam Taan Piip (Palm sugar simple syrup)\n",
      "1 1/2 tablespoons Thai fish sauce\n",
      "Stir-Fry:\n",
      "4 ounces (about 2 cups, tightly packed) semi-dried thin, flat rice noodles (sometimes labeled “phat thai”), see note\n",
      "2 tablespoons rendered pork fat or vegetable oil\n",
      "1 large egg, at room temperature\n",
      "1 1/4 ounces unflavored pressed tofu (firmer than “extra firm”), cut into small pieces (about 1 inch long, 1/2 inch wide, and 1/4 inch thick), about 1/4 cup\n",
      "1 tablespoon shredded salted radish, soaked in water 10 minutes then drained\n",
      "2 ounces bean sprouts (about 1 cup, lightly packed)\n",
      "2 ounces medium shrimp, (about 4), shelled and deveined\n",
      "1/4 cup very coarsely chopped (about 1-inch lengths) garlic chives, plus a pinch or two for finishing\n",
      "2 generous tablespoons coarsely chopped unsalted roasted peanuts\n",
      "To Serve Alongside:\n",
      "2 small lime wedges (preferably from a Key lime)\n",
      "Fish sauce\n",
      "Granulated sugar\n",
      "Phrik Naam Som (Vinegar-soaked chiles)\n",
      "Phrik Phon Khua (Toasted-chile powder)\n",
      "\n",
      "Method\n",
      "\n",
      "1. Toast the shrimp and make the sauce: Heat a small dry pan or wok over medium heat, add the dried shrimp, and cook, stirring frequently, until they’re dry all the way through and slightly crispy, about 5 minutes. Set them aside in a small bowl. Covered at room temperature, they’ll keep for up to 1 week.\n",
      "2. Combine the tamarind water, simple syrup, and fish sauce in a small bowl and stir well. Measure 1/4 cup plus 2 tablespoons, discarding the rest.\n",
      "3. Soak the noodles and stir-fry the dish: Soak the noodles in lukewarm water until they’re very pliable but not fully soft, about 20 minutes. Drain them well and snip them into approximately 8-inch lengths just before stir-frying.\n",
      "4. Heat a large, heavy skillet over medium-high heat (or a wok over very high heat), add the pork fat, and swirl it to coat the sides. When it begins to smoke lightly, crack the egg into the center of the pan (it should spit and sizzle violently and the whites should bubble and puff). Add the tofu, radish, and dried shrimp beside the egg. If you’re using a skillet, decrease the heat to medium; if you’re using a wok, keep the heat very high.\n",
      "5. Cook, stirring everything but the egg, until the edges of the egg are light golden brown, about 1 minute, then flip the egg (it’s fine if the yolk breaks), break the egg into several pieces with the spatula, and stir everything together well.\n",
      "6. Add the noodles and bean sprouts, and stir-fry (constantly stirring, scooping, and flipping) until the noodles and bean sprouts have softened slightly, about 1 minute.\n",
      "7. Add the shrimp, then stir the tamarind mixture once more and add it to the pan. Stir-fry, making sure the shrimp get plenty of time on the hot surface, until they are cooked through, just about all the liquid has evaporated, and the noodles are fully tender and no longer look gloppy or clumpy, 2 to 4 minutes.\n",
      "8. Add the chives and 1 tablespoon of the peanuts. Stir-fry briefly, then transfer it all to a plate, sprinkle on the remaining peanuts and chives, and serve with the lime wedges. Season to taste with the fish sauce, sugar, vinegar-soaked chiles, and chile powder.\n",
      "9. Note: Semi-dried noodles (fairly pliable rather than brittle, like fully dried) are widely available in the refrigerated sections of Asian markets. If you can’t find semi-dried noodles, you can substitute 2 1/4 ounces of fully dried “phat thai” noodles soaked in lukewarm water for about 10 extra minutes (to approximate the texture of semi-dried noodles).\n",
      "\n",
      "Brussels sprouts with pancetta\n",
      "\n",
      "Ingredients\n",
      "\n",
      "1kg brussels sprouts\n",
      "100g thinly sliced pancetta, cut into 2cm strips\n",
      "about 4 tbsp hot goose fat\n",
      "shredded sage\n",
      "\n",
      "Method\n",
      "\n",
      "1. Blanch the brussels sprouts in a pan of boiling salted water for 3 mins, then drain and tip into a bowl of iced water to cool quickly.\n",
      "2. Drain well again and set aside until nearly ready to serve.\n",
      "3. Sauté the pancetta in the hot goose fat until crisp.\n",
      "4. Toss in the sprouts and stir-fry for 2-3 mins, adding the sage to serve.\n",
      "\n",
      "Chocolate Chip Hazelnut Cookie Recipe - Steamy Kitchen Recipes\n",
      "\n",
      "Ingredients\n",
      "\n",
      "3 1/2 cups all-purpose flour (476 grams)\n",
      "1 1/4 teaspoons fine sea salt\n",
      "3/4 teaspoon baking soda\n",
      "1/2 teaspoon baking powder\n",
      "8 ounces unsalted butter, at room temperature (2 sticks)\n",
      "1 cup sugar (200 grams)\n",
      "1 cup packed brown sugar (200 grams)\n",
      "1 1/2 teaspoons pure vanilla extract\n",
      "2 large eggs, at room temperature\n",
      "12 ounces semisweet or bittersweet chocolate, coarsely chopped (or 2 cups chocolate chips)\n",
      "1 1/2 cups hazelnut or almond flour (150 grams)\n",
      "\n",
      "Method\n",
      "\n",
      "1. In a medium bowl, whisk the flour, salt, baking soda and baking powder together.\n",
      "2. In the bowl of the stand mixer fitted with a paddle attachment, beat the butter on medium speed for 1 minute, until smooth. Add the sugar and brown sugar and beat for 2 minutes, until well blended. Beat in the vanilla.\n",
      "3. Add in the eggs, one at a time, beating for minute after each egg goes in. Reduce the speed to low and add in the flour mixture in 4-5 additions, mixing only until each addition is just incorporated (about 5 seconds for each addition - don't over-mix!)\n",
      "4. Still on low speed, mix in the chocolate chips and the hazelnut (or almond) flour. Refrigerate dough for 2 hours or up to 3 days. If you are planning to freeze a portion - you can scoop out 1 1/2-inch rounds of dough to freeze.\n",
      "5. Preheat oven to 350F with rack centered. Line two baking sheets with parchment paper. Scoop out 1 1/2\" rounds of dough onto baking sheet, about 2-inches apart.\n",
      "6. Bake the cookies one sheet at a time for 8 minutes, and then, using a spatula, gently press each mound down just a little; rotate the baking sheet when returning to oven. Bake for another 7 minutes, or so, until the cookies are pale brown. They'll still be slightly soft in the center, but that's fine- they'll firm up as they cool. Transfer to rack to cool. Repeat with remainder of dough, always using a cool baking sheet.\n",
      "\n",
      "Slow Cooker Beef Stew\n",
      "\n",
      "Ingredients\n",
      "\n",
      "1 pound Boneless Beef For Stew\n",
      "2 Tablespoons All-purpose Flour\n",
      "½ Tablespoons Olive Oil\n",
      "3 cups Hot Water\n",
      "3 whole Beef Bouillon Cubes\n",
      "½ whole Yellow Onion\n",
      "1 Tablespoon Red Cooking Wine\n",
      "6 ounces, weight Tomato Paste\n",
      "1 teaspoon Dried Rosemary\n",
      "1 teaspoon Dried Thyme\n",
      "1 whole Dried Bay Leaf\n",
      "Salt And Pepper, to taste\n",
      "2 cups Baby Carrots\n",
      "4 whole Medium Russet Potatoes, Diced Large\n",
      "\n",
      "Method\n",
      "\n",
      "1. In a bowl, mix together your thawed beef along with the flour. Toss until each piece is coated.\n",
      "2. Coat a large skillet with the olive oil and let it heat up on a medium heat setting. Place the beef into the skillet and let brown on all sides.\n",
      "3. Into a slow cooker, place your water along with the beef bouillon cubes. Set the slow cooker on the low heat setting. Add in your beef once it has browned on all sides.\n",
      "4. In the same skillet that you browned you beef in (do not rinse), add in the diced onion. Let the onions become translucent then add in the cooking wine in order to get off anything that might be sticking to the pan. Stir it around a bit and then add all of the contents of the skillet into the slow cooker.\n",
      "5. Add the tomato paste, rosemary, thyme, and bay leaf into the slow cooker. Season with salt and pepper as preferred. Add the carrots (no need to cut up the baby carrots) and diced potatoes into the slow cooker as well. Let cook for 6-8 hours on the low setting, stirring occasionally. Cook until you’ve reached your preferred consistency.\n",
      "\n",
      "Banana, blueberry and pecan pancakes\n",
      "\n",
      "Ingredients\n",
      "\n",
      "100g/3½oz porridge oats\n",
      "50g/1¾oz pecan nuts, roughly chopped\n",
      "1 tsp baking powder\n",
      "pinch sea salt\n",
      "1 ripe banana, peeled and mashed\n",
      "150ml/5fl oz coconut milk or almond milk\n",
      "2 tsp coconut oil, for frying\n",
      "200g/7oz blueberries\n",
      "100g/3½oz blueberries\n",
      "3 tbsp caster sugar\n",
      "2 bananas, peeled and cut into thin slices\n",
      "a few pecan nuts, finely chopped\n",
      "1 lime, cut into wedges\n",
      "8 tbsp maple syrup (optional)\n",
      "\n",
      "Method\n",
      "\n",
      "1. Preheat the oven to 120C/100C Fan/Gas ½.\n",
      "2. In a food processor, pulse the oats until you have a scruffy flour. Transfer to a large bowl. Add the pecans, baking powder and salt.\n",
      "3. In a separate bowl, mix the mashed banana with the milk (you can do this in the food processor, if you like). Beat the banana mixture into the dry ingredients and leave the batter to sit for a few minutes.\n",
      "4. For the blueberry compôte, put the blueberries and sugar in a small pan with a teaspoon of water and cook for 3-4 minutes, or until you have a thick shiny compôte. Set aside until ready to serve.\n",
      "5. Heat a non-stick pan over a medium heat. Add the banana slices and fry on both sides in the dry pan until golden-brown and caramelised. Keep warm in the oven.\n",
      "6. Put the pan back on the heat and add a little coconut oil or butter. Drop in a generous tablespoon of batter for each pancake. Once the sides are cooked and bubbles have risen to the top, scatter over a handful of blueberries and flip the pancake over. Cook for another couple of minutes on the other side, or until lightly coloured. (The pancakes will stay a little moist in the middle because of the banana, so don’t worry.) Keep them warm in the oven while you cook the remaining pancakes.\n",
      "7. Serve the pancakes in a stack with the banana slices. Add some chopped pecans and a squeeze of lime, and, if you like, with a drizzle of maple syrup. Serve the compôte on the side.\n",
      "\n"
     ]
    }
   ],
   "source": [
    "sample = sdf.sample(10)\n",
    "\n",
    "for i, row in sample.iterrows():\n",
    "    fp = DATA / \"recipes\" / row[\"name\"] / \"recipe.txt\"\n",
    "    print(row[\"name\"] + \"\\n\")\n",
    "    print(fp.read_text())"
   ]
  },
  {
   "cell_type": "markdown",
   "metadata": {},
   "source": [
    "These look good to me. Some formatting issues but maybe we train the model to deal with those."
   ]
  }
 ],
 "metadata": {
  "kernelspec": {
   "display_name": "recipe-gantt",
   "language": "python",
   "name": "python3"
  },
  "language_info": {
   "codemirror_mode": {
    "name": "ipython",
    "version": 3
   },
   "file_extension": ".py",
   "mimetype": "text/x-python",
   "name": "python",
   "nbconvert_exporter": "python",
   "pygments_lexer": "ipython3",
   "version": "3.8.13"
  }
 },
 "nbformat": 4,
 "nbformat_minor": 2
}
