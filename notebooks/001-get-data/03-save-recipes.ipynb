{
 "cells": [
  {
   "cell_type": "markdown",
   "metadata": {},
   "source": [
    "# Save recipes\n",
    "\n",
    "Just a quick notebook to speed up the process of saving my source recipes."
   ]
  },
  {
   "cell_type": "code",
   "execution_count": 5,
   "metadata": {},
   "outputs": [],
   "source": [
    "from recipe_scrapers import scrape_me\n",
    "from pathlib import Path\n",
    "\n",
    "Path.ls = lambda x: list(x.iterdir())"
   ]
  },
  {
   "cell_type": "code",
   "execution_count": 7,
   "metadata": {},
   "outputs": [],
   "source": [
    "PROJECT = Path(\"../../\")\n",
    "\n",
    "PROMPT = PROJECT / \"prompt.txt\"\n",
    "\n",
    "DATA = PROJECT / \"data\""
   ]
  },
  {
   "cell_type": "code",
   "execution_count": null,
   "metadata": {},
   "outputs": [],
   "source": [
    "from recipe_scrapers import scrape_me\n",
    "\n",
    "URL = (\n",
    "    \"https://www.punchfork.com/recipe/Italian-Sausage-and-Peppers-Sandwich-Serious-Eats\"\n",
    ")\n",
    "\n",
    "scraper = scrape_me(URL, wild_mode=True)"
   ]
  },
  {
   "cell_type": "code",
   "execution_count": 20,
   "metadata": {},
   "outputs": [],
   "source": [
    "def get_recipe(scraper):\n",
    "    recipe_dict = scraper.to_json()\n",
    "\n",
    "    formatted_text = \"Ingredients\\n\\n\"\n",
    "    for ingredient in recipe_dict[\"ingredients\"]:\n",
    "        formatted_text += ingredient + \"\\n\"\n",
    "\n",
    "    formatted_text += \"\\nMethod\\n\\n\"\n",
    "    for i, step in enumerate(recipe_dict[\"instructions_list\"]):\n",
    "        formatted_text += f\"{i+1}. {step}\\n\"\n",
    "\n",
    "    return formatted_text"
   ]
  },
  {
   "cell_type": "code",
   "execution_count": 14,
   "metadata": {},
   "outputs": [
    {
     "data": {
      "text/plain": [
       "296"
      ]
     },
     "execution_count": 14,
     "metadata": {},
     "output_type": "execute_result"
    }
   ],
   "source": [
    "sites = (DATA / \"recipe-sites.txt\").read_text().splitlines()[1:]\n",
    "len(sites)"
   ]
  },
  {
   "cell_type": "code",
   "execution_count": 17,
   "metadata": {},
   "outputs": [
    {
     "ename": "ModuleNotFoundError",
     "evalue": "No module named 'requests_html'",
     "output_type": "error",
     "traceback": [
      "\u001b[0;31m---------------------------------------------------------------------------\u001b[0m",
      "\u001b[0;31mModuleNotFoundError\u001b[0m                       Traceback (most recent call last)",
      "\u001b[1;32m/Users/JBremner/Documents/docs/projects/recipe-gantt/notebooks/001-get-data/03-save-recipes.ipynb Cell 8\u001b[0m line \u001b[0;36m4\n\u001b[1;32m      <a href='vscode-notebook-cell:/Users/JBremner/Documents/docs/projects/recipe-gantt/notebooks/001-get-data/03-save-recipes.ipynb#X20sZmlsZQ%3D%3D?line=1'>2</a>\u001b[0m \u001b[39mimport\u001b[39;00m \u001b[39murllib\u001b[39;00m\n\u001b[1;32m      <a href='vscode-notebook-cell:/Users/JBremner/Documents/docs/projects/recipe-gantt/notebooks/001-get-data/03-save-recipes.ipynb#X20sZmlsZQ%3D%3D?line=2'>3</a>\u001b[0m \u001b[39mimport\u001b[39;00m \u001b[39mpandas\u001b[39;00m \u001b[39mas\u001b[39;00m \u001b[39mpd\u001b[39;00m\n\u001b[0;32m----> <a href='vscode-notebook-cell:/Users/JBremner/Documents/docs/projects/recipe-gantt/notebooks/001-get-data/03-save-recipes.ipynb#X20sZmlsZQ%3D%3D?line=3'>4</a>\u001b[0m \u001b[39mfrom\u001b[39;00m \u001b[39mrequests_html\u001b[39;00m \u001b[39mimport\u001b[39;00m HTML\n\u001b[1;32m      <a href='vscode-notebook-cell:/Users/JBremner/Documents/docs/projects/recipe-gantt/notebooks/001-get-data/03-save-recipes.ipynb#X20sZmlsZQ%3D%3D?line=4'>5</a>\u001b[0m \u001b[39mfrom\u001b[39;00m \u001b[39mrequests_html\u001b[39;00m \u001b[39mimport\u001b[39;00m HTMLSession\n",
      "\u001b[0;31mModuleNotFoundError\u001b[0m: No module named 'requests_html'"
     ]
    }
   ],
   "source": [
    "import requests\n",
    "import urllib\n",
    "import pandas as pd\n",
    "from requests_html import HTML\n",
    "from requests_html import HTMLSession"
   ]
  },
  {
   "cell_type": "markdown",
   "metadata": {},
   "source": [
    "[This maybe](https://practicaldatascience.co.uk/data-science/how-to-scrape-google-search-results-using-python)"
   ]
  },
  {
   "cell_type": "code",
   "execution_count": null,
   "metadata": {},
   "outputs": [],
   "source": [
    "import requests\n",
    "from bs4 import BeautifulSoup\n",
    "\n",
    "url = \"http://www.google.com/search?q={}&hl=en\"\n",
    "\n",
    "\n",
    "def scrape_google_links(query):\n",
    "    res = requests.get(\n",
    "        url.format(query.replace(\" \", \"+\")), headers={\"User-Agent\": \"Mozilla/5.0\"}\n",
    "    )\n",
    "    soup = BeautifulSoup(res.text, \"lxml\")\n",
    "    for result in soup.select(\".kCrYT > a > .BNeawe:nth-of-type(2)\"):\n",
    "        print(result.text.replace(\" › \", \"/\"))\n",
    "\n",
    "\n",
    "if __name__ == \"__main__\":\n",
    "    scrape_google_links(\"cyber security\")"
   ]
  },
  {
   "cell_type": "code",
   "execution_count": 21,
   "metadata": {},
   "outputs": [
    {
     "name": "stdout",
     "output_type": "stream",
     "text": [
      "Ingredients\n",
      "\n",
      "vegetable oil\n",
      "2 large free-range eggs\n",
      "100 g plain flour\n",
      "100 ml milk\n",
      "\n",
      "Method\n",
      "\n",
      "1. Preheat the oven to 225°C/425°F/gas 9.\n",
      "2. Get yourself a cupcake tin and add a tiny splash of vegetable oil into each of the 12 compartments.\n",
      "3. Pop into the oven for 10 to 15 minutes so the oil gets really hot.\n",
      "4. Meanwhile, beat the eggs, flour, milk and a pinch of salt and pepper together in a jug until light and smooth.\n",
      "5. Carefully remove the tray from the oven, then confidently pour the batter evenly into the compartments.\n",
      "6. Pop the tray back in the oven to cook for 12 to 15 minutes, or until risen and golden.\n",
      "\n"
     ]
    }
   ],
   "source": [
    "print(get_recipe(scraper))"
   ]
  },
  {
   "cell_type": "markdown",
   "metadata": {},
   "source": []
  }
 ],
 "metadata": {
  "kernelspec": {
   "display_name": "recipe-gantt",
   "language": "python",
   "name": "python3"
  },
  "language_info": {
   "codemirror_mode": {
    "name": "ipython",
    "version": 3
   },
   "file_extension": ".py",
   "mimetype": "text/x-python",
   "name": "python",
   "nbconvert_exporter": "python",
   "pygments_lexer": "ipython3",
   "version": "3.8.13"
  }
 },
 "nbformat": 4,
 "nbformat_minor": 2
}
