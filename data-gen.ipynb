{
 "cells": [
  {
   "cell_type": "markdown",
   "metadata": {},
   "source": [
    "I'm going to automate my first pass data GPT-4 generation using the API. "
   ]
  },
  {
   "cell_type": "code",
   "execution_count": 1,
   "metadata": {},
   "outputs": [],
   "source": [
    "from pathlib import Path\n",
    "import os\n",
    "from openai import OpenAI\n",
    "from dotenv import load_dotenv\n",
    "import random\n",
    "\n",
    "load_dotenv()\n",
    "\n",
    "Path.ls = lambda x: list(x.iterdir())"
   ]
  },
  {
   "cell_type": "code",
   "execution_count": 2,
   "metadata": {},
   "outputs": [
    {
     "data": {
      "text/plain": [
       "1"
      ]
     },
     "execution_count": 2,
     "metadata": {},
     "output_type": "execute_result"
    }
   ],
   "source": [
    "ASST_ID = os.environ.get(\"ASST_ID\")\n",
    "\n",
    "DATA = Path(\"data\")\n",
    "len(DATA.ls())"
   ]
  },
  {
   "cell_type": "code",
   "execution_count": 3,
   "metadata": {},
   "outputs": [
    {
     "name": "stdout",
     "output_type": "stream",
     "text": [
      "Ingredients\n",
      "1 tbsp ponzu sauce\n",
      "½ tbsp rice vinegar\n",
      "5g ginger, peeled and grated\n",
      "1 tsp sesame oil\n",
      "300g silken tofu\n",
      "100g edamame beans\n",
      "250g pouch cooked quinoa\n",
      "100g radishes, sliced\n",
      "2 carrots, peeled into ribbons\n",
      "2 spring onions, finely sliced\n",
      "2 small seaweed thins, crumbled\n",
      "1 tsp sesame seeds\n",
      "Method\n",
      "STEP 1\n",
      "Combine the ponzu, vinegar, ginger and sesame oil in a bowl. Pat the tofu dry using kitchen paper and tear into chunks, then gently toss in the ponzu mixture.\n",
      "\n",
      "STEP 2\n",
      "Pour some boiling water over the edamame and set aside for 2 mins before draining thoroughly and seasoning with salt.\n",
      "\n",
      "STEP 3\n",
      "Divide the quinoa between bowls and top with the edamame, radishes and carrots. Spoon over the tofu and drizzle over the remaining dressing before scattering over the spring onions, seaweed and sesame seeds.\n"
     ]
    }
   ],
   "source": [
    "example = random.choice(DATA.ls())\n",
    "fp = example / \"recipe.txt\"\n",
    "with open(fp) as f:\n",
    "    recipe = f.read()\n",
    "print(recipe)"
   ]
  },
  {
   "cell_type": "code",
   "execution_count": 4,
   "metadata": {},
   "outputs": [
    {
     "data": {
      "text/plain": [
       "True"
      ]
     },
     "execution_count": 4,
     "metadata": {},
     "output_type": "execute_result"
    }
   ],
   "source": [
    "load_dotenv()"
   ]
  },
  {
   "cell_type": "code",
   "execution_count": 5,
   "metadata": {},
   "outputs": [],
   "source": [
    "client = OpenAI(\n",
    "    # This is the default and can be omitted\n",
    "    api_key=os.environ.get(\"OPENAI_API_KEY\"),\n",
    ")\n",
    "assistant = client.beta.assistants.retrieve(ASST_ID)"
   ]
  },
  {
   "cell_type": "code",
   "execution_count": 6,
   "metadata": {},
   "outputs": [],
   "source": [
    "thread = client.beta.threads.create()"
   ]
  },
  {
   "cell_type": "code",
   "execution_count": 7,
   "metadata": {},
   "outputs": [],
   "source": [
    "message = client.beta.threads.messages.create(\n",
    "    thread_id=thread.id,\n",
    "    role=\"user\",\n",
    "    content=recipe,\n",
    ")"
   ]
  },
  {
   "cell_type": "code",
   "execution_count": 8,
   "metadata": {},
   "outputs": [],
   "source": [
    "run = client.beta.threads.runs.create(\n",
    "    thread_id=thread.id, assistant_id=assistant.id, instructions=\"\"\n",
    ")"
   ]
  },
  {
   "cell_type": "code",
   "execution_count": 25,
   "metadata": {},
   "outputs": [
    {
     "data": {
      "text/plain": [
       "'completed'"
      ]
     },
     "execution_count": 25,
     "metadata": {},
     "output_type": "execute_result"
    }
   ],
   "source": [
    "run = client.beta.threads.runs.retrieve(thread_id=thread.id, run_id=run.id)\n",
    "run.status"
   ]
  },
  {
   "cell_type": "code",
   "execution_count": 26,
   "metadata": {},
   "outputs": [],
   "source": [
    "messages = client.beta.threads.messages.list(thread_id=thread.id)"
   ]
  },
  {
   "cell_type": "code",
   "execution_count": 40,
   "metadata": {},
   "outputs": [
    {
     "name": "stderr",
     "output_type": "stream",
     "text": [
      "/var/folders/5z/c8p82vrj5f333s_5w192fbw80000gn/T/ipykernel_20651/1001018818.py:1: PydanticDeprecatedSince20: The `dict` method is deprecated; use `model_dump` instead. Deprecated in Pydantic V2.0 to be removed in V3.0. See Pydantic V2 Migration Guide at https://errors.pydantic.dev/2.5/migration/\n",
      "  messages.dict()['data'][1]['content'][0]['text']['value']\n"
     ]
    },
    {
     "data": {
      "text/plain": [
       "'The intermediate table, represented as a pandas DataFrame, is as follows:\\n\\n|  | STEP 1: Combine the ponzu, vinegar, ginger and sesame oil in a bowl. Pat the tofu dry using kitchen paper and tear into chunks, then gently toss in the ponzu mixture. | STEP 2: Pour some boiling water over the edamame and set aside for 2 mins before draining thoroughly and seasoning with salt. | STEP 3: Divide the quinoa between bowls and top with the edamame, radishes and carrots. Spoon over the tofu and drizzle over the remaining dressing before scattering over the spring onions, seaweed and sesame seeds. |\\n|---|---|---|---|\\n| 1 tbsp ponzu sauce | X |  |  |\\n| ½ tbsp rice vinegar | X |  |  |\\n| 5g ginger, peeled and grated | X |  |  |\\n| 1 tsp sesame oil | X |  |  |\\n| 300g silken tofu | X |  |  |\\n| 100g edamame beans |  | X | X |\\n| 250g pouch cooked quinoa |  |  | X |\\n| 100g radishes, sliced |  |  | X |\\n| 2 carrots, peeled into ribbons |  |  | X |\\n| 2 spring onions, finely sliced |  |  | X |\\n| 2 small seaweed thins, crumbled |  |  | X |\\n| 1 tsp sesame seeds |  |  | X |'"
      ]
     },
     "execution_count": 40,
     "metadata": {},
     "output_type": "execute_result"
    }
   ],
   "source": [
    "messages.dict()[\"data\"][1][\"content\"][0][\"text\"][\"value\"]"
   ]
  }
 ],
 "metadata": {
  "kernelspec": {
   "display_name": "playg",
   "language": "python",
   "name": "python3"
  },
  "language_info": {
   "codemirror_mode": {
    "name": "ipython",
    "version": 3
   },
   "file_extension": ".py",
   "mimetype": "text/x-python",
   "name": "python",
   "nbconvert_exporter": "python",
   "pygments_lexer": "ipython3",
   "version": "3.8.13"
  }
 },
 "nbformat": 4,
 "nbformat_minor": 2
}
